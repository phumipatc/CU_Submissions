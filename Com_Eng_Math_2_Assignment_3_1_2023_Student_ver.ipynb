{
  "cells": [
    {
      "cell_type": "markdown",
      "metadata": {
        "id": "RXCVGID3wsii"
      },
      "source": [
        "# <b> Only problem 1 and 6 will be graded. </b>"
      ]
    },
    {
      "cell_type": "markdown",
      "metadata": {
        "id": "MZk9zl2FjBJJ"
      },
      "source": [
        "## Problem 1 : Integer program\n",
        "\n",
        "\n",
        "Solve the following program by using linprog function and branch and bound method:\n",
        "$$Objective : max(3x + 4y) $$\n",
        "\\begin{equation*}\n",
        "s.t.\n",
        "\\begin{split}\n",
        "  x + 2y & \\leq 7 \\\\\n",
        "  3x  - y & \\geq 0 \\\\\n",
        "  x -  y & \\leq  2 \\\\\n",
        "  x, y  \\in Z^+ \\cup \\{0\\} \\\\\n",
        "\\end{split}\n",
        "\\end{equation*}\n",
        "\n",
        "\n"
      ]
    },
    {
      "cell_type": "code",
      "execution_count": 9,
      "metadata": {
        "id": "58c9u8IC1aFq"
      },
      "outputs": [
        {
          "name": "stdout",
          "output_type": "stream",
          "text": [
            "Main Objective\n",
            "17.666666666666668 [3.66666667 1.66666667 0.         9.33333333 0.        ] \n",
            "\n",
            "Subobjective x<=3\n",
            "17.0 [3. 2. 0. 7. 1.]\n",
            "Subobjective x>=4\n",
            "False \n",
            "\n",
            "The solution is in subresult 1\n",
            "x = 3.0 y = 2.0\n"
          ]
        },
        {
          "name": "stderr",
          "output_type": "stream",
          "text": [
            "C:\\Users\\bossy\\AppData\\Local\\Temp\\ipykernel_2936\\1670852590.py:15: DeprecationWarning: `method='simplex'` is deprecated and will be removed in SciPy 1.11.0. Please use one of the HiGHS solvers (e.g. `method='highs'`) in new code.\n",
            "  result = linprog(A_eq=A, b_eq=b, c=c, bounds=bounds, method='simplex')\n",
            "C:\\Users\\bossy\\AppData\\Local\\Temp\\ipykernel_2936\\1670852590.py:26: DeprecationWarning: `method='simplex'` is deprecated and will be removed in SciPy 1.11.0. Please use one of the HiGHS solvers (e.g. `method='highs'`) in new code.\n",
            "  subresult1 = linprog(A_eq=A, b_eq=b, c=c, bounds=bounds, method='simplex')\n",
            "C:\\Users\\bossy\\AppData\\Local\\Temp\\ipykernel_2936\\1670852590.py:29: DeprecationWarning: `method='simplex'` is deprecated and will be removed in SciPy 1.11.0. Please use one of the HiGHS solvers (e.g. `method='highs'`) in new code.\n",
            "  subresult2 = linprog(A_eq=A, b_eq=b, c=c, bounds=bounds, method='simplex')\n"
          ]
        }
      ],
      "source": [
        "import numpy as np\n",
        "from scipy.optimize import linprog\n",
        "\n",
        "# objective function\n",
        "c = [-3, -4, 0, 0, 0]\n",
        "\n",
        "# left hand\n",
        "A = [[1,2,1,0,0],[3,-1,0,-1,0],[1,-1,0,0,1]]\n",
        "b = [7,0,2]\n",
        "\n",
        "# bounds (0, None) on every var\n",
        "bounds = [(0, None)] * 5\n",
        "\n",
        "# solve\n",
        "result = linprog(A_eq=A, b_eq=b, c=c, bounds=bounds, method='simplex')\n",
        "print(\"Main Objective\")\n",
        "print(-result.fun, result.x, \"\\n\")\n",
        "\n",
        "# branch and bound\n",
        "\n",
        "# Based on the result\n",
        "# x = 3.66666667, y = 1.66666667\n",
        "# not integer, branch  on x\n",
        "# solve new LP relaxtions\n",
        "bounds[0] = (0,3)\n",
        "subresult1 = linprog(A_eq=A, b_eq=b, c=c, bounds=bounds, method='simplex')\n",
        "\n",
        "bounds[0] = (4, None)\n",
        "subresult2 = linprog(A_eq=A, b_eq=b, c=c, bounds=bounds, method='simplex')\n",
        "\n",
        "print(\"Subobjective x<=3\")\n",
        "print(-subresult1.fun, subresult1.x)\n",
        "\n",
        "print(\"Subobjective x>=4\")\n",
        "print(subresult2.success, \"\\n\")\n",
        "\n",
        "# the solution is integer in sub result 1\n",
        "print(\"The solution is in subresult 1\")\n",
        "print(\"x =\",subresult1.x[0],\"y =\",subresult1.x[1])"
      ]
    },
    {
      "cell_type": "markdown",
      "metadata": {
        "id": "lYrVL4IDLjma"
      },
      "source": [
        "# For problem 2-6: you can use Excel to find the answer."
      ]
    },
    {
      "cell_type": "markdown",
      "metadata": {
        "id": "t4aSAxFCjCpa"
      },
      "source": [
        "## Problem 2 : Bin packing problem\n",
        "\n",
        "Solve problem 6 in Assignment 1, with only integer solutions allowed."
      ]
    },
    {
      "cell_type": "code",
      "execution_count": null,
      "metadata": {
        "id": "EI_CyLgQ1Z07"
      },
      "outputs": [],
      "source": [
        "pass"
      ]
    },
    {
      "cell_type": "markdown",
      "metadata": {
        "id": "GlxhJvKtEI0s"
      },
      "source": [
        "## Problem 3 : Knapsack problem\n",
        "\n",
        "An evil thief has broken into someone's house, looking for stealing some valuables. After successfully lockpicking the safe, he now accesses six valuable things, which are shown in the table below. Unfortunately, the bag he used for carrying the stolen goods could only store 20 kg. Which item should he steal to maximize the value of the stolen goods? Formulate the problem as an integer program and solve for an optimal solution.\n",
        "\n",
        "\n",
        "|  Item | weight (kg) |  value(THB) |\n",
        "|:-:|:-:|:-:|\n",
        "| Magnificent statuette | 10 | 500,000 |\n",
        "| Golden watch | 2 | 50,000 |\n",
        "| Rare coin| 0.01 | 1000 |\n",
        "| Pearl necklace| 7 | 300,000 |\n",
        "| Diamond| 12 | 800,000 |\n",
        "| Painting| 8 | 320,000 |\n",
        "\n",
        "\n"
      ]
    },
    {
      "cell_type": "code",
      "execution_count": null,
      "metadata": {
        "id": "XGm7Snj7EI8C"
      },
      "outputs": [],
      "source": [
        "pass"
      ]
    },
    {
      "cell_type": "markdown",
      "metadata": {
        "id": "KqcxWQFHkvts"
      },
      "source": [
        "## Problem 4.1:  Hamtaro empire (Set cover problem)\n",
        "\n",
        "After the first crisis (see 2020 Quiz 1 problem 8 for more details) was averted , Hamtaro now starts planning to distribute his product to the neighboring towns in the region. In this region, there are 9 towns located at the position (x, y). The factories could be planted in any town, but the goods could only be delivered within 50 km from the planted location. To avoid repeating the same mistake, Hamtaro determines that the planted factory covers every town in the entire region. To minimized the number of planted factory, which town should he establish his factory? Formulate the problem as a linear program and solve for an optimal solution. Please also visualize the solution you have obtained in the cells below.\n",
        "\n",
        "**Note: The distance metric used in problem 4.1 and 4.2 is euclidean distance.**\n",
        "\n",
        "**Note: The $i^{th}$ index of the array refers to the $i^{th}$ factory (the index start with 0).**"
      ]
    },
    {
      "cell_type": "code",
      "execution_count": null,
      "metadata": {
        "id": "skZS7vta3Oy5"
      },
      "outputs": [],
      "source": [
        "import numpy as np # you could use pandas to convert the array into csv\n",
        "town_location = np.array([[  57.1817396 , -100.21311863],\n",
        "       [  27.20599853,  -83.10295469],\n",
        "       [-151.77984602, -204.29167019],\n",
        "       [  45.64179719,   46.87585513],\n",
        "       [-169.69698481, -110.76447501],\n",
        "       [  87.25935223,  -91.63706912],\n",
        "       [ 144.11419822,  200.79810504],\n",
        "       [ -63.81741004,   43.32842009],\n",
        "       [  92.65947426,  -10.32326513],\n",
        "      ])"
      ]
    },
    {
      "cell_type": "code",
      "execution_count": null,
      "metadata": {
        "colab": {
          "base_uri": "https://localhost:8080/",
          "height": 325
        },
        "id": "Yb5VAt4d3IY8",
        "outputId": "41b72f67-df03-4262-e104-9db4071e3021"
      },
      "outputs": [
        {
          "name": "stderr",
          "output_type": "stream",
          "text": [
            "/usr/local/lib/python3.7/dist-packages/ipykernel_launcher.py:10: FutureWarning: Using a non-tuple sequence for multidimensional indexing is deprecated; use `arr[tuple(seq)]` instead of `arr[seq]`. In the future this will be interpreted as an array index, `arr[np.array(seq)]`, which will result either in an error or a different result.\n",
            "  # Remove the CWD from sys.path while we load stuff.\n"
          ]
        },
        {
          "data": {
            "image/png": "[encoded data removed]",
            "text/plain": [
              "<Figure size 432x288 with 1 Axes>"
            ]
          },
          "metadata": {
            "needs_background": "light"
          },
          "output_type": "display_data"
        }
      ],
      "source": [
        "def visualize_factory_coverage(town_location, factory_idx):\n",
        "  '''\n",
        "  visualize the factory and town locations.\n",
        "  Input:\n",
        "    town_location : location of town in (x, y) coordinate\n",
        "    factory_idx : the id of towns chosen to plant a factory\n",
        "  Output:\n",
        "    visual output displaying town (red), factory (green) and factory's  delivery range(circle)\n",
        "  '''\n",
        "  factory_location = town_location[[factory_idx]]\n",
        "  import matplotlib.pyplot as plt\n",
        "  fig, ax = plt.subplots()\n",
        "  plt.xlim(-300, 300)\n",
        "  plt.ylim(-300, 300)\n",
        "  plt.scatter(town_location[:,0], town_location[:,1], color = 'red')\n",
        "  plt.scatter(factory_location[:,0], factory_location[:,1], color = 'green')\n",
        "  ax.set_aspect(1)\n",
        "  for x in factory_location:\n",
        "    ax.add_artist(plt.Circle((x[0],x[1]), 50, fill=False, color = 'blue'))\n",
        "\n",
        "  plt.show()\n",
        "visualize_factory_coverage(town_location, [0, 2, 3])"
      ]
    },
    {
      "cell_type": "markdown",
      "metadata": {
        "id": "CZMYbeO8jIio"
      },
      "source": [
        "## Problem 4.2  (Optional) : Hamtaro empire part 2 (K-median clustering problem)\n",
        "\n",
        "The solution obtained from problem 4.1 is unrealistic as Hamtaro has to plant too many factories. Thus, Hamtaro comes up with a new idea. He now instead only place a few factories and focuses more on goods transportation. After carefully reevaluating the new strategy, Hamtaro now only place 4 factories, but the goods delivery range is unlimited as he has outsourced an inland freight company, which charges 500 THB/km per distance they have travel. The cost is calculated only from the distance from the factory to the towns. To minimize the goods delivery cost, which town should he set up the factories? Formulate the problem as a linear program and solve for an optimal solution.\n",
        "\n",
        "**Note: This problem is the hardest problem in this assignment. You could search the keyword 'K-median clustering'  for guidance.**"
      ]
    },
    {
      "cell_type": "code",
      "execution_count": null,
      "metadata": {
        "id": "S3aj-xWwKPCI"
      },
      "outputs": [],
      "source": [
        "pass"
      ]
    },
    {
      "cell_type": "markdown",
      "metadata": {
        "id": "nkz_ruMSjE1S"
      },
      "source": [
        "## Problem 5: Quantile Regression (piecewise linear function)\n",
        "\n",
        "If you observe the objective function from the problem 6 in the previous lab, the solution that minimizes $l_2$ regression (least square method) and $l_1$ regression is the mean and median of the dataset respectively.  Quantile regression is a generalized formed of $l_1$ regression you have solved in the previous question. Likewise, The solution of quantile regression is the $q^{th}$ quantile of the dataset. A mathematical program for quantile regression is:\n",
        "\n",
        "####Decision variable $\\beta_1, \\beta_0$\n",
        "\n",
        "$$Objective : min( \\sum_{i=1}^{N}L_q(y_i - (\\beta_1x_i + \\beta_0))) $$\n",
        "\\begin{equation*}\n",
        "s.t.\n",
        "\\begin{split}\n",
        "  \\beta_1, \\beta_0 \\in R\n",
        "\\end{split}\n",
        "\\end{equation*}\n",
        "\n",
        "where\n",
        "\\begin{equation*}\n",
        "\\begin{split}\n",
        "  L_q(x) = \\left\\{\n",
        "                \\begin{array}{ll}\n",
        "                  (q-1)x, & x \\leq 0\\\\\n",
        "                  qx, & x > 0\\\\\n",
        "                \\end{array}\n",
        "              \\right.\n",
        "\\end{split}\n",
        "\\end{equation*}\n",
        "\n",
        "Thus, a $l_1$ regression is equivalent to a quantile regression where q = 0.5.\n",
        "\n",
        "Find $\\beta_1, \\beta_0$ using quantile regression at q = 0.25, 0.75 by reformulating the problem as a linear program, and compare the result with the one in the previous lab. What can you say about the result?\n",
        "\n"
      ]
    },
    {
      "cell_type": "code",
      "execution_count": null,
      "metadata": {
        "id": "0B2c6dWQM8tQ"
      },
      "outputs": [],
      "source": [
        "pass"
      ]
    },
    {
      "cell_type": "markdown",
      "metadata": {
        "id": "m4rcUdJziDGP"
      },
      "source": [
        "# Problem 6 : Instraham\n",
        "\n",
        "\n",
        "After several crises, Hamtaro is fed up with the manufacturing business and is now looking for new business opportunities. He finds out that opening social media platform could make a hefty sum of money. Moreover, since hamsters do not currently have a social media site, Hamtaro can monopolize the market easily. Therefore, he creates Instraham, the first social media website of hamsters, by hamsters, for hamsters.\n",
        "\n",
        "After consulting with Koushi-kun, Hamtaro figures out that social network platforms often have the features shown in the table below. For each feature, the CPU load and storage load are shown with its associated business value score.\n",
        "\n",
        "|Feature name| CPU load (%) | storage load (%) | business value score |\n",
        "|:-:|:-:|:-:|:-:|\n",
        "| A | 20 | 30| 10|\n",
        "| B | 10 | 5| 5|\n",
        "| C| 30 | 10| 10|\n",
        "| D | 5 | 10| 3|\n",
        "| F | 15 | 30| 10|\n",
        "| G | 60 | 70| 30|\n",
        "| H | 80 | 80| 80|\n",
        "| I | 10 | 50| 20|\n",
        "| J | 3 | 50| 5|\n",
        "\n",
        "Feature A, and J is mandatory while the rest is optional. The objective is to maximize the business value score of the website while not overloading CPU and storage servers. His engineering friend, Taisho-kun, also suggests him that he could improve the website efficiency by performing the following operations:\n",
        "\n",
        "- Feature compression. This method will reduce both CPU and storage load by half, but it also reduces the business value to 55% of the original value. Every feature could be compressed, but the number of compressed features in the website is limited to two.\n",
        "\n",
        "-  The usage of storage efficient algorithm. By using this method, the feature storage load is reduced by half but it also doubles the CPU load. However, only feature H, I, J can use this method. This method could not be used concurrently with feature compression.\n",
        "\n",
        "From this information, which features should Hamtaro develop? ~~Use Amdahl's law to find the best speedup~~. Formulate the problem as an integer program and solve for an optimal solution.\n",
        "\n",
        "<b> Note : This problem is based on the blog (https://engineering.fb.com/2021/07/29/data-infrastructure/linear-programming/) </b>\n"
      ]
    },
    {
      "cell_type": "markdown",
      "metadata": {},
      "source": [
        "# Answer\n",
        "\n",
        "From Excel, I have generated this solution table\n",
        "|Feature\t|CPU\t|Storage\t|Value\t|Choose Var\t|Compress Var\t|efficient Var\t|SUM of Var |\n",
        "|:-:|:-:|:-:|:-:|:-:|:-:|:-:|:-:|\n",
        "|A|20|30|10|0|1| |1|\n",
        "|B|10|5|5|1|0| |1|\n",
        "|C|30|10|10|1|0| |1|\n",
        "|D|5|10|3|0|0| |0|\n",
        "|F|15|30|10|0|0| |0|\n",
        "|G|60|70|30|0|0| |0|\n",
        "|H|80|80|80|0|1|0|1|\n",
        "|I|10|50|20|0|0|0|0|\n",
        "|J|3|50|5|0|0|1|1|\n",
        "|SUM| | | |2|2|1| | |\n",
        "\n",
        "Maximize Value\t\t69.5\n",
        "Used CPU\t\t\t96%\n",
        "Used Storage\t\t95%\n",
        "\n",
        "The constraint is\n",
        "1. the used CPU = SUM of CPU*(Choose_Var + 0.5 * Compress_Var + 2 * efficient_Var) <= 100.\n",
        "2. the used Storage = SUM of Storage*(Choose_Var + 0.5 * Compress_Var + 0.5 * efficient_Var) <= 100.\n",
        "3. the number of Compress var <= 2.\n",
        "4. the SUM of Var <= 1.\n",
        "\n",
        "\tFor A,B,C,D,F,G.\n",
        "\t\n",
        "\t\tSUM of Var = Choose Var + Compress Var\n",
        "\t\n",
        "\tFor H,I,J.\n",
        "\t\n",
        "\t\tSUM of Var = Choose Var + Compress Var + efficient Var\n",
        "5. for A, J. the Sum of Var = 1.\n",
        "6. All Var is binary.\n",
        "\n",
        "\n",
        "The solution is to choose A, B, C, H, J and compress A, H using Feature compression and use storage efficient algorithm on J.\n",
        "The maximum total value is 69.5"
      ]
    },
    {
      "cell_type": "markdown",
      "metadata": {},
      "source": [
        "The excel is located in the following link. The constraints is also included in the excel file.\n",
        "\n",
        "https://chula-my.sharepoint.com/:x:/g/personal/6432133721_student_chula_ac_th/ESku0SchJ1pNj9UQ2KwSPaoBFUZN82dI2HzXL6ihce0G1g?e=yXrv2j"
      ]
    }
  ],
  "metadata": {
    "colab": {
      "collapsed_sections": [
        "GlxhJvKtEI0s",
        "KqcxWQFHkvts",
        "CZMYbeO8jIio",
        "nkz_ruMSjE1S"
      ],
      "provenance": []
    },
    "kernelspec": {
      "display_name": "Python 3",
      "name": "python3"
    },
    "language_info": {
      "codemirror_mode": {
        "name": "ipython",
        "version": 3
      },
      "file_extension": ".py",
      "mimetype": "text/x-python",
      "name": "python",
      "nbconvert_exporter": "python",
      "pygments_lexer": "ipython3",
      "version": "3.10.7"
    }
  },
  "nbformat": 4,
  "nbformat_minor": 0
}
