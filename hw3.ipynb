{
 "cells": [
  {
   "cell_type": "code",
   "execution_count": 7,
   "metadata": {},
   "outputs": [
    {
     "name": "stdout",
     "output_type": "stream",
     "text": [
      "Main Objective\n",
      "-17.666666666666668 [3.66666667 1.66666667 0.         9.33333333 0.        ] \n",
      "\n",
      "Subobjective x<=3\n",
      "-17.0 [3. 2. 0. 7. 1.]\n",
      "Subobjective x>=4\n",
      "False \n",
      "\n",
      "The solution is in subresult 1\n",
      "x= 3.0 y= 2.0\n"
     ]
    },
    {
     "name": "stderr",
     "output_type": "stream",
     "text": [
      "/tmp/ipykernel_30080/3813511182.py:24: DeprecationWarning: `method='simplex'` is deprecated and will be removed in SciPy 1.11.0. Please use one of the HiGHS solvers (e.g. `method='highs'`) in new code.\n",
      "  result = linprog(A_eq=A, b_eq=b, c=c, bounds=bounds, method='simplex')\n",
      "/tmp/ipykernel_30080/3813511182.py:41: DeprecationWarning: `method='simplex'` is deprecated and will be removed in SciPy 1.11.0. Please use one of the HiGHS solvers (e.g. `method='highs'`) in new code.\n",
      "  subresult1 = linprog(A_eq=A, b_eq=b, c=c, bounds=bounds, method='simplex')\n",
      "/tmp/ipykernel_30080/3813511182.py:43: DeprecationWarning: `method='simplex'` is deprecated and will be removed in SciPy 1.11.0. Please use one of the HiGHS solvers (e.g. `method='highs'`) in new code.\n",
      "  subresult2 = linprog(A_eq=A, b_eq=b, c=c, bounds=bounds, method='simplex')\n"
     ]
    }
   ],
   "source": [
    "# Solve the following program by using linprog function and branch and bound method:\n",
    "# Maximize 3x+4y\n",
    "# subject to\n",
    "# x+2y<=7\n",
    "# 3x-y>=0\n",
    "# x-y<=2\n",
    "# x,y>=0\n",
    "# x,y are integers\n",
    "\n",
    "import numpy as np\n",
    "from scipy.optimize import linprog\n",
    "\n",
    "# objective function\n",
    "c = [-3, -4, 0, 0, 0]\n",
    "\n",
    "# left hand\n",
    "A = [[1,2,1,0,0],[3,-1,0,-1,0],[1,-1,0,0,1]]\n",
    "b = [7,0,2]\n",
    "\n",
    "# bounds (0, None) on every var\n",
    "bounds = [(0, None)] * 5\n",
    "\n",
    "# solve\n",
    "result = linprog(A_eq=A, b_eq=b, c=c, bounds=bounds, method='simplex')\n",
    "print(\"Main Objective\")\n",
    "print(result.fun, result.x, \"\\n\")\n",
    "\n",
    "# branch and bound\n",
    "# 1. solve the LP relaxation\n",
    "# 2. if the solution is integer, then stop\n",
    "# 3. if not, then branch on one of the variables\n",
    "# 4. solve the two new LP relaxations\n",
    "\n",
    "# Based on the result\n",
    "# x = 3.66666667, y = 1.66666667\n",
    "# not integer, branch  on x\n",
    "# x <=3\n",
    "# x >=4\n",
    "# solve new LP relaxtions\n",
    "bounds[0] = (0,3)\n",
    "subresult1 = linprog(A_eq=A, b_eq=b, c=c, bounds=bounds, method='simplex')\n",
    "bounds[0] = (4, None)\n",
    "subresult2 = linprog(A_eq=A, b_eq=b, c=c, bounds=bounds, method='simplex')\n",
    "print(\"Subobjective x<=3\")\n",
    "print(subresult1.fun, subresult1.x)\n",
    "print(\"Subobjective x>=4\")\n",
    "print(subresult2.success, \"\\n\")\n",
    "\n",
    "# the solution is integer in sub result 1\n",
    "print(\"The solution is in subresult 1\")\n",
    "print(\"x=\",subresult1.x[0],\"y=\",subresult1.x[1])"
   ]
  },
  {
   "cell_type": "code",
   "execution_count": null,
   "metadata": {},
   "outputs": [],
   "source": []
  }
 ],
 "metadata": {
  "kernelspec": {
   "display_name": "Python 3",
   "language": "python",
   "name": "python3"
  },
  "language_info": {
   "codemirror_mode": {
    "name": "ipython",
    "version": 3
   },
   "file_extension": ".py",
   "mimetype": "text/x-python",
   "name": "python",
   "nbconvert_exporter": "python",
   "pygments_lexer": "ipython3",
   "version": "3.10.8"
  }
 },
 "nbformat": 4,
 "nbformat_minor": 2
}
