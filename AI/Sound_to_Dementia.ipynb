{
  "cells": [
    {
      "attachments": {},
      "cell_type": "markdown",
      "metadata": {
        "colab_type": "text",
        "id": "view-in-github"
      },
      "source": [
        "<a href=\"https://colab.research.google.com/github/phumipatc/CU_Submissions/blob/master/AI/Sound_to_Dementia.ipynb\" target=\"_parent\"><img src=\"https://colab.research.google.com/assets/colab-badge.svg\" alt=\"Open In Colab\"/></a>"
      ]
    },
    {
      "attachments": {},
      "cell_type": "markdown",
      "metadata": {
        "id": "WhzVamIuIaTp"
      },
      "source": [
        "# **Dataset: DementiaBank**\n",
        "https://dementia.talkbank.org/\n",
        "\n",
        "\n",
        "English Pitt Corpus: Cookie theft task\n",
        "* https://dementia.talkbank.org/access/English/Pitt.html\n",
        "* Dementia vs control\n",
        "\n"
      ]
    },
    {
      "attachments": {},
      "cell_type": "markdown",
      "metadata": {
        "id": "5eDNdHdsWZ5s"
      },
      "source": [
        "Preparing environment"
      ]
    },
    {
      "cell_type": "code",
      "execution_count": null,
      "metadata": {
        "colab": {
          "base_uri": "https://localhost:8080/"
        },
        "id": "tpRwQWWtWhTQ",
        "outputId": "eac85615-a90f-4695-83d8-ad1897ca4a70"
      },
      "outputs": [],
      "source": [
        "%pip install openl3\n",
        "%pip install pandas\n",
        "%pip install scikit-learn\n",
        "%pip install matplotlib\n",
        "%pip install seaborn"
      ]
    },
    {
      "cell_type": "code",
      "execution_count": 1,
      "metadata": {
        "colab": {
          "base_uri": "https://localhost:8080/"
        },
        "id": "aw2s6M-bqPCX",
        "outputId": "915369c3-042a-4949-f8e4-b72dd48532db"
      },
      "outputs": [
        {
          "data": {
            "text/plain": [
              "False"
            ]
          },
          "execution_count": 1,
          "metadata": {},
          "output_type": "execute_result"
        }
      ],
      "source": [
        "def tryImportColab():\n",
        "  try:\n",
        "    import google.colab\n",
        "    return True\n",
        "  except ImportError:\n",
        "    return False\n",
        "\n",
        "runningInColab = tryImportColab()\n",
        "runningInColab"
      ]
    },
    {
      "cell_type": "code",
      "execution_count": 2,
      "metadata": {
        "colab": {
          "base_uri": "https://localhost:8080/"
        },
        "id": "5ALY9RTKX7w2",
        "outputId": "49006fad-92af-4298-f363-45d8956b8f21"
      },
      "outputs": [],
      "source": [
        "if(runningInColab):\n",
        "  from google.colab import drive\n",
        "  drive.mount('/content/drive')"
      ]
    },
    {
      "attachments": {},
      "cell_type": "markdown",
      "metadata": {
        "id": "nOpJ8W0LI88Q"
      },
      "source": [
        "# **Audio Embedding**\n",
        "# OpenL3\n",
        "* https://openl3.readthedocs.io/en/latest/tutorial.html\n",
        "* http://www.justinsalamon.com/uploads/4/3/9/4/4394963/cramer_looklistenlearnmore_icassp_2019.pdf\n",
        "\n",
        "# AudioSet\n",
        "* https://github.com/tensorflow/models/tree/master/research/audioset\n",
        "* Use vggish\n",
        "* Or, https://tfhub.dev/google/vggish/1\n",
        "\n",
        "# Other embedding models\n",
        "* https://tfhub.dev/s?module-type=audio-embedding\n"
      ]
    },
    {
      "cell_type": "code",
      "execution_count": 3,
      "metadata": {
        "colab": {
          "base_uri": "https://localhost:8080/",
          "height": 36
        },
        "id": "ZgwjEEILXAFR",
        "outputId": "6528ddcb-7996-44cd-c6d8-be0158776808"
      },
      "outputs": [
        {
          "data": {
            "text/plain": [
              "'d:\\\\Code\\\\CU\\\\AI'"
            ]
          },
          "execution_count": 3,
          "metadata": {},
          "output_type": "execute_result"
        }
      ],
      "source": [
        "%pwd"
      ]
    },
    {
      "cell_type": "code",
      "execution_count": 4,
      "metadata": {
        "colab": {
          "base_uri": "https://localhost:8080/",
          "height": 261
        },
        "id": "fOfq7MptgR4n",
        "outputId": "146fd783-1b79-4c2c-caca-63f01c717476"
      },
      "outputs": [
        {
          "data": {
            "text/html": [
              "<div>\n",
              "<style scoped>\n",
              "    .dataframe tbody tr th:only-of-type {\n",
              "        vertical-align: middle;\n",
              "    }\n",
              "\n",
              "    .dataframe tbody tr th {\n",
              "        vertical-align: top;\n",
              "    }\n",
              "\n",
              "    .dataframe thead th {\n",
              "        text-align: right;\n",
              "    }\n",
              "</style>\n",
              "<table border=\"1\" class=\"dataframe\">\n",
              "  <thead>\n",
              "    <tr style=\"text-align: right;\">\n",
              "      <th></th>\n",
              "      <th>age</th>\n",
              "      <th>gender</th>\n",
              "      <th>educ</th>\n",
              "      <th>dx</th>\n",
              "      <th>mmse</th>\n",
              "    </tr>\n",
              "  </thead>\n",
              "  <tbody>\n",
              "    <tr>\n",
              "      <th>age</th>\n",
              "      <td>1.000000</td>\n",
              "      <td>NaN</td>\n",
              "      <td>-0.229109</td>\n",
              "      <td>0.261580</td>\n",
              "      <td>-0.273890</td>\n",
              "    </tr>\n",
              "    <tr>\n",
              "      <th>gender</th>\n",
              "      <td>NaN</td>\n",
              "      <td>NaN</td>\n",
              "      <td>NaN</td>\n",
              "      <td>NaN</td>\n",
              "      <td>NaN</td>\n",
              "    </tr>\n",
              "    <tr>\n",
              "      <th>educ</th>\n",
              "      <td>-0.229109</td>\n",
              "      <td>NaN</td>\n",
              "      <td>1.000000</td>\n",
              "      <td>-0.350735</td>\n",
              "      <td>0.347840</td>\n",
              "    </tr>\n",
              "    <tr>\n",
              "      <th>dx</th>\n",
              "      <td>0.261580</td>\n",
              "      <td>NaN</td>\n",
              "      <td>-0.350735</td>\n",
              "      <td>1.000000</td>\n",
              "      <td>-0.797276</td>\n",
              "    </tr>\n",
              "    <tr>\n",
              "      <th>mmse</th>\n",
              "      <td>-0.273890</td>\n",
              "      <td>NaN</td>\n",
              "      <td>0.347840</td>\n",
              "      <td>-0.797276</td>\n",
              "      <td>1.000000</td>\n",
              "    </tr>\n",
              "  </tbody>\n",
              "</table>\n",
              "</div>"
            ],
            "text/plain": [
              "             age  gender      educ        dx      mmse\n",
              "age     1.000000     NaN -0.229109  0.261580 -0.273890\n",
              "gender       NaN     NaN       NaN       NaN       NaN\n",
              "educ   -0.229109     NaN  1.000000 -0.350735  0.347840\n",
              "dx      0.261580     NaN -0.350735  1.000000 -0.797276\n",
              "mmse   -0.273890     NaN  0.347840 -0.797276  1.000000"
            ]
          },
          "execution_count": 4,
          "metadata": {},
          "output_type": "execute_result"
        }
      ],
      "source": [
        "import pandas as pd\n",
        "\n",
        "address_sample_csv_path = 'sound-dementia-data/ADReSS-M-train/'\n",
        "if runningInColab:\n",
        "\taddress_sample_csv_path = 'drive/MyDrive/' + address_sample_csv_path\n",
        "\n",
        "# Get dataFrame\n",
        "address_sample_original_df = pd.read_csv(address_sample_csv_path + \"training-groundtruth.csv\")\n",
        "address_sample_clean_df = address_sample_original_df.dropna().drop_duplicates()\n",
        "\n",
        "# Cleaning Process\n",
        "## In gender col, change \"Female\" to 0 and \"Male\" to 1\n",
        "address_sample_clean_df['gender'] = address_sample_clean_df['gender'].apply(lambda x: 0 if x == \"Female\" else 1)\n",
        "## In dx column, change \"Control\" to 0 and \"ProbableAD\" to 1\n",
        "address_sample_clean_df['dx'] = address_sample_clean_df['dx'].apply(lambda x: 0 if x == \"Control\" else 1)\n",
        "\n",
        "# Drop non-numeric columns\n",
        "numeric_df = address_sample_clean_df.select_dtypes(include=['float64', 'int64'])\n",
        "\n",
        "# Calculate correlation matrix\n",
        "numeric_df.corr()\n"
      ]
    },
    {
      "cell_type": "code",
      "execution_count": 5,
      "metadata": {
        "colab": {
          "base_uri": "https://localhost:8080/"
        },
        "id": "Z7pYqONLnrTE",
        "outputId": "63cb63e9-e034-4ffd-b146-3b5d4ef3bd79"
      },
      "outputs": [
        {
          "data": {
            "text/plain": [
              "['sound-dementia-data/ADReSS-M-train/train/adrso002.mp3',\n",
              " 'sound-dementia-data/ADReSS-M-train/train/adrso003.mp3',\n",
              " 'sound-dementia-data/ADReSS-M-train/train/adrso004.mp3',\n",
              " 'sound-dementia-data/ADReSS-M-train/train/adrso005.mp3',\n",
              " 'sound-dementia-data/ADReSS-M-train/train/adrso006.mp3',\n",
              " 'sound-dementia-data/ADReSS-M-train/train/adrso007.mp3',\n",
              " 'sound-dementia-data/ADReSS-M-train/train/adrso008.mp3',\n",
              " 'sound-dementia-data/ADReSS-M-train/train/adrso009.mp3',\n",
              " 'sound-dementia-data/ADReSS-M-train/train/adrso010.mp3',\n",
              " 'sound-dementia-data/ADReSS-M-train/train/adrso011.mp3',\n",
              " 'sound-dementia-data/ADReSS-M-train/train/adrso012.mp3',\n",
              " 'sound-dementia-data/ADReSS-M-train/train/adrso013.mp3',\n",
              " 'sound-dementia-data/ADReSS-M-train/train/adrso014.mp3',\n",
              " 'sound-dementia-data/ADReSS-M-train/train/adrso015.mp3',\n",
              " 'sound-dementia-data/ADReSS-M-train/train/adrso016.mp3',\n",
              " 'sound-dementia-data/ADReSS-M-train/train/adrso017.mp3',\n",
              " 'sound-dementia-data/ADReSS-M-train/train/adrso018.mp3',\n",
              " 'sound-dementia-data/ADReSS-M-train/train/adrso019.mp3',\n",
              " 'sound-dementia-data/ADReSS-M-train/train/adrso020.mp3',\n",
              " 'sound-dementia-data/ADReSS-M-train/train/adrso021.mp3',\n",
              " 'sound-dementia-data/ADReSS-M-train/train/adrso022.mp3',\n",
              " 'sound-dementia-data/ADReSS-M-train/train/adrso023.mp3',\n",
              " 'sound-dementia-data/ADReSS-M-train/train/adrso024.mp3',\n",
              " 'sound-dementia-data/ADReSS-M-train/train/adrso025.mp3',\n",
              " 'sound-dementia-data/ADReSS-M-train/train/adrso027.mp3',\n",
              " 'sound-dementia-data/ADReSS-M-train/train/adrso028.mp3',\n",
              " 'sound-dementia-data/ADReSS-M-train/train/adrso029.mp3',\n",
              " 'sound-dementia-data/ADReSS-M-train/train/adrso031.mp3',\n",
              " 'sound-dementia-data/ADReSS-M-train/train/adrso032.mp3',\n",
              " 'sound-dementia-data/ADReSS-M-train/train/adrso033.mp3',\n",
              " 'sound-dementia-data/ADReSS-M-train/train/adrso035.mp3',\n",
              " 'sound-dementia-data/ADReSS-M-train/train/adrso036.mp3',\n",
              " 'sound-dementia-data/ADReSS-M-train/train/adrso037.mp3',\n",
              " 'sound-dementia-data/ADReSS-M-train/train/adrso038.mp3',\n",
              " 'sound-dementia-data/ADReSS-M-train/train/adrso039.mp3',\n",
              " 'sound-dementia-data/ADReSS-M-train/train/adrso041.mp3',\n",
              " 'sound-dementia-data/ADReSS-M-train/train/adrso042.mp3',\n",
              " 'sound-dementia-data/ADReSS-M-train/train/adrso043.mp3',\n",
              " 'sound-dementia-data/ADReSS-M-train/train/adrso044.mp3',\n",
              " 'sound-dementia-data/ADReSS-M-train/train/adrso045.mp3',\n",
              " 'sound-dementia-data/ADReSS-M-train/train/adrso046.mp3',\n",
              " 'sound-dementia-data/ADReSS-M-train/train/adrso047.mp3',\n",
              " 'sound-dementia-data/ADReSS-M-train/train/adrso049.mp3',\n",
              " 'sound-dementia-data/ADReSS-M-train/train/adrso052.mp3',\n",
              " 'sound-dementia-data/ADReSS-M-train/train/adrso053.mp3',\n",
              " 'sound-dementia-data/ADReSS-M-train/train/adrso054.mp3',\n",
              " 'sound-dementia-data/ADReSS-M-train/train/adrso055.mp3',\n",
              " 'sound-dementia-data/ADReSS-M-train/train/adrso056.mp3',\n",
              " 'sound-dementia-data/ADReSS-M-train/train/adrso059.mp3',\n",
              " 'sound-dementia-data/ADReSS-M-train/train/adrso060.mp3',\n",
              " 'sound-dementia-data/ADReSS-M-train/train/adrso062.mp3',\n",
              " 'sound-dementia-data/ADReSS-M-train/train/adrso063.mp3',\n",
              " 'sound-dementia-data/ADReSS-M-train/train/adrso064.mp3',\n",
              " 'sound-dementia-data/ADReSS-M-train/train/adrso065.mp3',\n",
              " 'sound-dementia-data/ADReSS-M-train/train/adrso066.mp3',\n",
              " 'sound-dementia-data/ADReSS-M-train/train/adrso068.mp3',\n",
              " 'sound-dementia-data/ADReSS-M-train/train/adrso070.mp3',\n",
              " 'sound-dementia-data/ADReSS-M-train/train/adrso071.mp3',\n",
              " 'sound-dementia-data/ADReSS-M-train/train/adrso072.mp3',\n",
              " 'sound-dementia-data/ADReSS-M-train/train/adrso074.mp3',\n",
              " 'sound-dementia-data/ADReSS-M-train/train/adrso075.mp3',\n",
              " 'sound-dementia-data/ADReSS-M-train/train/adrso077.mp3',\n",
              " 'sound-dementia-data/ADReSS-M-train/train/adrso078.mp3',\n",
              " 'sound-dementia-data/ADReSS-M-train/train/adrso083.mp3',\n",
              " 'sound-dementia-data/ADReSS-M-train/train/adrso088.mp3',\n",
              " 'sound-dementia-data/ADReSS-M-train/train/adrso089.mp3',\n",
              " 'sound-dementia-data/ADReSS-M-train/train/adrso090.mp3',\n",
              " 'sound-dementia-data/ADReSS-M-train/train/adrso092.mp3',\n",
              " 'sound-dementia-data/ADReSS-M-train/train/adrso093.mp3',\n",
              " 'sound-dementia-data/ADReSS-M-train/train/adrso098.mp3',\n",
              " 'sound-dementia-data/ADReSS-M-train/train/adrso099.mp3',\n",
              " 'sound-dementia-data/ADReSS-M-train/train/adrso106.mp3',\n",
              " 'sound-dementia-data/ADReSS-M-train/train/adrso108.mp3',\n",
              " 'sound-dementia-data/ADReSS-M-train/train/adrso109.mp3',\n",
              " 'sound-dementia-data/ADReSS-M-train/train/adrso110.mp3',\n",
              " 'sound-dementia-data/ADReSS-M-train/train/adrso112.mp3',\n",
              " 'sound-dementia-data/ADReSS-M-train/train/adrso113.mp3',\n",
              " 'sound-dementia-data/ADReSS-M-train/train/adrso116.mp3',\n",
              " 'sound-dementia-data/ADReSS-M-train/train/adrso117.mp3',\n",
              " 'sound-dementia-data/ADReSS-M-train/train/adrso118.mp3',\n",
              " 'sound-dementia-data/ADReSS-M-train/train/adrso121.mp3',\n",
              " 'sound-dementia-data/ADReSS-M-train/train/adrso122.mp3',\n",
              " 'sound-dementia-data/ADReSS-M-train/train/adrso123.mp3',\n",
              " 'sound-dementia-data/ADReSS-M-train/train/adrso124.mp3',\n",
              " 'sound-dementia-data/ADReSS-M-train/train/adrso125.mp3',\n",
              " 'sound-dementia-data/ADReSS-M-train/train/adrso126.mp3',\n",
              " 'sound-dementia-data/ADReSS-M-train/train/adrso128.mp3',\n",
              " 'sound-dementia-data/ADReSS-M-train/train/adrso130.mp3',\n",
              " 'sound-dementia-data/ADReSS-M-train/train/adrso132.mp3',\n",
              " 'sound-dementia-data/ADReSS-M-train/train/adrso134.mp3',\n",
              " 'sound-dementia-data/ADReSS-M-train/train/adrso135.mp3',\n",
              " 'sound-dementia-data/ADReSS-M-train/train/adrso138.mp3',\n",
              " 'sound-dementia-data/ADReSS-M-train/train/adrso140.mp3',\n",
              " 'sound-dementia-data/ADReSS-M-train/train/adrso141.mp3',\n",
              " 'sound-dementia-data/ADReSS-M-train/train/adrso142.mp3',\n",
              " 'sound-dementia-data/ADReSS-M-train/train/adrso144.mp3',\n",
              " 'sound-dementia-data/ADReSS-M-train/train/adrso148.mp3',\n",
              " 'sound-dementia-data/ADReSS-M-train/train/adrso149.mp3',\n",
              " 'sound-dementia-data/ADReSS-M-train/train/adrso150.mp3',\n",
              " 'sound-dementia-data/ADReSS-M-train/train/adrso151.mp3',\n",
              " 'sound-dementia-data/ADReSS-M-train/train/adrso152.mp3',\n",
              " 'sound-dementia-data/ADReSS-M-train/train/adrso153.mp3',\n",
              " 'sound-dementia-data/ADReSS-M-train/train/adrso154.mp3',\n",
              " 'sound-dementia-data/ADReSS-M-train/train/adrso155.mp3',\n",
              " 'sound-dementia-data/ADReSS-M-train/train/adrso156.mp3',\n",
              " 'sound-dementia-data/ADReSS-M-train/train/adrso157.mp3',\n",
              " 'sound-dementia-data/ADReSS-M-train/train/adrso158.mp3',\n",
              " 'sound-dementia-data/ADReSS-M-train/train/adrso159.mp3',\n",
              " 'sound-dementia-data/ADReSS-M-train/train/adrso160.mp3',\n",
              " 'sound-dementia-data/ADReSS-M-train/train/adrso161.mp3',\n",
              " 'sound-dementia-data/ADReSS-M-train/train/adrso162.mp3',\n",
              " 'sound-dementia-data/ADReSS-M-train/train/adrso164.mp3',\n",
              " 'sound-dementia-data/ADReSS-M-train/train/adrso165.mp3',\n",
              " 'sound-dementia-data/ADReSS-M-train/train/adrso166.mp3',\n",
              " 'sound-dementia-data/ADReSS-M-train/train/adrso167.mp3',\n",
              " 'sound-dementia-data/ADReSS-M-train/train/adrso168.mp3',\n",
              " 'sound-dementia-data/ADReSS-M-train/train/adrso169.mp3',\n",
              " 'sound-dementia-data/ADReSS-M-train/train/adrso170.mp3',\n",
              " 'sound-dementia-data/ADReSS-M-train/train/adrso171.mp3',\n",
              " 'sound-dementia-data/ADReSS-M-train/train/adrso172.mp3',\n",
              " 'sound-dementia-data/ADReSS-M-train/train/adrso173.mp3',\n",
              " 'sound-dementia-data/ADReSS-M-train/train/adrso177.mp3',\n",
              " 'sound-dementia-data/ADReSS-M-train/train/adrso178.mp3',\n",
              " 'sound-dementia-data/ADReSS-M-train/train/adrso179.mp3',\n",
              " 'sound-dementia-data/ADReSS-M-train/train/adrso180.mp3',\n",
              " 'sound-dementia-data/ADReSS-M-train/train/adrso181.mp3',\n",
              " 'sound-dementia-data/ADReSS-M-train/train/adrso182.mp3',\n",
              " 'sound-dementia-data/ADReSS-M-train/train/adrso183.mp3',\n",
              " 'sound-dementia-data/ADReSS-M-train/train/adrso184.mp3',\n",
              " 'sound-dementia-data/ADReSS-M-train/train/adrso185.mp3',\n",
              " 'sound-dementia-data/ADReSS-M-train/train/adrso186.mp3',\n",
              " 'sound-dementia-data/ADReSS-M-train/train/adrso187.mp3',\n",
              " 'sound-dementia-data/ADReSS-M-train/train/adrso188.mp3',\n",
              " 'sound-dementia-data/ADReSS-M-train/train/adrso189.mp3',\n",
              " 'sound-dementia-data/ADReSS-M-train/train/adrso190.mp3',\n",
              " 'sound-dementia-data/ADReSS-M-train/train/adrso192.mp3',\n",
              " 'sound-dementia-data/ADReSS-M-train/train/adrso194.mp3',\n",
              " 'sound-dementia-data/ADReSS-M-train/train/adrso197.mp3',\n",
              " 'sound-dementia-data/ADReSS-M-train/train/adrso198.mp3',\n",
              " 'sound-dementia-data/ADReSS-M-train/train/adrso199.mp3',\n",
              " 'sound-dementia-data/ADReSS-M-train/train/adrso200.mp3',\n",
              " 'sound-dementia-data/ADReSS-M-train/train/adrso202.mp3',\n",
              " 'sound-dementia-data/ADReSS-M-train/train/adrso205.mp3',\n",
              " 'sound-dementia-data/ADReSS-M-train/train/adrso206.mp3',\n",
              " 'sound-dementia-data/ADReSS-M-train/train/adrso209.mp3',\n",
              " 'sound-dementia-data/ADReSS-M-train/train/adrso210.mp3',\n",
              " 'sound-dementia-data/ADReSS-M-train/train/adrso211.mp3',\n",
              " 'sound-dementia-data/ADReSS-M-train/train/adrso212.mp3',\n",
              " 'sound-dementia-data/ADReSS-M-train/train/adrso214.mp3',\n",
              " 'sound-dementia-data/ADReSS-M-train/train/adrso215.mp3',\n",
              " 'sound-dementia-data/ADReSS-M-train/train/adrso216.mp3',\n",
              " 'sound-dementia-data/ADReSS-M-train/train/adrso217.mp3',\n",
              " 'sound-dementia-data/ADReSS-M-train/train/adrso218.mp3',\n",
              " 'sound-dementia-data/ADReSS-M-train/train/adrso219.mp3',\n",
              " 'sound-dementia-data/ADReSS-M-train/train/adrso220.mp3',\n",
              " 'sound-dementia-data/ADReSS-M-train/train/adrso222.mp3',\n",
              " 'sound-dementia-data/ADReSS-M-train/train/adrso223.mp3',\n",
              " 'sound-dementia-data/ADReSS-M-train/train/adrso224.mp3',\n",
              " 'sound-dementia-data/ADReSS-M-train/train/adrso226.mp3',\n",
              " 'sound-dementia-data/ADReSS-M-train/train/adrso228.mp3',\n",
              " 'sound-dementia-data/ADReSS-M-train/train/adrso229.mp3',\n",
              " 'sound-dementia-data/ADReSS-M-train/train/adrso231.mp3',\n",
              " 'sound-dementia-data/ADReSS-M-train/train/adrso232.mp3',\n",
              " 'sound-dementia-data/ADReSS-M-train/train/adrso233.mp3',\n",
              " 'sound-dementia-data/ADReSS-M-train/train/adrso234.mp3',\n",
              " 'sound-dementia-data/ADReSS-M-train/train/adrso235.mp3',\n",
              " 'sound-dementia-data/ADReSS-M-train/train/adrso236.mp3',\n",
              " 'sound-dementia-data/ADReSS-M-train/train/adrso237.mp3',\n",
              " 'sound-dementia-data/ADReSS-M-train/train/adrso243.mp3',\n",
              " 'sound-dementia-data/ADReSS-M-train/train/adrso244.mp3',\n",
              " 'sound-dementia-data/ADReSS-M-train/train/adrso245.mp3',\n",
              " 'sound-dementia-data/ADReSS-M-train/train/adrso246.mp3',\n",
              " 'sound-dementia-data/ADReSS-M-train/train/adrso247.mp3',\n",
              " 'sound-dementia-data/ADReSS-M-train/train/adrso248.mp3',\n",
              " 'sound-dementia-data/ADReSS-M-train/train/adrso249.mp3',\n",
              " 'sound-dementia-data/ADReSS-M-train/train/adrso250.mp3',\n",
              " 'sound-dementia-data/ADReSS-M-train/train/adrso251.mp3',\n",
              " 'sound-dementia-data/ADReSS-M-train/train/adrso253.mp3',\n",
              " 'sound-dementia-data/ADReSS-M-train/train/adrso254.mp3',\n",
              " 'sound-dementia-data/ADReSS-M-train/train/adrso255.mp3',\n",
              " 'sound-dementia-data/ADReSS-M-train/train/adrso256.mp3',\n",
              " 'sound-dementia-data/ADReSS-M-train/train/adrso257.mp3',\n",
              " 'sound-dementia-data/ADReSS-M-train/train/adrso258.mp3',\n",
              " 'sound-dementia-data/ADReSS-M-train/train/adrso259.mp3',\n",
              " 'sound-dementia-data/ADReSS-M-train/train/adrso260.mp3',\n",
              " 'sound-dementia-data/ADReSS-M-train/train/adrso261.mp3',\n",
              " 'sound-dementia-data/ADReSS-M-train/train/adrso262.mp3',\n",
              " 'sound-dementia-data/ADReSS-M-train/train/adrso263.mp3',\n",
              " 'sound-dementia-data/ADReSS-M-train/train/adrso264.mp3',\n",
              " 'sound-dementia-data/ADReSS-M-train/train/adrso265.mp3',\n",
              " 'sound-dementia-data/ADReSS-M-train/train/adrso266.mp3',\n",
              " 'sound-dementia-data/ADReSS-M-train/train/adrso267.mp3',\n",
              " 'sound-dementia-data/ADReSS-M-train/train/adrso268.mp3',\n",
              " 'sound-dementia-data/ADReSS-M-train/train/adrso269.mp3',\n",
              " 'sound-dementia-data/ADReSS-M-train/train/adrso270.mp3',\n",
              " 'sound-dementia-data/ADReSS-M-train/train/adrso272.mp3',\n",
              " 'sound-dementia-data/ADReSS-M-train/train/adrso273.mp3',\n",
              " 'sound-dementia-data/ADReSS-M-train/train/adrso274.mp3',\n",
              " 'sound-dementia-data/ADReSS-M-train/train/adrso275.mp3',\n",
              " 'sound-dementia-data/ADReSS-M-train/train/adrso276.mp3',\n",
              " 'sound-dementia-data/ADReSS-M-train/train/adrso277.mp3',\n",
              " 'sound-dementia-data/ADReSS-M-train/train/adrso278.mp3',\n",
              " 'sound-dementia-data/ADReSS-M-train/train/adrso279.mp3',\n",
              " 'sound-dementia-data/ADReSS-M-train/train/adrso280.mp3',\n",
              " 'sound-dementia-data/ADReSS-M-train/train/adrso281.mp3',\n",
              " 'sound-dementia-data/ADReSS-M-train/train/adrso283.mp3',\n",
              " 'sound-dementia-data/ADReSS-M-train/train/adrso284.mp3',\n",
              " 'sound-dementia-data/ADReSS-M-train/train/adrso285.mp3',\n",
              " 'sound-dementia-data/ADReSS-M-train/train/adrso286.mp3',\n",
              " 'sound-dementia-data/ADReSS-M-train/train/adrso287.mp3',\n",
              " 'sound-dementia-data/ADReSS-M-train/train/adrso288.mp3',\n",
              " 'sound-dementia-data/ADReSS-M-train/train/adrso289.mp3',\n",
              " 'sound-dementia-data/ADReSS-M-train/train/adrso290.mp3',\n",
              " 'sound-dementia-data/ADReSS-M-train/train/adrso291.mp3',\n",
              " 'sound-dementia-data/ADReSS-M-train/train/adrso292.mp3',\n",
              " 'sound-dementia-data/ADReSS-M-train/train/adrso293.mp3',\n",
              " 'sound-dementia-data/ADReSS-M-train/train/adrso294.mp3',\n",
              " 'sound-dementia-data/ADReSS-M-train/train/adrso295.mp3',\n",
              " 'sound-dementia-data/ADReSS-M-train/train/adrso296.mp3',\n",
              " 'sound-dementia-data/ADReSS-M-train/train/adrso297.mp3',\n",
              " 'sound-dementia-data/ADReSS-M-train/train/adrso298.mp3',\n",
              " 'sound-dementia-data/ADReSS-M-train/train/adrso299.mp3',\n",
              " 'sound-dementia-data/ADReSS-M-train/train/adrso300.mp3',\n",
              " 'sound-dementia-data/ADReSS-M-train/train/adrso301.mp3',\n",
              " 'sound-dementia-data/ADReSS-M-train/train/adrso302.mp3',\n",
              " 'sound-dementia-data/ADReSS-M-train/train/adrso303.mp3',\n",
              " 'sound-dementia-data/ADReSS-M-train/train/adrso304.mp3',\n",
              " 'sound-dementia-data/ADReSS-M-train/train/adrso307.mp3',\n",
              " 'sound-dementia-data/ADReSS-M-train/train/adrso308.mp3',\n",
              " 'sound-dementia-data/ADReSS-M-train/train/adrso309.mp3',\n",
              " 'sound-dementia-data/ADReSS-M-train/train/adrso310.mp3',\n",
              " 'sound-dementia-data/ADReSS-M-train/train/adrso312.mp3',\n",
              " 'sound-dementia-data/ADReSS-M-train/train/adrso313.mp3',\n",
              " 'sound-dementia-data/ADReSS-M-train/train/adrso314.mp3',\n",
              " 'sound-dementia-data/ADReSS-M-train/train/adrso315.mp3',\n",
              " 'sound-dementia-data/ADReSS-M-train/train/adrso316.mp3',\n",
              " 'sound-dementia-data/ADReSS-M-train/train/adrso317.mp3']"
            ]
          },
          "execution_count": 5,
          "metadata": {},
          "output_type": "execute_result"
        }
      ],
      "source": [
        "import openl3\n",
        "import os\n",
        "import soundfile as sf\n",
        "\n",
        "address_sample_path = 'sound-dementia-data/ADReSS-M-train/train/'\n",
        "if runningInColab:\n",
        "  address_sample_path = 'drive/MyDrive/' + address_sample_path\n",
        "address_sample_list = []\n",
        "for fName in os.listdir(address_sample_path):\n",
        "  address_sample_list.append(address_sample_path + fName)\n",
        "address_sample_list"
      ]
    },
    {
      "attachments": {},
      "cell_type": "markdown",
      "metadata": {},
      "source": [
        "Before embedded audio, each audio file need to be at the same length. We are going to pad the audio file"
      ]
    },
    {
      "cell_type": "code",
      "execution_count": 6,
      "metadata": {},
      "outputs": [],
      "source": [
        "import numpy as np\n",
        "# padding the audio file\n",
        "def pad_audio(audio, sr, duration):\n",
        "\tpadding_samples = int(duration*sr) - len(audio)\n",
        "\tif padding_samples <= 0:\n",
        "\t\treturn audio\n",
        "\telse:\n",
        "\t\treturn np.pad(audio, (0, padding_samples), 'constant')"
      ]
    },
    {
      "cell_type": "code",
      "execution_count": 7,
      "metadata": {},
      "outputs": [
        {
          "data": {
            "text/plain": [
              "268.4602721088435"
            ]
          },
          "execution_count": 7,
          "metadata": {},
          "output_type": "execute_result"
        }
      ],
      "source": [
        "max_duration = 0\n",
        "for sample in address_sample_list:\n",
        "  audio, sr = sf.read(sample)\n",
        "  max_duration = max(max_duration, len(audio) / sr)\n",
        "max_duration"
      ]
    },
    {
      "cell_type": "code",
      "execution_count": 8,
      "metadata": {
        "colab": {
          "base_uri": "https://localhost:8080/"
        },
        "id": "33CIJGn9IV2A",
        "outputId": "04426165-b634-4f7b-d7f5-24efd9d85392"
      },
      "outputs": [
        {
          "name": "stdout",
          "output_type": "stream",
          "text": [
            "84/84 [==============================] - 181s 2s/step\n",
            "84/84 [==============================] - 179s 2s/step\n",
            "84/84 [==============================] - 177s 2s/step\n",
            "84/84 [==============================] - 199s 2s/step\n",
            "84/84 [==============================] - 216s 3s/step\n",
            "84/84 [==============================] - 200s 2s/step\n"
          ]
        }
      ],
      "source": [
        "result = []\n",
        "for sample in address_sample_list:\n",
        "  audio, sr = sf.read(sample)\n",
        "  if len(audio.shape) > 1:\n",
        "    audio = audio.mean(axis=1)\n",
        "  audio = pad_audio(audio, sr, max_duration)\n",
        "  embedding, timestamps = openl3.get_audio_embedding(audio, sr)\n",
        "  result.append([embedding, timestamps])"
      ]
    },
    {
      "cell_type": "code",
      "execution_count": null,
      "metadata": {
        "colab": {
          "base_uri": "https://localhost:8080/"
        },
        "id": "UK7m6LBapSWL",
        "outputId": "a21f00cd-5fde-45be-9881-63ebd4cc1b5e"
      },
      "outputs": [],
      "source": [
        "result"
      ]
    },
    {
      "attachments": {},
      "cell_type": "markdown",
      "metadata": {
        "id": "8fPBxKnaJat0"
      },
      "source": [
        "# **Classification**\n",
        "# Classics\n",
        "* https://scikit-learn.org/stable/supervised_learning.html\n",
        "* Logistic regression, Support Vector Classification, Decision Tree, Random Forest, Neural Net, AdaBoost, Naïve Bayes\n",
        "* https://scikit-learn.org/stable/auto_examples/classification/plot_classifier_comparison.html\n",
        "\n",
        "# Classification heads\n",
        "* https://www.isca-speech.org/archive/pdfs/interspeech_2021/gauder21_interspeech.pdf\n",
        "* Neural networks - Conv1D (k=1), Conv1D (k=3), Global. Average\n",
        "* https://www.isca-speech.org/archive/pdfs/interspeech_2021/wang21ca_interspeech.pdf-Neural networks - Conv - Conv1D - Softmax\n",
        "* Others\n",
        "* https://www.tensorflow.org/tutorials/images/transfer_learning#add_a_classification_head"
      ]
    },
    {
      "attachments": {},
      "cell_type": "markdown",
      "metadata": {
        "id": "SA1UbgKTmGq1"
      },
      "source": [
        "**Classic - Logistic Regressing**"
      ]
    },
    {
      "cell_type": "code",
      "execution_count": null,
      "metadata": {
        "id": "HqGAemlbmPOz"
      },
      "outputs": [],
      "source": [
        "# using logistic regressing to predict\n",
        "from sklearn.linear_model import LogisticRegression\n",
        "from sklearn.model_selection import train_test_split\n",
        "from sklearn.metrics import accuracy_score\n",
        "\n",
        "# make X 2D by its row is each sample and 3 column is each feature\n",
        "\n",
        "X = []\n",
        "y = []\n",
        "for i in range(len(result)):\n",
        "  X.append(result[i][0][0])\n",
        "  y.append(address_sample_clean_df['dx'].iloc[i])"
      ]
    },
    {
      "cell_type": "code",
      "execution_count": null,
      "metadata": {},
      "outputs": [],
      "source": [
        "X_train, X_test, y_train, y_test = train_test_split(X, y, test_size=0.2, random_state=0)\n",
        "clf = LogisticRegression(random_state=0).fit(X_train, y_train)"
      ]
    },
    {
      "cell_type": "code",
      "execution_count": null,
      "metadata": {},
      "outputs": [],
      "source": [
        "# save model \n",
        "import pickle\n",
        "pickle.dump(clf, open('logistic_regression_model.sav', 'wb'))"
      ]
    },
    {
      "cell_type": "code",
      "execution_count": null,
      "metadata": {},
      "outputs": [],
      "source": [
        "y_pred = clf.predict(X_test)\n",
        "accuracy_score(y_test, y_pred)"
      ]
    },
    {
      "attachments": {},
      "cell_type": "markdown",
      "metadata": {},
      "source": [
        "Showing Confusion Matrix below"
      ]
    },
    {
      "cell_type": "code",
      "execution_count": null,
      "metadata": {},
      "outputs": [],
      "source": [
        "# confusion matrix\n",
        "from sklearn.metrics import confusion_matrix\n",
        "import seaborn as sns\n",
        "import matplotlib.pyplot as plt\n",
        "\n",
        "cm = confusion_matrix(y_test, y_pred)\n",
        "sns.heatmap(cm, annot=True, fmt='g')\n",
        "plt.xlabel('Predicted')\n",
        "plt.ylabel('Truth')\n",
        "plt.show()"
      ]
    }
  ],
  "metadata": {
    "accelerator": "GPU",
    "colab": {
      "authorship_tag": "ABX9TyNTlaCt8NKQKNONnoX5wYSt",
      "collapsed_sections": [
        "8fPBxKnaJat0"
      ],
      "gpuType": "T4",
      "include_colab_link": true,
      "provenance": []
    },
    "kernelspec": {
      "display_name": "Python 3",
      "name": "python3"
    },
    "language_info": {
      "codemirror_mode": {
        "name": "ipython",
        "version": 3
      },
      "file_extension": ".py",
      "mimetype": "text/x-python",
      "name": "python",
      "nbconvert_exporter": "python",
      "pygments_lexer": "ipython3",
      "version": "3.10.7"
    }
  },
  "nbformat": 4,
  "nbformat_minor": 0
}
