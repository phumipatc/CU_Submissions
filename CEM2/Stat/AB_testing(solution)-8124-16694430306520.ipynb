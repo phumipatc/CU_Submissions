{
  "nbformat": 4,
  "nbformat_minor": 0,
  "metadata": {
    "colab": {
      "provenance": []
    },
    "kernelspec": {
      "name": "python3",
      "display_name": "Python 3"
    },
    "language_info": {
      "name": "python"
    }
  },
  "cells": [
    {
      "cell_type": "markdown",
      "metadata": {
        "id": "C70XHGojs2sl"
      },
      "source": [
        "Do problem 1, 2, 3, 9, 10"
      ]
    },
    {
      "cell_type": "markdown",
      "metadata": {
        "id": "oIQnbt2DHtrt"
      },
      "source": [
        "## 1. Select the problem"
      ]
    },
    {
      "cell_type": "markdown",
      "metadata": {
        "id": "E9GRKq0cMQHi"
      },
      "source": [
        "Which of the following use cases can you reliably conduct an A/B test? (True/False)\n",
        "\n",
        "1.1. Frontend person wants to change color of the 'Go' button on a search bar. Will it increase conversion rate?\n",
        "\n",
        "1.2. The data team created four versions of machine learning model for product recommendations to new users of an app. Which one is the best?\n",
        "\n",
        "1.3. Two managers from different factions have Layout A and Layout B for a physical convenience store. Which one should we use?\n",
        "\n",
        "1.4. Mr. Rabbito thinks offline stores are the best channel to distribute our products, whereas Ms. Rakko thinks online websites are the way to go. Who is right?\n",
        "\n",
        "1.5. Your boss wants to add a premium version to your freemium service. Is it a good idea?\n",
        "\n",
        "1.6. The backend team came up with a new setup that they think will speed up the website load time. Should we implement this change?\n",
        "\n",
        "1.7. Kuruma Inc., a car dealer, wants to change the banner on their homepage to see if it will attract more repeated customers. Average time between purchase of the car company is 5 years. How do you know if the banner change has an effect? \n",
        "\n",
        "1.8. Your company undergoes a total revamp of its corporate identity. Is it the right call?\n",
        "\n",
        "1.9. Elastic ninja at your company wants to show 15 products on the first page of search results instead of 20 products. Should you allow them?\n",
        "\n",
        "1.10. Marketing person wants to know who respond better to our ads campaigns between iOS users and Android users. How to tell?\n"
      ]
    },
    {
      "cell_type": "markdown",
      "source": [
        "**Solution**\n",
        "\n",
        "1.1. T\n",
        "1.2. T\n",
        "1.3. F\n",
        "1.4. F\n",
        "1.5. F\n",
        "1.6. T\n",
        "1.7. F\n",
        "1.8. F\n",
        "1.9. T\n",
        "1.10. T\n",
        "\n"
      ],
      "metadata": {
        "id": "Ld5446OlVo1v"
      }
    },
    {
      "cell_type": "markdown",
      "metadata": {
        "id": "ZrakIXcoK2nx"
      },
      "source": [
        "## 2. Choose the method\n"
      ]
    },
    {
      "cell_type": "markdown",
      "metadata": {
        "id": "LrYKr_dgMRXS"
      },
      "source": [
        "What are the metrics you should use for the following A/B tests? Assume that the granularities are: page views and unique visitors.\n",
        "\n",
        "2.1. Which button colors will make customers find it more easily? clicks / __\n",
        "\n",
        "2.2. Which sets of products on a landing page will make customers more likely to buy? purchases / __\n",
        "\n",
        "2.3. Which types of promotion coupons will be more effective? purchases / __\n",
        "\n",
        "2.4. Which website layouts will attract more customers to click on sign up button? clicks / __"
      ]
    },
    {
      "cell_type": "markdown",
      "source": [
        "**Solution**\n",
        "\n",
        "2.1. clicks / page views\n",
        "\n",
        "2.2. purchases / unique visitors\n",
        "\n",
        "2.3. purchases / unique visitors\n",
        "\n",
        "2.4. clicks / page views"
      ],
      "metadata": {
        "id": "fK1pIspCV7-x"
      }
    },
    {
      "cell_type": "markdown",
      "metadata": {
        "id": "t7ChacCxMVbi"
      },
      "source": [
        "## 3. Concern the period"
      ]
    },
    {
      "cell_type": "markdown",
      "metadata": {
        "id": "nZox1jlmLKo_"
      },
      "source": [
        "\n",
        "\n",
        "Based on the transaction table below, \n",
        "\n",
        "3.1. what are the event-based conversion rate of 2020-11? \n",
        "\n",
        "3.2. what are cohort-based conversion rate of 2020-11? \n",
        "\n",
        "Assume 7-day attribution period. Conversion rate is calculated by purchases / unique users.\n",
        "\n",
        "| date       | user | event    |\n",
        "|------------|------|----------|\n",
        "| 2020-11-01 | A    | visit    |\n",
        "| 2020-11-01 | A    | purchase |\n",
        "| 2020-11-05 | B    | visit    |\n",
        "| 2020-11-13 | B    | visit    |\n",
        "| 2020-11-30 | C    | visit    |\n",
        "| 2020-12-05 | C    | purchase |\n"
      ]
    },
    {
      "cell_type": "markdown",
      "source": [
        "**Solution**\n",
        "\n",
        "3.1. 1 purchase (A) / 3 unique visitors (A, B, C)\n",
        "\n",
        "3.2. 2 purchases (A, C) / 3 unique visitors (A, B, C)"
      ],
      "metadata": {
        "id": "xkJI4XMAWE7Z"
      }
    },
    {
      "cell_type": "markdown",
      "metadata": {
        "id": "rCb_Hz2YLPFc"
      },
      "source": [
        "## 4. Familiar with incoming data"
      ]
    },
    {
      "cell_type": "markdown",
      "metadata": {
        "id": "Flbcb-VTMcvv"
      },
      "source": [
        "Give 3 examples of values that are usually distributed in the following manner (do not use examples from class):\n",
        "\n",
        "4.1. Bernoulli/Binomial distributions: __, __, __\n",
        "\n",
        "4.2. Normal/Student t's distribution: __, __, __\n",
        "\n",
        "4.3. Exponential distribution: __, __, __\n",
        "\n",
        "4.4. Poisson distribution: __, __, __\n"
      ]
    },
    {
      "cell_type": "markdown",
      "source": [
        "**Solution**\n",
        "\n",
        "4.1 Bernoulli/Binomial distributions: coin tosses, chance of a lottery ticket to be a winning one, chance of a product being defective\n",
        "\n",
        "4.2 Normal/Student t's distribution: heights, weights, standardized test scores\n",
        "\n",
        "4.3 Exponential distribution: wait times between buses, customer spending, number of days between machine breakdowns\n",
        "\n",
        "4.4 Poisson distribution: number of bus arrivals at a stop per hour, number of site visitors per day, number of road accidents per day during the holiday season"
      ],
      "metadata": {
        "id": "Y5YhyRFYYF2o"
      }
    },
    {
      "cell_type": "markdown",
      "metadata": {
        "id": "2ynw2NlvO1YM"
      },
      "source": [
        "## 5. Design experiments\n"
      ]
    },
    {
      "cell_type": "markdown",
      "metadata": {
        "id": "JBU_a2CAO0mp"
      },
      "source": [
        "Which variables should you control for in an A/B test of the following cases?\n",
        "\n",
        "5.1. We want to test if SMOKING -> CANCER (Smoking causes cancer) and we know that AGE -> SMOKING and AGE -> CANCER. We should control for __\n",
        "\n",
        "5.2. We want to test if GUN OWNERSHIP -> CRIMES and we know that GUN OWNERSHIP -> GUN SALES and CRIMES -> GUN SALES. We should control for __\n",
        "\n",
        "5.3. We want to test if CROP BURNING -> LUNG DISEASES and we know that CROP BURNING -> PM2.5 and PM2.5 -> LUNG DISEASES. We should control for __"
      ]
    },
    {
      "cell_type": "markdown",
      "source": [
        "**Solution**\n",
        "\n",
        "5.1. We should control for AGE.\n",
        "\n",
        "5.2. We should control for nothing.\n",
        "\n",
        "5.3. We should control for nothing."
      ],
      "metadata": {
        "id": "GOfQWvdHWS7P"
      }
    },
    {
      "cell_type": "markdown",
      "metadata": {
        "id": "brJWW5noNCxC"
      },
      "source": [
        "## 6. LLN\n",
        "The Law of Large Numbers (LLN) says that sample mean will converge to expectation as sample size grows. Assuming that this is true, prove that sample variance will converge to variance as sample size grows. "
      ]
    },
    {
      "cell_type": "markdown",
      "source": [
        "**Solution**\n",
        "\n",
        "\\begin{align}\n",
        "s^2 &= \\frac{1}{n}\\sum_{i=1}^{n}(X_i - \\bar{X}^2) \\\\\n",
        "&= \\frac{1}{n}\\sum_{i=1}^{n}(X_i - \\mu)^2 \\text{; as }n\\rightarrow\\infty\\text{ }\\bar{X}\\rightarrow\\mu\\\\\n",
        "&=\\frac{1}{n}(\\sum_{i=1}^{n}{X_i}^2 - 2\\mu\\sum_{i=1}^{n}X_i + n\\mu^2) \\\\\n",
        "&=\\frac{\\sum_{i=1}^{n}{X_i}^2}{n} - \\frac{2\\mu\\sum_{i=1}^{n}X_i}{n} + \\mu^2 \\\\\n",
        "&= \\frac{\\sum_{i=1}^{n}{X_i}^2}{n} - 2\\mu\\bar{X} + \\mu^2\\text{; as }\\frac{\\sum_{i=1}^{n}X_i}{n} = \\bar{X}\\\\\n",
        "&= \\frac{\\sum_{i=1}^{n}{X_i}^2}{n} - 2\\mu^2 + \\mu^2 = \\frac{\\sum_{i=1}^{n}{X_i}^2}{n} - \\mu^2 \\text{; as }n\\rightarrow\\infty\\text{ }\\bar{X}\\rightarrow\\mu\\\\\n",
        "&= E[{X_i}^2] - E[X_i]^2 = Var(X_i) = \\sigma^2\n",
        "\\end{align}\n"
      ],
      "metadata": {
        "id": "qkAorOU4W9pY"
      }
    },
    {
      "cell_type": "markdown",
      "metadata": {
        "id": "gXZxHnWVPK-b"
      },
      "source": [
        "## 7. P-value"
      ]
    },
    {
      "cell_type": "markdown",
      "metadata": {
        "id": "syQQI14-NOs8"
      },
      "source": [
        "What is p-value? (Choose one or more)\n",
        "\n",
        "7.1. Assuming that the null hypothesis is true, what is the probability of observing the current or more extreme data.\n",
        "\n",
        "7.2. Based on the observed data, what is the probability of the null hypothesis being true.\n",
        "\n",
        "7.3. Based on the observed data, what is the probability of the null hypothesis being false.\n",
        "\n",
        "7.4. Assuming that our hypothesis is true, what is the chance that we reject the null hypothesis."
      ]
    },
    {
      "cell_type": "markdown",
      "source": [
        "**Solution**\n",
        "\n",
        "Only 7.1 is true."
      ],
      "metadata": {
        "id": "oJHNHckGXGCd"
      }
    },
    {
      "cell_type": "markdown",
      "metadata": {
        "id": "CcM7jHD-PVAV"
      },
      "source": [
        "## 8. False positive"
      ]
    },
    {
      "cell_type": "markdown",
      "metadata": {
        "id": "yKmwebBAPXCM"
      },
      "source": [
        "If we conduct a frequentist statistical test at 5% significance level repeatedly for 4,000 times, how many times can we expect to have statistically significant results even if group A and B are exactly the same?"
      ]
    },
    {
      "cell_type": "markdown",
      "source": [
        "**Solution**\n",
        "\n",
        "200 times as false positive rate is expected to be 5%"
      ],
      "metadata": {
        "id": "GwsSkLSSXPfo"
      }
    },
    {
      "cell_type": "markdown",
      "metadata": {
        "id": "lBzo8u9tPb3r"
      },
      "source": [
        "## 9. Hamster Inc. and His Color Package"
      ]
    },
    {
      "cell_type": "markdown",
      "metadata": {
        "id": "PXPOvbWUPjpy"
      },
      "source": [
        "Hamster Inc. once again wants to test the conversion rates between package colors of its sunflower seeds; this time it is Red Package vs Gold Package. The Red Package is the existing group with average conversion rate of 11%. If they think the minimum detectable effect is 1% and want to make a 80/20 control/test split, how many unique users should see each package color before we decide which one performs better? Assume that they are testing at significance level of 15%. Show your work. (Power = 0.5)"
      ]
    },
    {
      "cell_type": "markdown",
      "source": [
        "**Solution**\n",
        "\n",
        "\\begin{align}\n",
        "Z_{\\alpha} + Z_{\\beta} &= \\frac{\\text{MDE}-\\mu}{\\sqrt{\\sigma^2 * (\\frac{1}{n} + \\frac{1}{mn})}} \\\\\n",
        "\\frac{(m+1)\\sigma^2}{mn} &= (\\frac{\\text{MDE}}{Z_{\\alpha} + Z_{\\beta}})^2 \\\\\n",
        "n &= \\frac{m+1}{m}(\\frac{(Z_{\\alpha} + Z_{\\beta}) \\sigma}{\\text{MDE}})^2 \\\\\n",
        "n &= \\frac{5}{4}(\\frac{(Z_{\\alpha} + Z_{\\beta})\\sigma}{\\text{MDE}})^2; m=4 \\text{ due to 80/20 split} \\\\\n",
        "n &= \\frac{5}{4}(\\frac{(1.03643 +Z_{\\beta} ) \\sigma}{\\text{MDE}})^2; Z_{0.15, one-tailed}=1.03643 \\text{ at 15% significance, find out which one is better} \\\\\n",
        "n &= \\frac{5}{4}(\\frac{1.03643 \\sigma}{\\text{MDE}})^2; Z_{\\beta} = Z_{0.5,one-tailed}=0 \\text{ at Power = 0.5} \\\\\n",
        "n &= \\frac{5}{4}(\\frac{1.03643 }{\\text{MDE}})^2 * 0.0979; \\sigma^2 = p*(1-p) = 0.11*(1-0.11) = 0.0979 \\text{ assuming sample variance of control is equal to pooled variance} \\\\\n",
        "n &= \\frac{5}{4}(\\frac{1.03643}{0.01})^2 * 0.0979; MDE = 0.01 \\\\\n",
        "n &= 1314.5451165869708\n",
        "\\end{align}\n",
        "\n",
        "We will need a test group of 1,315 unique visitors and 5,260 unique visitors for the control group."
      ],
      "metadata": {
        "id": "Q6Y2ES4AXRoD"
      }
    },
    {
      "cell_type": "markdown",
      "metadata": {
        "id": "SVflpLWLPmkG"
      },
      "source": [
        "## 10. Hamster Inc. and His A/B Testing Experiment"
      ]
    },
    {
      "cell_type": "markdown",
      "metadata": {
        "id": "Iyb3GtVIPnvA"
      },
      "source": [
        "Let us say Hamster Inc. ran the experiment and got the following results. \n",
        "\n",
        "  10.1. At significance level of 7%, which variation should be chosen to run at 100% traffic? Show your work.\n",
        "\n",
        "  10.2. What are the confidence intervals at 7% significance of conversion rates for Red and Gold? Show your work.\n",
        "\n",
        "| campaign_id | clicks | conv_cnt | conv_per |\n",
        "|------------:|-------:|---------:|---------:|\n",
        "|         Red |  59504 |     5901 | 0.099170 |\n",
        "|        Gold |  58944 |     6012 | 0.101995 |"
      ]
    },
    {
      "cell_type": "markdown",
      "source": [
        "**Soltion**\n",
        "\n",
        "10.1 Null hypothesis is that the conversion rate of Red package is higher than the conversion rate of Gold package. We run a one-tailed Z-test at 7% significance level and reject the null hypothesis. We should run the Gold package at 100% traffic.\n",
        "\n",
        "\\begin{align}\n",
        "p_\\text{pooled} &= \\frac{5901+6012}{59504+58944} \\\\\n",
        "&= 0.10057578008915305 \\\\\n",
        "\\sigma^2_\\text{pooled} &= p_\\text{pooled} * (1-p_\\text{pooled}) \\\\\n",
        "&= 0.10057578008915305 * (1-0.10057578008915305) \\\\ \n",
        "&= 0.09046029254861138 \\\\\n",
        "\\bar{X_\\Delta} &= 0.101995 - 0.099170 = 0.002825\\\\\n",
        "Z_\\Delta &= \\frac{\\bar{X_\\Delta}-\\mu}{\\sqrt{\\frac{\\sigma^2_\\text{A}}{n_\\text{A}} + \\frac{\\sigma^2_\\text{B}}{n_\\text{B}}}} \\\\\n",
        "&= \\frac{0.002825-0}{\\sqrt{0.09046029254861138 * (\\frac{1}{59504} + \\frac{1}{58944})}} \\\\\n",
        "&= 1.6162869810704354 \\\\\n",
        "p_\\Delta &= 0.053026 < 0.07\n",
        "\\end{align}\n",
        "\n",
        "10.2 What are the confidence intervals at 7% significance of conversion rates for Red and Gold? Show your work.\n",
        "\n",
        "\\begin{align}\n",
        "CI &= \\bar{x} \\pm Z_{0.07,one-tailed} * \\sqrt{\\frac{\\sigma^2}{n}} \\\\\n",
        "CI &= \\bar{x} \\pm 1.475791 * \\sqrt{\\frac{\\sigma^2}{n}} \\\\\n",
        "CI_{red} &= 0.099170 \\pm 1.475791 * \\sqrt{\\frac{(0.099170)*(1-0.099170)}{59504}} \\\\\n",
        "&=(0.09736172968006342, 0.10097827031993657) \\\\\n",
        "CI_{gold} &= 0.101995 \\pm 1.475791 * \\sqrt{\\frac{(0.101995)*(1-0.101995)}{58944}} \\\\\n",
        "&=(0.10015535563734503, 0.10383464436265498)\n",
        "\\end{align}\n"
      ],
      "metadata": {
        "id": "DW51geZgXg8n"
      }
    },
    {
      "cell_type": "markdown",
      "metadata": {
        "id": "xiX2iV4ePtI7"
      },
      "source": [
        "## 11. Understanding of A/B Testing"
      ]
    },
    {
      "cell_type": "markdown",
      "metadata": {
        "id": "JlTf3SY1PuBr"
      },
      "source": [
        "\n",
        "Which of the following are true about frequentist A/B tests? (True/False)\n",
        "\n",
        "  11.1. It does not tell us the magnitude of the difference between control and test groups.\n",
        "\n",
        "  11.2. We can never know when to stop the experiments.\n",
        "\n",
        "  11.3. We can never determine if the null hypothesis being true.\n",
        "\n",
        "  11.4. We can run one or as many experiments as we want using the same significance level.\n",
        "\n",
        "  11.5. If we have too many samples in each group, the validity of the test can be jeopardized.\n",
        "\n",
        "  11.6. If you have set up the experiment based on desired minimum detectable effect and significance level, statististical significance is the only factor in determining which group is the better one.\n",
        "\n",
        "  11.7. We can only test difference between two proportions.\n",
        "\n",
        "  11.8. More samples in control and test groups are always better."
      ]
    },
    {
      "cell_type": "markdown",
      "source": [
        "**Solution**\n",
        "\n",
        "11.1 T\n",
        "11.2 F\n",
        "11.3 T\n",
        "11.4 F\n",
        "11.5 T\n",
        "11.6 T\n",
        "11.7 F\n",
        "11.8 F"
      ],
      "metadata": {
        "id": "ZJtGTkxaXxdr"
      }
    },
    {
      "cell_type": "code",
      "source": [],
      "metadata": {
        "id": "nDMQcy8UXy55"
      },
      "execution_count": null,
      "outputs": []
    }
  ]
}