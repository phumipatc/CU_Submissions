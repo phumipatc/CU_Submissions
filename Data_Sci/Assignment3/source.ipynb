{
 "cells": [
  {
   "cell_type": "code",
   "execution_count": 13,
   "metadata": {},
   "outputs": [],
   "source": [
    "import pandas as pd\n",
    "from sklearn.impute import SimpleImputer"
   ]
  },
  {
   "cell_type": "code",
   "execution_count": 6,
   "metadata": {},
   "outputs": [],
   "source": [
    "# Load data set\n",
    "df = pd.read_csv('https://raw.githubusercontent.com/pvateekul/2110446_DSDE_2023s2/main/code/Week03_ML/mushroom2020_dataset.csv')"
   ]
  },
  {
   "cell_type": "code",
   "execution_count": 7,
   "metadata": {},
   "outputs": [
    {
     "name": "stdout",
     "output_type": "stream",
     "text": [
      "<class 'pandas.core.frame.DataFrame'>\n",
      "RangeIndex: 5824 entries, 0 to 5823\n",
      "Data columns (total 24 columns):\n",
      " #   Column                       Non-Null Count  Dtype  \n",
      "---  ------                       --------------  -----  \n",
      " 0   id                           5824 non-null   int64  \n",
      " 1   label                        5764 non-null   object \n",
      " 2   cap-shape                    5824 non-null   object \n",
      " 3   cap-surface                  5797 non-null   object \n",
      " 4   bruises                      5725 non-null   object \n",
      " 5   odor                         5725 non-null   object \n",
      " 6   gill-attachment              5725 non-null   object \n",
      " 7   gill-spacing                 5694 non-null   object \n",
      " 8   gill-size                    5703 non-null   object \n",
      " 9   stalk-shape                  5703 non-null   object \n",
      " 10  stalk-root                   5793 non-null   object \n",
      " 11  stalk-surface-above-ring     5793 non-null   object \n",
      " 12  stalk-surface-below-ring     5793 non-null   object \n",
      " 13  veil-type                    5762 non-null   object \n",
      " 14  ring-number                  5762 non-null   object \n",
      " 15  ring-type                    5762 non-null   object \n",
      " 16  spore-print-color            5768 non-null   object \n",
      " 17  population                   5768 non-null   object \n",
      " 18  habitat                      5793 non-null   object \n",
      " 19  cap-color-rate               5797 non-null   float64\n",
      " 20  gill-color-rate              5703 non-null   float64\n",
      " 21  veil-color-rate              5762 non-null   float64\n",
      " 22  stalk-color-above-ring-rate  5793 non-null   float64\n",
      " 23  stalk-color-below-ring-rate  5762 non-null   float64\n",
      "dtypes: float64(5), int64(1), object(18)\n",
      "memory usage: 1.1+ MB\n"
     ]
    }
   ],
   "source": [
    "df.info()"
   ]
  },
  {
   "cell_type": "code",
   "execution_count": 8,
   "metadata": {},
   "outputs": [],
   "source": [
    "# drop rows with missing label\n",
    "df = df.dropna(subset=['label'])"
   ]
  },
  {
   "cell_type": "code",
   "execution_count": 9,
   "metadata": {},
   "outputs": [
    {
     "name": "stdout",
     "output_type": "stream",
     "text": [
      "<class 'pandas.core.frame.DataFrame'>\n",
      "Index: 5764 entries, 0 to 5823\n",
      "Data columns (total 24 columns):\n",
      " #   Column                       Non-Null Count  Dtype  \n",
      "---  ------                       --------------  -----  \n",
      " 0   id                           5764 non-null   int64  \n",
      " 1   label                        5764 non-null   object \n",
      " 2   cap-shape                    5764 non-null   object \n",
      " 3   cap-surface                  5737 non-null   object \n",
      " 4   bruises                      5665 non-null   object \n",
      " 5   odor                         5665 non-null   object \n",
      " 6   gill-attachment              5665 non-null   object \n",
      " 7   gill-spacing                 5634 non-null   object \n",
      " 8   gill-size                    5643 non-null   object \n",
      " 9   stalk-shape                  5643 non-null   object \n",
      " 10  stalk-root                   5733 non-null   object \n",
      " 11  stalk-surface-above-ring     5733 non-null   object \n",
      " 12  stalk-surface-below-ring     5733 non-null   object \n",
      " 13  veil-type                    5702 non-null   object \n",
      " 14  ring-number                  5702 non-null   object \n",
      " 15  ring-type                    5702 non-null   object \n",
      " 16  spore-print-color            5708 non-null   object \n",
      " 17  population                   5708 non-null   object \n",
      " 18  habitat                      5733 non-null   object \n",
      " 19  cap-color-rate               5737 non-null   float64\n",
      " 20  gill-color-rate              5643 non-null   float64\n",
      " 21  veil-color-rate              5702 non-null   float64\n",
      " 22  stalk-color-above-ring-rate  5733 non-null   float64\n",
      " 23  stalk-color-below-ring-rate  5702 non-null   float64\n",
      "dtypes: float64(5), int64(1), object(18)\n",
      "memory usage: 1.1+ MB\n"
     ]
    }
   ],
   "source": [
    "df.info()"
   ]
  },
  {
   "cell_type": "code",
   "execution_count": 10,
   "metadata": {},
   "outputs": [],
   "source": [
    "# Drop unrelevant variables\n",
    "df = df.drop(columns=['id','gill-attachment', 'gill-spacing', 'gill-size','gill-color-rate','stalk-root', 'stalk-surface-above-ring', 'stalk-surface-below-ring', 'stalk-color-above-ring-rate','stalk-color-below-ring-rate','veil-color-rate','veil-type'])"
   ]
  },
  {
   "cell_type": "code",
   "execution_count": 19,
   "metadata": {},
   "outputs": [
    {
     "name": "stdout",
     "output_type": "stream",
     "text": [
      "<class 'pandas.core.frame.DataFrame'>\n",
      "Index: 5764 entries, 0 to 5823\n",
      "Data columns (total 12 columns):\n",
      " #   Column             Non-Null Count  Dtype  \n",
      "---  ------             --------------  -----  \n",
      " 0   label              5764 non-null   object \n",
      " 1   cap-shape          5764 non-null   object \n",
      " 2   cap-surface        5737 non-null   object \n",
      " 3   bruises            5665 non-null   object \n",
      " 4   odor               5665 non-null   object \n",
      " 5   stalk-shape        5643 non-null   object \n",
      " 6   ring-number        5702 non-null   object \n",
      " 7   ring-type          5702 non-null   object \n",
      " 8   spore-print-color  5708 non-null   object \n",
      " 9   population         5708 non-null   object \n",
      " 10  habitat            5733 non-null   object \n",
      " 11  cap-color-rate     5737 non-null   float64\n",
      "dtypes: float64(1), object(11)\n",
      "memory usage: 585.4+ KB\n"
     ]
    }
   ],
   "source": [
    "df.info()"
   ]
  },
  {
   "cell_type": "code",
   "execution_count": 26,
   "metadata": {},
   "outputs": [],
   "source": [
    "# Fill missing values by adding the mean for numeric variables and the mode for nominal variables.\n",
    "meanImputer = SimpleImputer(strategy='mean')\n",
    "modeImputer = SimpleImputer(strategy='most_frequent')\n",
    "\n",
    "for col in df.columns:\n",
    "\tif df[col].dtype == 'object':\n",
    "\t\tdf[[col]] = modeImputer.fit_transform(df[[col]])\n",
    "\telse:\n",
    "\t\tdf[[col]] = meanImputer.fit_transform(df[[col]])"
   ]
  },
  {
   "cell_type": "code",
   "execution_count": 27,
   "metadata": {},
   "outputs": [
    {
     "name": "stdout",
     "output_type": "stream",
     "text": [
      "<class 'pandas.core.frame.DataFrame'>\n",
      "Index: 5764 entries, 0 to 5823\n",
      "Data columns (total 12 columns):\n",
      " #   Column             Non-Null Count  Dtype  \n",
      "---  ------             --------------  -----  \n",
      " 0   label              5764 non-null   object \n",
      " 1   cap-shape          5764 non-null   object \n",
      " 2   cap-surface        5764 non-null   object \n",
      " 3   bruises            5764 non-null   object \n",
      " 4   odor               5764 non-null   object \n",
      " 5   stalk-shape        5764 non-null   object \n",
      " 6   ring-number        5764 non-null   object \n",
      " 7   ring-type          5764 non-null   object \n",
      " 8   spore-print-color  5764 non-null   object \n",
      " 9   population         5764 non-null   object \n",
      " 10  habitat            5764 non-null   object \n",
      " 11  cap-color-rate     5764 non-null   float64\n",
      "dtypes: float64(1), object(11)\n",
      "memory usage: 585.4+ KB\n"
     ]
    }
   ],
   "source": [
    "df.info()"
   ]
  },
  {
   "cell_type": "code",
   "execution_count": 28,
   "metadata": {},
   "outputs": [
    {
     "data": {
      "text/html": [
       "<div>\n",
       "<style scoped>\n",
       "    .dataframe tbody tr th:only-of-type {\n",
       "        vertical-align: middle;\n",
       "    }\n",
       "\n",
       "    .dataframe tbody tr th {\n",
       "        vertical-align: top;\n",
       "    }\n",
       "\n",
       "    .dataframe thead th {\n",
       "        text-align: right;\n",
       "    }\n",
       "</style>\n",
       "<table border=\"1\" class=\"dataframe\">\n",
       "  <thead>\n",
       "    <tr style=\"text-align: right;\">\n",
       "      <th></th>\n",
       "      <th>label</th>\n",
       "      <th>cap-shape</th>\n",
       "      <th>cap-surface</th>\n",
       "      <th>bruises</th>\n",
       "      <th>odor</th>\n",
       "      <th>stalk-shape</th>\n",
       "      <th>ring-number</th>\n",
       "      <th>ring-type</th>\n",
       "      <th>spore-print-color</th>\n",
       "      <th>population</th>\n",
       "      <th>habitat</th>\n",
       "      <th>cap-color-rate</th>\n",
       "    </tr>\n",
       "  </thead>\n",
       "  <tbody>\n",
       "    <tr>\n",
       "      <th>0</th>\n",
       "      <td>0</td>\n",
       "      <td>x</td>\n",
       "      <td>s</td>\n",
       "      <td>t</td>\n",
       "      <td>p</td>\n",
       "      <td>e</td>\n",
       "      <td>o</td>\n",
       "      <td>p</td>\n",
       "      <td>k</td>\n",
       "      <td>s</td>\n",
       "      <td>u</td>\n",
       "      <td>1.0</td>\n",
       "    </tr>\n",
       "    <tr>\n",
       "      <th>1</th>\n",
       "      <td>1</td>\n",
       "      <td>x</td>\n",
       "      <td>s</td>\n",
       "      <td>t</td>\n",
       "      <td>a</td>\n",
       "      <td>e</td>\n",
       "      <td>o</td>\n",
       "      <td>p</td>\n",
       "      <td>n</td>\n",
       "      <td>n</td>\n",
       "      <td>g</td>\n",
       "      <td>2.0</td>\n",
       "    </tr>\n",
       "    <tr>\n",
       "      <th>2</th>\n",
       "      <td>1</td>\n",
       "      <td>b</td>\n",
       "      <td>s</td>\n",
       "      <td>t</td>\n",
       "      <td>l</td>\n",
       "      <td>e</td>\n",
       "      <td>o</td>\n",
       "      <td>p</td>\n",
       "      <td>n</td>\n",
       "      <td>n</td>\n",
       "      <td>m</td>\n",
       "      <td>3.0</td>\n",
       "    </tr>\n",
       "    <tr>\n",
       "      <th>3</th>\n",
       "      <td>0</td>\n",
       "      <td>x</td>\n",
       "      <td>y</td>\n",
       "      <td>t</td>\n",
       "      <td>p</td>\n",
       "      <td>e</td>\n",
       "      <td>o</td>\n",
       "      <td>p</td>\n",
       "      <td>k</td>\n",
       "      <td>s</td>\n",
       "      <td>u</td>\n",
       "      <td>3.0</td>\n",
       "    </tr>\n",
       "    <tr>\n",
       "      <th>4</th>\n",
       "      <td>1</td>\n",
       "      <td>x</td>\n",
       "      <td>s</td>\n",
       "      <td>f</td>\n",
       "      <td>n</td>\n",
       "      <td>t</td>\n",
       "      <td>o</td>\n",
       "      <td>e</td>\n",
       "      <td>n</td>\n",
       "      <td>a</td>\n",
       "      <td>g</td>\n",
       "      <td>4.0</td>\n",
       "    </tr>\n",
       "  </tbody>\n",
       "</table>\n",
       "</div>"
      ],
      "text/plain": [
       "   label cap-shape cap-surface bruises odor stalk-shape ring-number ring-type  \\\n",
       "0      0         x           s       t    p           e           o         p   \n",
       "1      1         x           s       t    a           e           o         p   \n",
       "2      1         b           s       t    l           e           o         p   \n",
       "3      0         x           y       t    p           e           o         p   \n",
       "4      1         x           s       f    n           t           o         e   \n",
       "\n",
       "  spore-print-color population habitat  cap-color-rate  \n",
       "0                 k          s       u             1.0  \n",
       "1                 n          n       g             2.0  \n",
       "2                 n          n       m             3.0  \n",
       "3                 k          s       u             3.0  \n",
       "4                 n          a       g             4.0  "
      ]
     },
     "execution_count": 28,
     "metadata": {},
     "output_type": "execute_result"
    }
   ],
   "source": [
    "# Convert the label variable e (edible) to 1 and p (poisonous) to 0\n",
    "df['label'] = df['label'].replace({'e':1, 'p':0})\n",
    "\n",
    "df.head()"
   ]
  },
  {
   "cell_type": "code",
   "execution_count": 30,
   "metadata": {},
   "outputs": [
    {
     "data": {
      "text/plain": [
       "label\n",
       "0    0.634976\n",
       "1    0.365024\n",
       "Name: proportion, dtype: float64"
      ]
     },
     "execution_count": 30,
     "metadata": {},
     "output_type": "execute_result"
    }
   ],
   "source": [
    "df['label'].value_counts(normalize=True)"
   ]
  },
  {
   "cell_type": "code",
   "execution_count": null,
   "metadata": {},
   "outputs": [],
   "source": [
    "# Convert the nominal variable to numeric using a dummy code with drop_first = True."
   ]
  }
 ],
 "metadata": {
  "kernelspec": {
   "display_name": "Python 3",
   "language": "python",
   "name": "python3"
  },
  "language_info": {
   "codemirror_mode": {
    "name": "ipython",
    "version": 3
   },
   "file_extension": ".py",
   "mimetype": "text/x-python",
   "name": "python",
   "nbconvert_exporter": "python",
   "pygments_lexer": "ipython3",
   "version": "3.12.0"
  }
 },
 "nbformat": 4,
 "nbformat_minor": 2
}
