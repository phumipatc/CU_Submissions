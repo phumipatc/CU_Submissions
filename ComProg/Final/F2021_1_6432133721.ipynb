{
  "nbformat": 4,
  "nbformat_minor": 0,
  "metadata": {
    "colab": {
      "name": "F2021-1-6432133721.ipynb",
      "provenance": [],
      "collapsed_sections": []
    },
    "kernelspec": {
      "display_name": "Python 3",
      "name": "python3"
    },
    "language_info": {
      "name": "python"
    }
  },
  "cells": [
    {
      "cell_type": "markdown",
      "metadata": {
        "id": "L9hNibotW3Zh"
      },
      "source": [
        "<center>\n",
        "<h1>2110101 Computer Programming</h1>\n",
        "ข้อสอบปลายภาค ภาคการศึกษาต้น ปีการศึกษา 2564<br>2 ธันวาคม 2564 (8:30 - 11:30น.)\n",
        "</center>\n",
        "<hr>\n",
        "\n",
        "- ข้อมูลแบ่งเป็น คะแนนเต็ม 110 (แถม 10 คะแนน)\n",
        " - ตอนที่ 1 (20 คะแนน)\n",
        "   - คำถามเติมคำตอบ จำนวน 11 ข้อ\n",
        " - ตอนที่ 2 (90 คะแนน) โจทย์เขียนโปรแกรม 6 ข้อ ข้อละ 15 คะแนน\n",
        "- อนุญาตให้เปิดตำราและค้นข้อมูลได้\n",
        "- ห้ามสื่อสารกับผู้อื่น (ยกเว้นอาจารย์ผู้สอนและผู้คุมสอบ)\n",
        "- เมื่อหมดเวลา ให้บันทึกแฟ้ม และหยุดการพิมพ์ใด ๆ ทั้งสิ้น\n",
        "- นิสิตที่กระทำผิดเกี่ยวกับการสอบ ตามข้อบังคับจุฬาลงกรณ์มหาวิทยาลัย มีโทษคือได้รับสัญลักษณ์ F ในรายวิชานี้ และอาจพิจารณาให้ถอนรายวิชาอื่นที่ลงทะเบียนไว้ ในภาคการศึกษานี้"
      ]
    },
    {
      "cell_type": "code",
      "metadata": {
        "cellView": "form",
        "id": "kEdA986EXF2v"
      },
      "source": [
        "#@title เติมข้อมูลข้างล่างนี้ให้สมบูรณ์\n",
        "#@markdown ข้าพเจ้ายอมรับและยินดีปฏิบัติตามระเบียบการสอบ ข้าพเจ้ายืนยันว่าเป็นผู้ทำข้อสอบนี้ด้วยตนเองโดยมิได้รับความช่วยเหลือ หรือให้ความช่วยเหลือในการทำข้อสอบนี้ \n",
        "\n",
        "#@markdown พิมพ์ชื่อและนามสกุลในช่องว่างข้างล่างนี้\n",
        "\n",
        "ลงชื่อ = ' \\u0E20\\u0E39\\u0E21\\u0E34\\u0E1E\\u0E31\\u0E12\\u0E19\\u0E4C \\u0E0A\\u0E31\\u0E22\\u0E1B\\u0E23\\u0E30\\u0E40\\u0E2A\\u0E23\\u0E34\\u0E10\\u0E2A\\u0E38\\u0E14' #@param {type:\"string\"}"
      ],
      "execution_count": null,
      "outputs": []
    },
    {
      "cell_type": "markdown",
      "metadata": {
        "id": "944A_RyGw4Cn"
      },
      "source": [
        "# ตอนที่ 1: คำถามเติมคำตอบ\n",
        "6432133721"
      ]
    },
    {
      "cell_type": "markdown",
      "metadata": {
        "id": "c7frIHHKw4Co"
      },
      "source": [
        "### คำถาม 1/11\n",
        "อยากทราบว่า <font size=+1>${  \\sum_{k=1}^{5}{ \\left ( \\sum_{j=2}^{6} {\\left ( {(k-j)^j}{j^k} \\right )} \\right )} }$</font> มีค่าเท่าไร\n"
      ]
    },
    {
      "cell_type": "code",
      "metadata": {
        "cellView": "form",
        "id": "XV99hAc7w4Co"
      },
      "source": [
        "#@title คำตอบ 1/11\n",
        "#@markdown เติมคำตอบแทนคำว่า None ข้างล่างนี้\n",
        "answer = 477592 #@param {type:\"raw\"}"
      ],
      "execution_count": null,
      "outputs": []
    },
    {
      "cell_type": "markdown",
      "metadata": {
        "id": "Tj-RlRekw4Co"
      },
      "source": [
        "### คำถาม 2/11\n",
        "<pre>\n",
        "import numpy as np\n",
        "def f1(x): # x เป็น 1-D numpy array of floats\n",
        "    n = len(x)\n",
        "    D = np.zeros((n,n))\n",
        "    for i in range(n):\n",
        "        for j in range(i+1,n):\n",
        "            D[i,j] = x[i] - x[j]\n",
        "            D[j,i] = x[j] - x[i]\n",
        "    return D\n",
        "</pre>\n",
        "จงเติมคำสั่งในช่องว่างที่ขีดเส้นใต้ของฟังก์ชัน `f2` ข้างล่างนี้ เพื่อให้ `f2` ทำงานแล้วได้ผลลัพธ์เหมือน `f1` ข้างบน\n",
        "<pre>\n",
        "def f2(x):\n",
        "    z = np.array([x]).T\n",
        "    return _____________________\n",
        "</pre>"
      ]
    },
    {
      "cell_type": "code",
      "metadata": {
        "cellView": "form",
        "id": "wW3k3RVcw4Cp"
      },
      "source": [
        "#@title คำตอบ 2/11\n",
        "#@markdown เติมคำตอบแทนคำว่า None ข้างล่างนี้\n",
        "answer = z - z.T #@param {type:\"raw\"}"
      ],
      "execution_count": null,
      "outputs": []
    },
    {
      "cell_type": "markdown",
      "metadata": {
        "id": "hOuvAFpyw4Cp"
      },
      "source": [
        "### คำถาม 3/11\n",
        "ให้ `d` เป็น dict ที่เก็บข้อมูล `{ชื่อ: ลิสต์ของเลขประจำตัวนิสิต}` จงเขียนคำสั่งในช่องว่างที่ขีดเส้นใต้ของฟังก์ชันข้างล่างนี้ เพื่อให้ฟังก์ชันนี้คืน set of tuples ที่เก็บข้อมูล `{ (เลขประจำตัวนิสิต,ชื่อ), ...}`\n",
        "\n",
        "หมายเหตุ: เลขประจำตัวหนึ่งต้องมีแค่ชื่อเดียว แต่ชื่อหนึ่งมีหลายเลขประจำตัวได้ (คนชื่อซ้ำกันมีมากมาย)\n",
        "<pre>\n",
        "def f(d):\n",
        "    x = set()\n",
        "    for k in d:\n",
        "        for e in d[k]:\n",
        "            ______________\n",
        "    return x\n",
        "</pre>"
      ]
    },
    {
      "cell_type": "code",
      "metadata": {
        "cellView": "form",
        "id": "eR8mq-Y_w4Cq"
      },
      "source": [
        "#@title คำตอบ 3/11\n",
        "#@markdown เติมคำตอบแทนคำว่า None ข้างล่างนี้\n",
        "answer = x.add((e, k)) #@param {type:\"raw\"}"
      ],
      "execution_count": null,
      "outputs": []
    },
    {
      "cell_type": "markdown",
      "metadata": {
        "id": "g8mxmeacw4Cq"
      },
      "source": [
        "### คำถาม 4/11\n",
        "<pre>\n",
        "def f1(x): \n",
        "    d = []\n",
        "    for k,v in x.items():\n",
        "        if k == v:\n",
        "            d += [(k, 2*v)]\n",
        "    return d\n",
        "</pre>\n",
        "จงเติมคำสั่งในช่องว่างที่ขีดเส้นใต้ของฟังก์ชัน `f2` ข้างล่างนี้ เพื่อให้ `f2` ทำงานแล้วได้ผลลัพธ์เหมือน `f1` ข้างบน\n",
        "<pre>\n",
        "def f2(x):\n",
        "    return _________________________\n",
        "</pre>"
      ]
    },
    {
      "cell_type": "code",
      "metadata": {
        "cellView": "form",
        "id": "rgONENorw4Cq"
      },
      "source": [
        "#@title คำตอบ 4/11\n",
        "#@markdown เติมคำตอบแทนคำว่า None ข้างล่างนี้\n",
        "answer = [(k, 2*v) for k, v in x.items() if k == v] #@param {type:\"raw\"}"
      ],
      "execution_count": null,
      "outputs": []
    },
    {
      "cell_type": "markdown",
      "metadata": {
        "id": "mFbTkjOGw4Cr"
      },
      "source": [
        "### คำถาม 5/11\n",
        "<pre>\n",
        "class A: \n",
        "    def __init__(self, a, b):\n",
        "        self.s = [a,b]\n",
        "    def __str__(self):\n",
        "        return ':'.join([(' '+str(e))[-2:] for e in self.s])\n",
        "    def __lt__(self, a):\n",
        "        return _______________________\n",
        "\n",
        "a1 = A(9,0)\n",
        "a2 = A(-9,-1)\n",
        "a3 = A(3,4)\n",
        "a4 = A(-8,5)\n",
        "for a in sorted([a1,a2,a3,a4]):\n",
        "    print(a)\n",
        "</pre>\n",
        "จะต้องเติมคำสั่งอะไรในช่องว่างที่ขีดเส้นใต้ของโปรแกรมข้างบนนี้ หลังจากให้ทำงาน แล้วผลลัพธ์ที่ได้เป็นดังแสดงข้างล่างนี้\n",
        "<pre>\n",
        "-9:-1\n",
        "-8: 5\n",
        " 3: 4\n",
        " 9: 0\n",
        "</pre>"
      ]
    },
    {
      "cell_type": "code",
      "metadata": {
        "cellView": "form",
        "id": "vqQqbUqrw4Cr"
      },
      "source": [
        "#@title คำตอบ 5/11\n",
        "#@markdown เติมคำตอบแทนคำว่า None ข้างล่างนี้\n",
        "answer = self.s[0] < a.s[0] #@param {type:\"raw\"}"
      ],
      "execution_count": null,
      "outputs": []
    },
    {
      "cell_type": "markdown",
      "metadata": {
        "id": "7R4DHlUtw4Cr"
      },
      "source": [
        "### คำถาม 6/11\n",
        "ข้างล่างนี้คือโปรแกรมที่เก็บในแฟ้มชื่อ `final.py`\n",
        "<pre>\n",
        "f = open('final.py')\n",
        "\n",
        "c = []\n",
        "for line in f:\n",
        "    if line.strip() != '': \n",
        "        c.append(1)\n",
        "f.close()\n",
        "\n",
        "print(len(c))\n",
        "</pre>\n",
        "เมื่อสั่งโปรแกรมข้างบนนี้ทำงาน จะแสดงอะไร"
      ]
    },
    {
      "cell_type": "code",
      "metadata": {
        "cellView": "form",
        "id": "jiyJXA-Tw4Cs"
      },
      "source": [
        "#@title คำตอบ 6/11\n",
        "#@markdown เติมคำตอบแทนคำว่า None ข้างล่างนี้\n",
        "answer = 7 #@param {type:\"raw\"}"
      ],
      "execution_count": null,
      "outputs": []
    },
    {
      "cell_type": "markdown",
      "metadata": {
        "id": "PnBjojtvw4Cs"
      },
      "source": [
        "### คำถาม 7/11\n",
        "ให้ `d` เป็น dict ที่เก็บข้อมูล `{เลขประจำตัวนิสิต: ชื่อ}` จงเขียนคำสั่งในช่องว่างที่ขีดเส้นใต้ของฟังก์ชันข้างล่างนี้ เพื่อให้ฟังก์ชันนี้คืน dict ที่เก็บข้อมูล `{ชื่อ: ลิสต์ของเลขประจำตัวนิสิต}`\n",
        "\n",
        "หมายเหตุ: เลขประจำตัวหนึ่งต้องมีแค่ชื่อเดียว แต่ชื่อหนึ่งมีหลายเลขประจำตัวได้ (คนชื่อซ้ำกันมีมากมาย)\n",
        "\n",
        "<pre>\n",
        "def f(d):\n",
        "    x = {}\n",
        "    for e in _________:\n",
        "        x[e] = []\n",
        "    for k in d:\n",
        "        for e in d[k]:\n",
        "            x[e] += [k]\n",
        "    return x\n",
        "</pre>"
      ]
    },
    {
      "cell_type": "code",
      "metadata": {
        "cellView": "form",
        "id": "QjoVvZBow4Cs"
      },
      "source": [
        "#@title คำตอบ 7/11\n",
        "#@markdown เติมคำตอบแทนคำว่า None ข้างล่างนี้\n",
        "answer = d.values() #@param {type:\"raw\"}"
      ],
      "execution_count": null,
      "outputs": []
    },
    {
      "cell_type": "markdown",
      "metadata": {
        "id": "wT_EEIB1w4Cs"
      },
      "source": [
        "### คำถาม 8/11\n",
        "<pre>\n",
        "import numpy as np\n",
        "def f1(x, a): \n",
        "    # x เป็น 1-D numpy array of ints, a เป็น int\n",
        "    g = np.sum(x)/x.shape[0]\n",
        "    for i in range(len(x)):\n",
        "        if x[i] == g: \n",
        "            x[i] = a\n",
        "</pre>\n",
        "จงเติมคำสั่งในช่องว่างที่ขีดเส้นใต้ของฟังก์ชัน `f2` ข้างล่างนี้ เพื่อให้ `f2` ทำงานแล้วได้ผลลัพธ์เหมือน `f1` ข้างบน\n",
        "<pre>\n",
        "def f2(x, a):\n",
        "    x[_______________] = a\n",
        "</pre>"
      ]
    },
    {
      "cell_type": "code",
      "metadata": {
        "cellView": "form",
        "id": "CgN7YKjww4Cs"
      },
      "source": [
        "#@title คำตอบ 8/11\n",
        "#@markdown เติมคำตอบแทนคำว่า None ข้างล่างนี้\n",
        "answer = x == np.sum(x)/x.shape[0] #@param {type:\"raw\"}"
      ],
      "execution_count": null,
      "outputs": []
    },
    {
      "cell_type": "markdown",
      "metadata": {
        "id": "-cYMKamsw4Cs"
      },
      "source": [
        "### คำถาม 9/11\n",
        "จงเติมคำสั่งในช่องว่างที่ขีดเส้นใต้ในโปรแกรมข้างล่างนี้\n",
        "```\n",
        "def f(R, C):\n",
        "    for i in range(R):\n",
        "        out = ''\n",
        "        for j in range(C):\n",
        "            n = ____________________\n",
        "            out += ('   ' + str(n))[-4:]\n",
        "        print(out)\n",
        "\n",
        "f(5, 10)\n",
        "```    \n",
        "เพื่อให้แสดงผลลัพธ์ข้างล่างนี้\n",
        "```\n",
        "  50  49  48  47  46  45  44  43  42  41\n",
        "  40  39  38  37  36  35  34  33  32  31\n",
        "  30  29  28  27  26  25  24  23  22  21\n",
        "  20  19  18  17  16  15  14  13  12  11\n",
        "  10   9   8   7   6   5   4   3   2   1\n",
        "```\n",
        "\n"
      ]
    },
    {
      "cell_type": "code",
      "metadata": {
        "cellView": "form",
        "id": "XTqRWELuw4Ct"
      },
      "source": [
        "#@title คำตอบ 9/11\n",
        "#@markdown เติมคำตอบแทนคำว่า None ข้างล่างนี้\n",
        "answer = R*C - (i * C + j) #@param {type:\"raw\"}"
      ],
      "execution_count": null,
      "outputs": []
    },
    {
      "cell_type": "markdown",
      "metadata": {
        "id": "K-DiCz4iw4Ct"
      },
      "source": [
        "### คำถาม 10/11\n",
        "<pre>\n",
        "class A: \n",
        "    def __init__(self, a, b):\n",
        "        self.s = [a,b]\n",
        "    def __str__(self):\n",
        "        return ':'.join([(' '+str(e))[-2:] for e in self.s])\n",
        "    def f(self):\n",
        "        return ______________________\n",
        "\n",
        "a1 = A(9,1)\n",
        "a2 = a1.f()\n",
        "a3 = a2.f()\n",
        "print(a1)\n",
        "print(a2)\n",
        "print(a3)\n",
        "</pre>\n",
        "จะต้องเติมคำสั่งอะไรในช่องว่างที่ขีดเส้นใต้ของโปรแกรมข้างบนนี้ หลังจากให้ทำงาน แล้วผลลัพธ์ที่ได้เป็นดังแสดงข้างล่างนี้\n",
        "<pre>\n",
        " 9: 1\n",
        "-9:-1\n",
        " 9: 1\n",
        "</pre>"
      ]
    },
    {
      "cell_type": "code",
      "metadata": {
        "cellView": "form",
        "id": "FsKsOSnXw4Ct"
      },
      "source": [
        "#@title คำตอบ 10/11\n",
        "#@markdown เติมคำตอบแทนคำว่า None ข้างล่างนี้\n",
        "answer = A(-self.s[0], -self.s[1]) #@param {type:\"raw\"}"
      ],
      "execution_count": null,
      "outputs": []
    },
    {
      "cell_type": "markdown",
      "metadata": {
        "id": "SbbDzCUYw4Ct"
      },
      "source": [
        "### คำถาม 11/11\n",
        "<pre>\n",
        "import numpy as np\n",
        "def f1(x, a, b): \n",
        "    # x เป็น 1-D numpy array of ints, a และ b เป็น int\n",
        "    return np.array([e for e in x if e < a or e > b])\n",
        "</pre>\n",
        "จงเติมคำสั่งในช่องว่างที่ขีดเส้นใต้ของฟังก์ชัน `f2` ข้างล่างนี้ เพื่อให้ `f2` ทำงานแล้วได้ผลลัพธ์เหมือน `f1` ข้างบน\n",
        "<pre>\n",
        "def f2(x, a, b):\n",
        "    return x[ _________________ ]\n",
        "</pre>"
      ]
    },
    {
      "cell_type": "code",
      "metadata": {
        "cellView": "form",
        "id": "HuP4pYkbw4Ct"
      },
      "source": [
        "#@title คำตอบ 11/11\n",
        "#@markdown เติมคำตอบแทนคำว่า None ข้างล่างนี้\n",
        "answer = (x < a) | (x > b) #@param {type:\"raw\"}"
      ],
      "execution_count": null,
      "outputs": []
    },
    {
      "cell_type": "markdown",
      "metadata": {
        "id": "pRETTobxw4Cu"
      },
      "source": [
        "# ตอนที่ 2: เขียนโปรแกรม\n",
        "6432133721"
      ]
    },
    {
      "cell_type": "markdown",
      "metadata": {
        "id": "mZ3xb9VXw4Cu"
      },
      "source": [
        "## คำถาม 1/6\n"
      ]
    },
    {
      "cell_type": "markdown",
      "metadata": {
        "id": "DnwN4glrGbuO"
      },
      "source": [
        "### **Adding dashes**\n",
        "จงเขียนโปรแกรมเพื่ออ่านสตริงจากแฟ้ม \"data.txt\" ซึ่งจะมีแต่ตัวเลข ตัวอักษรและช่องว่างเท่านั้น ให้โปรแกรมแสดงสตริงที่อ่านจากไฟล์บนหน้าจอ โดยให้ใส่ dash \"-\" คั่นตัวอักษรทุก2ตัวในคำที่เป็นตัวพิมพ์ใหญ่ทั้งคำ \n",
        "\n",
        "<table>\n",
        "<thead>\n",
        "  <tr>\n",
        "    <th>ข้อมูลในแฟ้ม data.txt</th>\n",
        "    <th>ผลลัพธ์ที่แสดงทางจอภาพที่ถูกต้อง</th>\n",
        "    <th>ผลลัพธ์ที่เกือบถูก (ถูกหัก 20%)</th>\n",
        "  </tr>\n",
        "</thead>\n",
        "<tbody>\n",
        "<tr>\n",
        "<td><pre>\n",
        "PYTHON  is  very  popular\n",
        "I use   LOGITEC   mouse\n",
        "CHULALONGKORN      is MY University\n",
        "</pre></td>\n",
        "<td><pre>\n",
        "PY-TH-ON  is  very  popular\n",
        "I use   LO-GI-TE-C   mouse\n",
        "CH-UL-AL-ON-GK-OR-N      is MY University\n",
        "</pre></td>\n",
        "<td><pre>\n",
        "PY-TH-ON is very popular\n",
        "I use LO-GI-TE-C mouse\n",
        "CH-UL-AL-ON-GK-OR-N is MY University\n",
        "</pre></td>\n",
        "</tr>\n",
        "</tbody>\n",
        "</table>\n",
        "\n",
        "## สำคัญมาก\n",
        "\n",
        "- เขียนโปรแกรมที่ต้องการส่งใน code cell ข้างล่างนี้เท่านั้น \n",
        "- ห้ามแก้ไขข้อความใน **บรรทัดแรก** โดยเต็ดขาด"
      ]
    },
    {
      "cell_type": "code",
      "metadata": {
        "id": "BbBw0QcVHJo4",
        "colab": {
          "base_uri": "https://localhost:8080/"
        },
        "outputId": "9f66e1c0-fbb4-4f70-8848-ea7d0ac699d8"
      },
      "source": [
        "# Adding_dashes (DO NOT modify this line)\n",
        "\n",
        "# Put your code only in this code cell.\n",
        "\n",
        "with open('data.txt', 'r') as f:\n",
        "    for line in f:\n",
        "        words = line.split(' ')\n",
        "        for i in range(len(words)):\n",
        "            word = words[i]\n",
        "            if word != '':\n",
        "                if i != 0:\n",
        "                    print(' ', end='')\n",
        "                # word = word.strip()\n",
        "                if word.isupper():\n",
        "                    print('-'.join([word[i:i+2] for i in range(0, len(word), 2)]), end='')\n",
        "                else:\n",
        "                    print(word, end='')\n",
        "            else:\n",
        "                print(' ', end='')\n"
      ],
      "execution_count": 9,
      "outputs": [
        {
          "output_type": "stream",
          "name": "stdout",
          "text": [
            "PY-TH-ON  is  very  popular\n",
            "I use   LO-GI-TE-C   mouse\n",
            "CH-UL-AL-ON-GK-OR-N      is MY University"
          ]
        }
      ]
    },
    {
      "cell_type": "markdown",
      "metadata": {
        "id": "bmhRMSs3w4Cu"
      },
      "source": [
        "## คำถาม 2/6\n"
      ]
    },
    {
      "cell_type": "markdown",
      "metadata": {
        "id": "VIC2PBEwHHtL"
      },
      "source": [
        "### **SALE_REPORT**\n",
        "**คำสั่ง**\n",
        "\n",
        "จงเขียนโปรแกรมรับข้อมูลรายการซื้อสินค้าของลูกค้าซึ่งประกอบด้วย ชื่อ-สกุล  หมายเลขสินค้า และชื่อสินค้า  เราสามารถรับข้อมูลชื่อ-สกุลลูกค้าคนเดิมที่ซื้อสินค้าอื่นเพิ่มได้ จากนั้นรับคำถามเพื่อค้นหมายเลขสินค้าและชื่อสินค้าจากชื่อ-สกุลที่ให้ หรือค้นชื่อ-สกุล จากหมายเลขสินค้าหรือชื่อสินค้าที่ให้\n",
        "\n",
        "\n",
        "**ข้อมูลนำเข้า**\n",
        "\n",
        "บรรทัดแรกเป็นจำนวนเต็ม N \n",
        "\n",
        "N บรรทัดต่อมาเป็นข้อมูลรายการซื้อสินค้าของลูกค้า ประกอบด้วย ชื่อ นามสกุล หมายเลขสินค้า และชื่อสินค้าคั่นด้วยช่องว่าง \n",
        "\n",
        "บรรทัดที่ N+2 เป็นจำนวนเต็ม M \n",
        "\n",
        "M บรรทัดต่อมาเป็นชื่อ นามสกุล (กรณีที่ต้องการให้ค้นหมายเลขสินค้าและชื่อสินค้า) หรือ เป็นหมายเลขสินค้าหรือชื่อสินค้าเท่านั้น (กรณีที่ต้องการให้ค้นชื่อ-สกุล)\n",
        "\n",
        "\n",
        "**ข้อมูลส่งออก**\n",
        "\n",
        "หมายเลขสินค้าและชื่อสินค้า หรือชื่อ-สกุล ขึ้นกับคำถาม ถ้าหาไม่พบให้แสดง Not found \n",
        "\n",
        "(โปรดระวังว่า ชื่อ-สกุลหนึ่งอาจมีหลายหมายเลขสินค้าและชื่อสินค้า และชื่อสินค้าหนึ่งอาจมีหลายชื่อ-สกุล)\n",
        "\n",
        "\n",
        "## **ตัวอย่าง**\n",
        "\n",
        "<pre>\n",
        "<table align=left border=2>\n",
        "<tr><td>Input</td><td>Output</td></tr>\n",
        "<tr><td>6</td><td>iPhone --> Anthony Stark, Henry Pym, Steven Rogers</td></tr> \n",
        "<tr><td>Anthony Stark A1-1111 Samsung</td><td>Anthony Stark --> A1-1111 Samsung, A2-2222 iPhone</td></tr> \n",
        "<tr><td>Henry Pym A2-2222 iPhone</td><td>Steven Rogers --> A2-2222 iPhone</td></tr> \n",
        "<tr><td>Anthony Stark A2-2222 iPhone\n",
        "</td><td>Nokia --> Not found</td></tr> \n",
        "<tr><td>Robert Banner A3-3333 Oppo</td><td>A4-4444 --> Robert Banner</td></tr> \n",
        "<tr><td>Robert Banner A4-4444 Xiaomi</td><td>Oppo --> Robert Banner</td></tr> \n",
        "<tr><td>Steven Rogers A2-2222 iPhone</td><td></td></tr> \n",
        "<tr><td>6</td><td></td></tr> \n",
        "<tr><td>iPhone</td><td></td></tr> \n",
        "<tr><td>Anthony Stark</td><td></td></tr> \n",
        "<tr><td>Steven Rogers</td><td></td></tr> \n",
        "<tr><td>Nokia</td><td></td></tr> \n",
        "<tr><td>A4-4444</td><td></td></tr> \n",
        "<tr><td>Oppo</td><td></td></tr> \n",
        "\n",
        "</table>\n",
        "</pre>\n",
        "\n",
        "\n",
        "\n",
        "## **สำคัญมาก**\n",
        "- เขียนโปรแกรมที่ต้องการส่งใน code cell ข้างล่างนี้เท่านั้น \n",
        "- ห้ามแก้ไขข้อความใน **บรรทัดแรก** โดยเต็ดขาด\n",
        "\n"
      ]
    },
    {
      "cell_type": "code",
      "metadata": {
        "id": "3210vQVDHHtM",
        "colab": {
          "base_uri": "https://localhost:8080/"
        },
        "outputId": "e8b10e98-1364-429a-8077-ef37b49524a3"
      },
      "source": [
        "# Sale_Report (DO NOT modify this line)\n",
        "\n",
        "# Put your code only in this code cell.\n",
        "\n",
        "people = dict()\n",
        "products = dict()\n",
        "products_id = dict()\n",
        "\n",
        "n = int(input())\n",
        "for i in range(n):\n",
        "    name, surname, id, prod = input().split()\n",
        "    name = ' '.join([name, surname])\n",
        "    if name not in people:\n",
        "        people[name] = []\n",
        "    people[name].append((id, prod))\n",
        "\n",
        "    if prod not in products:\n",
        "        products[prod] = []\n",
        "    products[prod].append(name)\n",
        "\n",
        "    if id not in products_id:\n",
        "        products_id[id] = []\n",
        "    products_id[id].append(name)\n",
        "\n",
        "m = int(input())\n",
        "for i in range(m):\n",
        "    target = input().strip()\n",
        "    if target in people:\n",
        "        print(target, '-->', ', '.join(sorted([x[0] + ' ' + x[1] for x in people[target]])))\n",
        "    elif target in products:\n",
        "        print(target, '-->', ', '.join(sorted(products[target])))\n",
        "    elif target in products_id:\n",
        "        print(target, '-->', ', '.join(sorted(products_id[target])))\n",
        "    else:\n",
        "        print(target, '-->', 'Not found')"
      ],
      "execution_count": 2,
      "outputs": [
        {
          "output_type": "stream",
          "name": "stdout",
          "text": [
            "6\n",
            "Anthony Stark A1-1111 Samsung\n",
            "Henry Pym A2-2222 iPhone\n",
            "Anthony Stark A2-2222 iPhone\n",
            "Robert Banner A3-3333 Oppo\n",
            "Robert Banner A4-4444 Xiaomi\n",
            "Steven Rogers A2-2222 iPhone\n",
            "6\n",
            "iPhone\n",
            "iPhone --> Anthony Stark, Henry Pym, Steven Rogers\n",
            "Anthony Stark\n",
            "Anthony Stark --> A1-1111 Samsung, A2-2222 iPhone\n",
            "Steven Rogers\n",
            "Steven Rogers --> A2-2222 iPhone\n",
            "Nokia\n",
            "Nokia --> Not found\n",
            "A4-4444\n",
            "A4-4444 --> Robert Banner\n",
            "Oppo\n",
            "Oppo --> Robert Banner\n"
          ]
        }
      ]
    },
    {
      "cell_type": "markdown",
      "metadata": {
        "id": "hm_JVGtIw4Cv"
      },
      "source": [
        "## คำถาม 3/6\n"
      ]
    },
    {
      "cell_type": "markdown",
      "metadata": {
        "id": "yX-V29fhV4A3"
      },
      "source": [
        "### NESTED\n",
        "ให้เขียนฟังก์ชัน `pattern1(N)` ที่สร้างและคืนลิสต์ซ้อนลิสต์แทนตารางที่มีขนาด `N x N` โดย `N > 0` \n",
        "\n",
        "ตัวอย่าง\n",
        "`pattern1(5)` ได้\n",
        "```\n",
        " [[ 0,  0,  0,  0,  1],\n",
        "  [ 0,  0,  0,  2,  3],\n",
        "  [ 0,  0,  4,  5,  6],\n",
        "  [ 0,  7,  8,  9, 10],\n",
        "  [11, 12, 13, 14, 15]]\n",
        "```\n",
        "ให้เขียนฟังก์ชัน `pattern2(N)` ที่สร้างและคืนลิสต์ซ้อนลิสต์แทนตารางที่มีขนาด `N x N` โดย `N > 0` \n",
        "\n",
        "ตัวอย่าง\n",
        "`pattern2(5)` ได้\n",
        "```\n",
        " [[1,  2,  4,  7, 11],\n",
        "  [0,  3,  5,  8, 12],\n",
        "  [0,  0,  6,  9, 13],\n",
        "  [0,  0,  0, 10, 14],\n",
        "  [0,  0,  0,  0, 15]]\n",
        "```\n"
      ]
    },
    {
      "cell_type": "code",
      "metadata": {
        "id": "CRbzA6YhuiiD"
      },
      "source": [
        "# NESTED_08 (DO NOT modify this line)\n",
        "\n",
        "# Put your code only in this code cell.\n",
        "\n",
        "def pattern1(N):\n",
        "  ret = [[0]*N for _ in range(N)]\n",
        "  cnt = 1\n",
        "  for i in range(N):\n",
        "    for j in range(N-i-1, N):\n",
        "      ret[i][j] = cnt\n",
        "      cnt += 1\n",
        "  return ret\n",
        "\n",
        "def pattern2(N):\n",
        "  ret = [[0]*N for _ in range(N)]\n",
        "  cnt = 1\n",
        "  for i in range(N):\n",
        "    for j in range(0, i+1):\n",
        "      ret[j][i] = cnt\n",
        "      cnt += 1\n",
        "  return ret"
      ],
      "execution_count": 11,
      "outputs": []
    },
    {
      "cell_type": "markdown",
      "metadata": {
        "id": "T8sMFfxiw4Cv"
      },
      "source": [
        "## คำถาม 4/6\n"
      ]
    },
    {
      "cell_type": "markdown",
      "metadata": {
        "id": "wZkqCfkVw4Cv"
      },
      "source": [
        "### **Car Maker**\n",
        "กำหนดให้ข้อมูลนำเข้าแต่ละบรรทัด คือชื่อประเภทรถ (car type) คั่นด้วย ' : ' ตามด้วยยี่ห้อรถผู้ผลิต (maker) คั่นด้วย ',' เช่น\n",
        "\n",
        "```\n",
        "Van : Toyota,Hyundai,Volkswagen\n",
        "SUV : BMW\n",
        "Sedan : Mercedes-Benz,BMW,Honda,Toyota,Nissan\n",
        "Coupe : BMW,Mercedes-Benz,Audi,Ford\n",
        "Pickup : Toyota,Nissan,Ford\n",
        "SUV : Chevrolet,Mitsubishi,Ford,Honda,Toyota,MG\n",
        "Pickup : Isuzu,Mitsubishi,MG,Nissan,Toyota\n",
        "```\n",
        "\n",
        "โปรแกรมข้างล่างนี้ อาศัย dict ชื่อว่า ```CM``` มี key เป็นชื่อยี่ห้อรถ และ value เก็บ set ของชื่อประเภทรถ ที่ key ผลิต ดังนั้น จากข้อมูลข้างบนนี้จะได้\n",
        "\n",
        "```python\n",
        "CM =  {'Toyota': {'Pickup', 'Van', 'Sedan', 'SUV'}, \n",
        "       'Hyundai': {'Van'}, \n",
        "       'Volkswagen': {'Van'}, \n",
        "       'BMW': {'Coupe', 'Sedan', 'SUV'}, \n",
        "       'Mercedes-Benz': {'Coupe', 'Sedan'}, \n",
        "       'Honda': {'Sedan', 'SUV'}, \n",
        "       'Nissan': {'Pickup', 'Sedan'}, \n",
        "       'Audi': {'Coupe'}, \n",
        "       'Ford': {'Pickup', 'Coupe', 'SUV'}, \n",
        "       'Chevrolet': {'SUV'}, \n",
        "       'Mitsubishi': {'Pickup', 'SUV'}, \n",
        "       'MG': {'Pickup', 'SUV'}, \n",
        "       'Isuzu': {'Pickup'}\n",
        "      }\n",
        "```\n",
        "จงเขียนฟังก์ชัน ```make_car_type(), find_makers(), print_maker_with_most_type() และ read_cm()``` ข้างล่างนี้ให้สมบูรณ์ตาม comment และการเก็บข้อมูลที่อธิบายข้างบนนี้\n",
        "\n",
        "## สำคัญมาก\n",
        "- เขียนโปรแกรมที่ต้องการส่งใน code cell ข้างล่างนี้เท่านั้น \n",
        "- ห้ามแก้ไขข้อความใน **บรรทัดแรก** และ code ที่ให้มาโดยเต็ดขาด"
      ]
    },
    {
      "cell_type": "code",
      "metadata": {
        "id": "8GMxbA9tw4Cv"
      },
      "source": [
        "# CAR_MAKER (DO NOT modify this line)\n",
        "\n",
        "# Put your code only in this code cell.\n",
        "\n",
        "def make_car_type(CM, m, t):\n",
        "    # return True if the maker m makes the car type t, otherwise return False\n",
        "    return t in CM[m]\n",
        "\n",
        "\n",
        "def find_makers(CM, t):\n",
        "    # return a list of car makers that makes the car type t in alphabetical order (A-Z).\n",
        "    return sorted([x for x in CM.keys() if make_car_type(CM, x, t)])\n",
        "\n",
        "\n",
        "def print_maker_with_most_type(CM):\n",
        "    # print the maker that makes the most car types.\n",
        "    # if there are more than one maker that makes the most car types,\n",
        "    #   print all those makers in alphabetical order (A-Z) seperated by comma (,)\n",
        "    mx = max([len(CM[x]) for x in CM.keys()])\n",
        "    print(','.join(sorted([x for x in CM.keys() if len(CM[x]) == mx])))\n",
        "\n",
        "\n",
        "def read_cm():\n",
        "    # build a dictionary CM from inputs, of which structure is shown in the example given above\n",
        "\n",
        "    CM = dict()\n",
        "    while True:\n",
        "        d = input().split(' : ')\n",
        "        if len(d) == 1:\n",
        "            break\n",
        "        for x in d[1].split(','):\n",
        "            if x not in CM:\n",
        "                CM[x] = set()\n",
        "            CM[x].add(d[0])\n",
        "    return CM\n"
      ],
      "execution_count": 12,
      "outputs": []
    },
    {
      "cell_type": "markdown",
      "metadata": {
        "id": "GAKQoyJTw4Cv"
      },
      "source": [
        "## คำถาม 5/6\n"
      ]
    },
    {
      "cell_type": "markdown",
      "metadata": {
        "id": "Ruz7bdAabAyJ"
      },
      "source": [
        "จงเขียนฟังก์ชัน `f1`, `f2` และ `f3` ข้างล่างนี้ รวมใน code cell ข้างล่างที่จัดไว้ให้\n",
        "\n",
        "- ห้ามใช้วงวน `for`, `while`, `map`, `reduce`, `itertools`, comprehension, recursive ในทุกฟังก์ชันของข้อนี้\n",
        "- ห้ามเปลี่ยนแปลงค่าของพารามิเตอร์ `x` ของทุกฟังก์ชันในข้อนี้\n",
        "`!$=`\n",
        "<pre>\n",
        "def f1(x):\n",
        "    # รับ x เป็น 1-D numpy array เก็บ floats (มีข้อมูลเกิน 2 ตัวแน่นอน)\n",
        "    # คืน True ถ้าข้อมูลใน x เรียงเป็นลำดับเลขคณิต (arithmetic sequence)\n",
        "    #   ถ้าไม่ใช่คืน False\n",
        "    # หมายเหตุ:\n",
        "    #   ถ้าไม่รู้ว่าลำดับเลขคณิตคืออะไร อ่าน https://en.wikipedia.org/wiki/Arithmetic_progression\n",
        "    #   ถ้าต้องการเปรียบเทียบสองจำนวน เช่น a กับ b ว่าเท่ากันหรือไม่\n",
        "    #     ให้เรียกใช้ฟังก์ชัน np.isclose(a, b) อย่าใช้ a == b \n",
        "    # ตัวอย่าง \n",
        "    #   f1(np.array([1., 3., 5., 7.])) คืน True\n",
        "    #   f1(np.array([-4., -4., -4.])) คืน True\n",
        "    #   f1(np.array([-0.5, 0, 0.5, 1.0])) คืน True\n",
        "    #   f1(np.array([3., 4., 5., 6., 8.])) คืน False\n",
        "</pre>\n",
        "<pre>\n",
        "def f2(x): \n",
        "    # รับ x เป็น 2-D numpy array เก็บ floats\n",
        "    # คืน 2-D numpy array ขนาดเท่ากับ x มีค่าเป็น moving average ของแต่ละแถวใน x\n",
        "    #   โดยแถวที่ r คอลัมน์ที่ c ของผลลัพธ์มีค่าเท่ากับ \n",
        "    #     ค่าเฉลี่ยของ x[r,c], x[r,c+1] และ x[r,c+2]\n",
        "    #     ถ้า ณ คอลัมน์ c ไม่มีคอลัมน์ทางขวา ก็ให้ผลลัพธ์เป็นค่าเท่ากับ x[r,c]\n",
        "    #     ถ้ามีคอลัมน์ c+1 แต่ไม่มีคอลัมน์ c+2 ก็ให้ผลลัพธ์เป็นค่าเฉลี่ยของ x[r,c] กับ x[r,c+1]\n",
        "    # ตัวอย่าง \n",
        "    #   f2(np.array([[1., 2., 3.,  4.], [5., 6., 7.,  8.]])) คืน\n",
        "    #      np.array([[2., 3., 3.5, 4.], [6., 7., 7.5, 8.]])\n",
        "    #   f2(np.array([[9.5]])) คืน np.array([[9.5]])\n",
        "</pre>\n",
        "<pre>\n",
        "def f3(x):\n",
        "    # รับ x เป็น 2-D numpy array เป็น square matrix จำนวนแถวเป็นจำนวนคึ่ และเก็บ 0 กับ 1 เท่านั้น  \n",
        "    # คืน True ถ้า \n",
        "    #     x เก็บค่า 1 ในลักษณะเป็นรูปตัวอักษร N หรือ N กลับด้าน หรือ Z หรือ Z กลับด้าน\n",
        "    #     หรือ x เก็บค่า 0 ในลักษณะเป็นรูปตัวอักษร N หรือ N กลับด้าน หรือ Z หรือ Z กลับด้าน\n",
        "    #     ดังตัวอย่างในรูปข้างล่าง\n",
        "    #   ถ้าไม่ใช่ ให้คืน False\n",
        "    # ตัวอย่าง \n",
        "    #   f3(np.array([[1]])) คืน True\n",
        "    #   f3(np.array([[0]])) คืน True\n",
        "    #   f3(np.array([[1,1,1],[0,1,0],[1,1,1]])) คืน True\n",
        "    #   f3(np.array([[0,0,0],[1,0,1],[0,0,0]])) คืน True\n",
        "    #   f3(np.array([[1,0,0,0,1],[1,1,0,0,1],[1,0,1,0,1],[1,0,0,1,1],[1,0,0,0,1]])) คืน True\n",
        "    #   f3(np.array([[0,0,0,0,0],[1,0,1,1,1],[1,1,0,1,1],[1,1,1,0,1],[0,0,0,0,0]])) คืน True\n",
        "    #   f3(np.array([[1,1,1],[1,0,1],[1,1,1]])) คืน False    \n",
        "</pre>\n",
        "![image.png](data:image/png;base64,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)\n"
      ]
    },
    {
      "cell_type": "code",
      "metadata": {
        "id": "rbuDmEMiVY-a"
      },
      "source": [
        "# NUMPY (DO NOT modify this line)\n",
        "\n",
        "# Put your code only in this code cell.\n",
        "import numpy as np\n",
        "\n",
        "def f1(x):\n",
        "  return np.all(np.isclose(np.diff(x), x[1] - x[0]))\n",
        "\n",
        "def f2(x): \n",
        "  x = np.array(x)\n",
        "  ret = np.zeros(x.shape)\n",
        "  if x.shape[1] >= 1:\n",
        "    ret[:, -1] = x[:, -1]\n",
        "  if x.shape[1] >= 2:\n",
        "    ret[:, -2] = (x[:, -1] + x[:, -2])/2\n",
        "  if x.shape[1] >= 3:\n",
        "    ret[:, :-2] = (x[:, :-2] + x[:, 1:-1] + x[:, 2:])/3\n",
        "  return ret\n",
        "\n",
        "def f3(x):\n",
        "  if np.all(x[0] == 1) and np.all(x[-1] == 1) and (np.all(np.diag(x) == 1) or np.all(np.diag(x[::-1]) == 1)) and np.sum(x) == 2*x.shape[1] + x.shape[0] - 2:\n",
        "    return True\n",
        "  if np.all(x[:, 0] == 1) and np.all(x[:, -1] == 1) and (np.all(np.diag(x) == 1) or np.all(np.diag(x[::-1]) == 1)) and np.sum(x) == 2*x.shape[0] + x.shape[1] - 2:\n",
        "    return True\n",
        "  \n",
        "  x = np.where(x == 0, 1, 0)\n",
        "  if np.all(x[0] == 1) and np.all(x[-1] == 1) and (np.all(np.diag(x) == 1) or np.all(np.diag(x[::-1]) == 1)) and np.sum(x) == 2*x.shape[1] + x.shape[0] - 2:\n",
        "    return True\n",
        "  if np.all(x[:, 0] == 1) and np.all(x[:, -1] == 1) and (np.all(np.diag(x) == 1) or np.all(np.diag(x[::-1]) == 1)) and np.sum(x) == 2*x.shape[0] + x.shape[1] - 2:\n",
        "    return True\n",
        "\n",
        "  return False\n"
      ],
      "execution_count": 17,
      "outputs": []
    },
    {
      "cell_type": "markdown",
      "metadata": {
        "id": "p1uUeJcBw4Cy"
      },
      "source": [
        "## คำถาม 6/6\n"
      ]
    },
    {
      "cell_type": "markdown",
      "metadata": {
        "id": "O0d6i9IXUpdu"
      },
      "source": [
        "### **Tweet_1**\n",
        "ให้เติมเมท็อดต่าง ๆ ตามข้อกำหนดด้านล่าง \n",
        "\n",
        "* Constructor รับ dictionary ของทวีตซึ่งมี key ดังนี้\n",
        "  * id เก็บจำนวนเต็มเป็นรหัสของทวีต\n",
        "  * words เก็บลิสต์ของคำในทวีต\n",
        "  * time เก็บเวลาของทวีตในข้อความตามรูปแบบ 'YYYY-mm-dd HH:MM' \n",
        "  * user เป็นข้อความเก็บชื่อบัญชีของเจ้าของทวีต\n",
        "\n",
        "  นำค่าจากทวีตมาเก็บในตัวแปร id, words, time และ user ตามค่าจาก key ของทวีต \n",
        "* ```__lt__(self,rhs)``` เป็นเมท็อดเปรียบเทียบเวลาของทวีตสองอัน หากเวลาของ ```self``` มาก่อนเวลาของ ```rhs``` ให้คืนค่า ```True``` ไม่เช่นนั้นให้คืนค่า ```False``` หากเป็นเวลาเดียวกัน ให้เปรียบเทียบตาม **จำนวนคำใน ```words```** โดยคืนค่า ```True``` หากจำนวนคำใน ```self``` มีค่าน้อยกว่า ไม่เช่นนั้นให้คืนค่า ```False```\n",
        "* ```__str__(self)``` คืนค่าเป็นข้อความในรูปแบบ ```time: [user] words (id)``` โดยข้อความใน words จะนำข้อความจากลิสต์มาต่อกันคั่นด้วยเครื่องหมายเว้นวรรค \n",
        "* ```similarity(self,other)``` คืนค่าความคล้ายคำนวณจากสูตร $\\frac{|words_{self}\\cap words_{other}|}{|words_{self}\\cup words_{other}|}$ เมื่อ\n",
        "  * $|x|$ หมายถึงจำนวนสมาชิกในเซต $x$ \n",
        "  * $words_{self}$ หมายถึงเซตของ ```words``` จาก ```self```\n",
        "  * $words_{other}$ หมายถึงเซตของ ```words``` จาก ```other```\n",
        "\n",
        "นอกจากนี้ให้เขียนฟังก์ชันดังต่อไปนี้\n",
        "* ```find_similarity(tweets)``` รับค่าเป็นลิสต์ของทวีต และคืนค่าเป็นลิสต์ของทูเปิลที่มีสมาชิกตัวที่หนึ่งเป็นความคล้ายซึ่งคืนมาจากเมท็อด ```similarity``` และมีสมาชิกตัวที่สองเป็นทูเปิลของรหัสประจำตัวทวีตตัวที่หนึ่งและตัวที่สอง ตามเงื่อนไขดังนี้\n",
        "  * การวัดความคล้ายให้วัดจากเมท็อด ```similarity``` ของทวีตเท่านั้น\n",
        "  * เรียงลำดับตามความคล้ายจากน้อยไปมาก\n",
        "  * ในกรณีความคล้ายเท่ากัน ให้เรียงตามลำดับตามรหัสประจำตัวทวีตตัวที่หนึ่งและตัวที่สองตามลำดับ \n",
        "  * ไม่คืนค่าความคล้ายของทวีตเดียวกัน \n",
        "  * ไม่คืนค่าของคู่ของทวีตที่สลับลำดับกัน หากมี ```id1``` กับ ```id2``` แล้ว ไม่ให้คืนค่า ```id2``` กับ ```id1``` และให้ใช้เป็นลำดับ ```(id1,id2)``` โดย ```id1 < id2``` เสมอ \n",
        "* ```show_tweets(tweets)``` รับลิสต์ของทวีต ให้พิมพ์ทวีตเรียงตามลำดับเงื่อนไขจากเมท็อด ```__lt__``` และพิมพ์ตามข้อความที่คืนมาจากเมท็อด ```__str__```\n",
        "\n",
        "## **ตัวอย่าง**\n",
        "\n",
        "หากมีชุดคำสั่ง\n",
        "\n",
        "```\n",
        "tw1=Tweet({'id':1,'user':'abc','words':['this','is','a','blockchain','made','from','scratch','in','~50','lines','of','python','code'],'time':'2021-11-18 16:38'})\n",
        "tw2=Tweet({'id':2,'user':'cdg','words':['javascript', 'java', 'python', 'php', 'and', 'their', 'learning', 'curves'],'time':'2021-11-06 14:28'})\n",
        "tw3=Tweet({'id':3,'user':'def123','words':['python and javascript'],'time':'2021-11-01 07:56'})\n",
        "tw4=Tweet({'id':4,'user':'def123','words':['only','python'],'time':'2021-11-01 07:56'})\n",
        "\n",
        "tweets=[tw1,tw2,tw3,tw4]\n",
        "```\n",
        "\n",
        "* ```tw1.similarity(tw2)``` จะคืนค่า 0.05\n",
        "* ```tw2.similarity(tw3)``` จะคืนค่า 0.375\n",
        "* ```tw1.similarity(tw3)``` จะคืนค่า 0.06666666666666667\n",
        "* ```find_similarity(tweets)``` จะคืนค่า \n",
        "```\n",
        "[(0.05, (1, 2)),\n",
        " (0.06666666666666667, (1, 3)),\n",
        " (0.07142857142857142, (1, 4)),\n",
        " (0.1111111111111111, (2, 4)),\n",
        " (0.25, (3, 4)),\n",
        " (0.375, (2, 3))]\n",
        " ```\n",
        "* ```show_tweets(tweets)``` จะแสดงข้อความ \n",
        "```\n",
        "2021-11-01 07:56: [def123] only python (4)\n",
        "2021-11-01 07:56: [def123] python and javascript (3)\n",
        "2021-11-06 14:28: [cdg] javascript java python php and their learning curves (2)\n",
        "2021-11-18 16:38: [abc] this is a blockchain made from scratch in ~50 lines of python code (1)\n",
        "```\n",
        "\n",
        "## **สำคัญมาก**\n",
        "- เขียนโปรแกรมที่ต้องการส่งใน code cell ข้างล่างนี้เท่านั้น \n",
        "- ห้ามแก้ไขข้อความใน **บรรทัดแรก** โดยเต็ดขาด"
      ]
    },
    {
      "cell_type": "code",
      "metadata": {
        "id": "PrBy86dDlBAF"
      },
      "source": [
        "# Tweet_1 (DO NOT modify this line)\n",
        "\n",
        "# Put your code only in this code cell.\n",
        "\n",
        "class Tweet:\n",
        "    def __init__(self, tweet):\n",
        "        self.id = tweet['id']\n",
        "        self.words = tweet['words']\n",
        "        self.time = tweet['time']\n",
        "        self.user = tweet['user']\n",
        "\n",
        "    def __lt__(self, rhs):\n",
        "        date1, time1 = self.time.split(' ')\n",
        "        year1, month1, day1 = date1.split('-')\n",
        "        hour1, minute1 = time1.split(':')\n",
        "\n",
        "        date2, time2 = rhs.time.split(' ')\n",
        "        year2, month2, day2 = date2.split('-')\n",
        "        hour2, minute2 = time2.split(':')\n",
        "\n",
        "        if year1 < year2:\n",
        "            return True\n",
        "        elif year2 < year1:\n",
        "            return False\n",
        "\n",
        "        if month1 < month2:\n",
        "            return True\n",
        "        elif month2 < month1:\n",
        "            return False\n",
        "\n",
        "        if day1 < day2:\n",
        "            return True\n",
        "        elif day2 < day1:\n",
        "            return False\n",
        "\n",
        "        if hour1 < hour2:\n",
        "            return True\n",
        "        elif hour2 < hour1:\n",
        "            return False\n",
        "\n",
        "        if minute1 < minute2:\n",
        "            return True\n",
        "        elif minute2 < minute1:\n",
        "            return False\n",
        "\n",
        "        # if all the above conditions are not met, compares number of words\n",
        "        return len(self.words) < len(rhs.words)\n",
        "\n",
        "    def __str__(self):\n",
        "        # return string format \"time : [user] words (id)\"\n",
        "        return self.time + ': [' + self.user + '] ' + ' '.join(self.words) + ' (' + str(self.id) + ')'\n",
        "\n",
        "    def similarity(self, other):\n",
        "        words1 = set(self.words)\n",
        "        words2 = set(other.words)\n",
        "        return len(words1.intersection(words2))/len(words1.union(words2))\n",
        "\n",
        "\n",
        "def find_similarity(tweets):\n",
        "    ret = []\n",
        "    for i in range(len(tweets)):\n",
        "        for j in range(i+1, len(tweets)):\n",
        "            ret.append((tweets[i].similarity(tweets[j]), (tweets[i].id, tweets[j].id)))\n",
        "    return sorted(ret)\n",
        "\n",
        "\n",
        "def show_tweets(tweets):\n",
        "    tweets = sorted(tweets)\n",
        "    for tweet in tweets:\n",
        "        print(tweet)\n",
        "\n",
        "\n",
        "tw1 = Tweet({'id': 1, 'user': 'abc', 'words': ['this', 'is', 'a', 'blockchain', 'made', 'from',\n",
        "                                               'scratch', 'in', '~50', 'lines', 'of', 'python', 'code'], 'time': '2021-11-18 16:38'})\n",
        "tw2 = Tweet({'id': 2, 'user': 'cdg', 'words': ['javascript', 'java', 'python', 'php',\n",
        "                                               'and', 'their', 'learning', 'curves'], 'time': '2021-11-06 14:28'})\n",
        "tw3 = Tweet({'id': 3, 'user': 'def123', 'words': ['python', 'and', 'javascript'], 'time': '2021-11-01 07:56'})\n",
        "tw4 = Tweet({'id': 4, 'user': 'def123', 'words': ['only', 'python'], 'time': '2021-11-01 07:56'})\n",
        "tweets = [tw1, tw2, tw3, tw4]"
      ],
      "execution_count": 18,
      "outputs": []
    }
  ]
}