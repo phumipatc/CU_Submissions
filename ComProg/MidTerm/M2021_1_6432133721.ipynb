{
  "nbformat": 4,
  "nbformat_minor": 0,
  "metadata": {
    "colab": {
      "name": "M2021-1-6432133721.ipynb",
      "provenance": [],
      "collapsed_sections": []
    },
    "kernelspec": {
      "name": "python3",
      "display_name": "Python 3"
    },
    "language_info": {
      "name": "python"
    }
  },
  "cells": [
    {
      "cell_type": "markdown",
      "metadata": {
        "id": "L9hNibotW3Zh"
      },
      "source": [
        "<center>\n",
        "<h1>2110101 Computer Programming</h1>\n",
        "ข้อสอบกลางภาค ภาคการศึกษาต้น ปีการศึกษา 2564<br>30 กันยายน 2564 (8:30 - 10:30น.)\n",
        "</center>\n",
        "<hr>\n",
        "\n",
        "- ข้อมูลแบ่งเป็น คะแนนเต็ม 110 (แถม 10 คะแนน)\n",
        " - ตอนที่ 1 (30 คะแนน)\n",
        "   - 1.1 คำถามปรนัย จำนวน 9 ข้อ\n",
        "   - 1.2 คำถามเติมคำตอบ จำนวน 11 ข้อ\n",
        " - ตอนที่ 2 (80 คะแนน) โจทย์เขียนโปรแกรม 4 ข้อ ข้อละ 20 คะแนน\n",
        "- อนุญาตให้เปิดตำราและค้นข้อมูลได้\n",
        "- ห้ามสื่อสารกับผู้อื่น (ยกเว้นอาจารย์ผู้สอนและผู้คุมสอบ)\n",
        "- เมื่อหมดเวลา ให้บันทึกแฟ้ม และหยุดการพิมพ์ใด ๆ ทั้งสิ้น\n",
        "- นิสิตที่กระทำผิดเกี่ยวกับการสอบ ตามข้อบังคับจุฬาลงกรณ์มหาวิทยาลัย มีโทษคือได้รับสัญลักษณ์ F ในรายวิชานี้ และอาจพิจารณาให้ถอนรายวิชาอื่นที่ลงทะเบียนไว้ ในภาคการศึกษานี้"
      ]
    },
    {
      "cell_type": "code",
      "metadata": {
        "id": "kEdA986EXF2v",
        "cellView": "form"
      },
      "source": [
        "#@title เติมข้อมูลข้างล่างนี้ให้สมบูรณ์\n",
        "#@markdown ข้าพเจ้ายอมรับและยินดีปฏิบัติตามระเบียบการสอบ ข้าพเจ้ายืนยันว่าเป็นผู้ทำข้อสอบนี้ด้วยตนเองโดยมิได้รับความช่วยเหลือ หรือให้ความช่วยเหลือในการทำข้อสอบนี้ \n",
        "\n",
        "#@markdown พิมพ์ชื่อและนามสกุลในช่องว่างข้างล่างนี้\n",
        "\n",
        "ลงชื่อ = ' \\u0E20\\u0E39\\u0E21\\u0E34\\u0E1E\\u0E31\\u0E12\\u0E19\\u0E4C \\u0E0A\\u0E31\\u0E22\\u0E1B\\u0E23\\u0E30\\u0E40\\u0E2A\\u0E23\\u0E34\\u0E10\\u0E2A\\u0E38\\u0E14' #@param {type:\"string\"}"
      ],
      "execution_count": null,
      "outputs": []
    },
    {
      "cell_type": "markdown",
      "metadata": {
        "id": "FYxMUUfQUthX"
      },
      "source": [
        "# ตอนที่ 1.1: คำถามปรนัย\n",
        "6432133721"
      ]
    },
    {
      "cell_type": "markdown",
      "metadata": {
        "id": "JbGGA_KxUthX"
      },
      "source": [
        "### คำถาม 1/9\n",
        "เลขประจำตัวนิสิต เป็นตัวเลข 10 หลัก ขอเรียกเลขหลักพันถึงหลักล้านของเลขประจำตัวนิสิตว่า _เลขตัวแทน_ ของนิสิต เช่น เลขประจำตัวคือ 6431105321 มีเลขตัวแทนคือ 1105 อยากทราบว่า คำสั่งใดแสดง_เลขตัวแทน_ ของเลขประจำตัวนิสิตที่เก็บเป็นสตริงในตัวแปร `ID` ทางจอภาพ\n",
        "\n",
        "> A) `print(int(ID)//1000%10000)`\n",
        "\n",
        "> B) `print(ID[:-3][3:10000])`\n",
        "\n",
        "> C) `print(ID[-4:-8:-1][::-1])`\n",
        "\n",
        "> D) มีสองตัวเลือกใน A, B และ C เท่านั้นที่แสดงได้ตามที่ต้องการ\n",
        "\n",
        "> E) ตัวเลือก A, B และ C แสดงได้ตามที่ต้องการทั้งหมด"
      ]
    },
    {
      "cell_type": "code",
      "metadata": {
        "cellView": "form",
        "id": "RylZf1aRUthX"
      },
      "source": [
        "#@title คำตอบ 1/9\n",
        "answer = 'E' #@param [' ', 'A', 'B', 'C', 'D', 'E']"
      ],
      "execution_count": null,
      "outputs": []
    },
    {
      "cell_type": "markdown",
      "metadata": {
        "id": "ZS8vfcq9UthY"
      },
      "source": [
        "### คำถาม 2/9\n",
        "โปรแกรมข้างล่างนี้ตรวจว่า เลขประจำตัวนิสิตที่รับมาจากอินพุต เป็นนิสิตคณะวิศวฯ หรือไม่ ดังนี้\n",
        "<pre>\n",
        "c = input()\n",
        "if c[-2:] == 21:\n",
        "    print('Yes, an engineering student ID.')\n",
        "else:\n",
        "    print('No, this is not an intania ID.')\n",
        "</pre>\n",
        "อยากทราบว่า โปรแกรมนี้ทำงานได้ผลตามที่ต้องการหรือไม่ ถ้าไม่ ต้องแก้ที่บรรทัดใด\n",
        "\n",
        "> A) บางอินพุต ได้ผลไม่ถูกต้อง ต้องแก้ที่บรรทัดที่ 2\n",
        "\n",
        "> B) บางอินพุต ได้ผลไม่ถูกต้อง ต้องแก้ที่บรรทัดที่ 3\n",
        "\n",
        "> C) บางอินพุต ได้ผลไม่ถูกต้อง ต้องแก้ที่บรรทัดที่ 5\n",
        "\n",
        "> D) บางอินพุต ได้ผลไม่ถูกต้อง ต้องแก้ที่บรรทัดที่ 1\n",
        "\n",
        "> E) โปรแกรมนี้ทำงานถูกต้องแล้ว\n"
      ]
    },
    {
      "cell_type": "code",
      "metadata": {
        "cellView": "form",
        "id": "L-9BBZIvUthY"
      },
      "source": [
        "#@title คำตอบ 2/9\n",
        "answer = 'A' #@param [' ', 'A', 'B', 'C', 'D', 'E']"
      ],
      "execution_count": null,
      "outputs": []
    },
    {
      "cell_type": "markdown",
      "metadata": {
        "id": "KjwWl8SEUthZ"
      },
      "source": [
        "### คำถาม 3/9\n",
        "เครื่องหมายคณิตศาสตร์ใดถูกทำเป็นลำดับที่ 5 ในนิพจน์ <font size=+2>`4*5-2%(5+2)/32`</font>\n",
        "\n",
        "> A) `*`\n",
        "\n",
        "> B) `/`\n",
        "\n",
        "> C) `-`\n",
        "\n",
        "> D) `+`\n",
        "\n",
        "> E) `%`\n"
      ]
    },
    {
      "cell_type": "code",
      "metadata": {
        "cellView": "form",
        "id": "RE1sZfHwUthZ"
      },
      "source": [
        "#@title คำตอบ 3/9\n",
        "answer = 'C' #@param [' ', 'A', 'B', 'C', 'D', 'E']"
      ],
      "execution_count": null,
      "outputs": []
    },
    {
      "cell_type": "markdown",
      "metadata": {
        "id": "sXiFUEbbUtha"
      },
      "source": [
        "### คำถาม 4/9\n",
        "ค่าของ <font size=+2>$ a^{ \\left( {b^c} \\right )^d} $</font> ตรงกับนิพจน์ในข้อใด\n",
        "> A) `(a**b**c)**d`\n",
        "\n",
        "> B) `a**(b**c)**d`\n",
        "\n",
        "> C) `a**b**c**d`\n",
        "\n",
        "> D) `(a**(b**c))**d`\n",
        "\n",
        "> E) ไม่มีข้อใดถูก\n"
      ]
    },
    {
      "cell_type": "code",
      "metadata": {
        "cellView": "form",
        "id": "moxb3kO8Utha"
      },
      "source": [
        "#@title คำตอบ 4/9\n",
        "answer = 'E' #@param [' ', 'A', 'B', 'C', 'D', 'E']"
      ],
      "execution_count": null,
      "outputs": []
    },
    {
      "cell_type": "markdown",
      "metadata": {
        "id": "STHtHGDoUtha"
      },
      "source": [
        "### คำถาม 5/9\n",
        "ให้ `m` เป็นจำนวนเต็มบวกมีค่าตั้งแต่ 1 ถึง 12 ข้อใดแทนเงื่อนไขที่ตรวจสอบว่า `m` เก็บเลขเดือนของเดือนที่มีชื่อลงท้ายด้วย คม\n",
        "\n",
        "> A) `not(m==2 and m==4 and m==6 and m==9 and m==11)`\n",
        "\n",
        "> B) `str(m) in '135781012'`\n",
        "\n",
        "> C) `m%2==1 and m<8 or m%2==0 and m>7`\n",
        "\n",
        "> D) `m!=2 or m!=4 or m!=6 or m!=9 or m!=11`\n",
        "\n",
        "> E) มีคำตอบถูกมากกว่าหนึ่งข้อ\n"
      ]
    },
    {
      "cell_type": "code",
      "metadata": {
        "cellView": "form",
        "id": "i97dD7ijUthb"
      },
      "source": [
        "#@title คำตอบ 5/9\n",
        "answer = 'C' #@param [' ', 'A', 'B', 'C', 'D', 'E']"
      ],
      "execution_count": null,
      "outputs": []
    },
    {
      "cell_type": "markdown",
      "metadata": {
        "id": "Dc5eQ1m8Uthb"
      },
      "source": [
        "### คำถาม 6/9\n",
        "ข้อใดทำงานแล้วได้ค่าของตัวแปร `x` ต่างจากข้ออื่น เมื่อรับอินพุตที่เหมือนกัน\n",
        "\n",
        "<table align=left>\n",
        "<tr>\n",
        "<td><pre>\n",
        "A)\n",
        "\n",
        "x = []\n",
        "for e in input().split():\n",
        "    x.append(int(e))\n",
        "\n",
        "</pre></td>\n",
        "<td><pre>\n",
        "B)\n",
        "\n",
        "s = input()\n",
        "x = []\n",
        "for e in s.split():\n",
        "    x += [int(e)]\n",
        "</pre></td>\n",
        "</tr>\n",
        "<tr>\n",
        "<td><pre>\n",
        "C) \n",
        "\n",
        "x = input().split()\n",
        "for e in x:\n",
        "    x[x.index(e)] = int(e)\n",
        "</pre></td>\n",
        "<td><pre>\n",
        "D) \n",
        "\n",
        "x = input().split()\n",
        "for i in range(len(x)):\n",
        "    x.append(int(x.pop()))\n",
        "</pre></td>\n",
        "</tr>\n",
        "<tr>\n",
        "<td><pre>\n",
        "E) ทุกข้อได้ผลเหมือนกันหมด\n",
        "</pre></td>\n",
        "</tr>\n",
        "</table>\n"
      ]
    },
    {
      "cell_type": "code",
      "metadata": {
        "cellView": "form",
        "id": "e3wTwnbTUthb"
      },
      "source": [
        "#@title คำตอบ 6/9\n",
        "answer = 'D' #@param [' ', 'A', 'B', 'C', 'D', 'E']"
      ],
      "execution_count": null,
      "outputs": []
    },
    {
      "cell_type": "markdown",
      "metadata": {
        "id": "azSoV6LZUthb"
      },
      "source": [
        "### คำถาม 7/9\n",
        "ให้ `s` เป็นตัวแปรที่รับคะแนนที่มีค่าตั้งแต่ 0 ถึง 100 ข้อใดตัดเกรดผิดจากข้ออื่น\n",
        "\n",
        "<table align=left>\n",
        "<tr>\n",
        "<td><pre>\n",
        "A)\n",
        "\n",
        "s = float(input())\n",
        "if s < 50:\n",
        "  print(\"F\")\n",
        "elif s < 60:\n",
        "  print(\"D\")\n",
        "elif s < 70:\n",
        "  print(\"C\")\n",
        "elif s < 80:\n",
        "  print(\"B\")\n",
        "else:\n",
        "  print(\"A\")\n",
        "</pre></td>\n",
        "<td><pre>\n",
        "B)\n",
        "\n",
        "s = float(input())\n",
        "if 80 <= s <= 100:\n",
        "  print(\"A\")\n",
        "if 70 <= s < 80:\n",
        "  print(\"B\")\n",
        "if 60 <= s < 70:\n",
        "  print(\"C\")\n",
        "if 50 <= s < 60:\n",
        "  print(\"D\")\n",
        "else:\n",
        "  print(\"F\")\n",
        "</pre></td>\n",
        "</tr>\n",
        "<tr>\n",
        "<td><pre>\n",
        "C) \n",
        "\n",
        "s = float(input())\n",
        "if s >= 80:\n",
        "  print(\"A\")\n",
        "elif s >= 70:\n",
        "  print(\"B\")\n",
        "elif s >= 60:\n",
        "  print(\"C\")\n",
        "elif s >= 50:\n",
        "  print(\"D\")\n",
        "else:\n",
        "  print(\"F\")\n",
        "</pre></td>\n",
        "<td><pre>\n",
        "D) \n",
        "\n",
        "s = float(input())\n",
        "if 50 <= s < 60:\n",
        "  print(\"D\")\n",
        "if 0 <= s < 50:\n",
        "  print(\"F\")\n",
        "if 60 <= s < 70:\n",
        "  print(\"C\")\n",
        "if 80 <= s <= 100:\n",
        "  print(\"A\")\n",
        "if 70 <= s < 80:\n",
        "  print(\"B\")\n",
        "</pre></td>\n",
        "</tr>\n",
        "<tr>\n",
        "<td><pre>\n",
        "E) เหมือนกันหมด\n",
        "</pre></td>\n",
        "</tr>\n",
        "</table>"
      ]
    },
    {
      "cell_type": "code",
      "metadata": {
        "cellView": "form",
        "id": "cI35OuKbUthc"
      },
      "source": [
        "#@title คำตอบ 7/9\n",
        "answer = 'B' #@param [' ', 'A', 'B', 'C', 'D', 'E']"
      ],
      "execution_count": null,
      "outputs": []
    },
    {
      "cell_type": "markdown",
      "metadata": {
        "id": "9MQiqwKMUthc"
      },
      "source": [
        "### คำถาม 8/9\n",
        "หากสั่งทำงานโปรแกรมข้างล่างนี้ จะแสดงอะไร\n",
        "<pre>\n",
        "d = []\n",
        "for e in range(100000):\n",
        "    if e not in d:\n",
        "        if e%2==0:\n",
        "            d.append(e)\n",
        "        else:\n",
        "            d.insert(0,e)\n",
        "print(d[:2])\n",
        "</pre>\n",
        "> A) `[1, 3]`\n",
        "\n",
        "> B) `[]`\n",
        "\n",
        "> C) `[99999, 99997]`\n",
        "\n",
        "> D) โปรแกรมทำงานไม่สิ้นสุด\n",
        "\n",
        "> E) ไม่มีข้อใดถูก"
      ]
    },
    {
      "cell_type": "code",
      "metadata": {
        "cellView": "form",
        "id": "YZlFJDLAUthc"
      },
      "source": [
        "#@title คำตอบ 8/9\n",
        "answer = 'C' #@param [' ', 'A', 'B', 'C', 'D', 'E']"
      ],
      "execution_count": null,
      "outputs": []
    },
    {
      "cell_type": "markdown",
      "metadata": {
        "id": "JQjcpHQhUthc"
      },
      "source": [
        "### คำถาม 9/9\n",
        "ต้องเติมอะไรในช่องว่างที่ขีดเส้นใต้ไว้ เพื่อให้ `mx` เก็บค่ามากสุดของจำนวนในตัวแปร `a` `b` และ `c`  (กำหนดให้จำนวนในทั้งสามตัวแปรไม่เท่ากันเลย)\n",
        "<pre>\n",
        "mx = a\n",
        "if a < b:\n",
        "    mx = b\n",
        "    if b < c:\n",
        "        mx = c\n",
        "elif a < c:\n",
        "    mx = c\n",
        "    if ______:\n",
        "        mx = b\n",
        "</pre>\n",
        "> A) `b > a`\n",
        "\n",
        "> B) `a > b`\n",
        "\n",
        "> C) `c > b`\n",
        "\n",
        "> D) `b > c`\n",
        "\n",
        "> E) ไม่มีข้อใดถูก"
      ]
    },
    {
      "cell_type": "code",
      "metadata": {
        "cellView": "form",
        "id": "nebo6GaIUthc"
      },
      "source": [
        "#@title คำตอบ 9/9\n",
        "answer = 'D' #@param [' ', 'A', 'B', 'C', 'D', 'E']"
      ],
      "execution_count": null,
      "outputs": []
    },
    {
      "cell_type": "markdown",
      "metadata": {
        "id": "ZM9O2gk3Uthd"
      },
      "source": [
        "# ตอนที่ 1.2: คำถามเติมคำตอบ\n",
        "6432133721"
      ]
    },
    {
      "cell_type": "markdown",
      "metadata": {
        "id": "j-GpD9AZUthd"
      },
      "source": [
        "### คำถาม 1/11\n",
        "เมื่อสั่งให้โปรแกรมข้างล่างนี้ทำงาน อยากทราบว่า จะทำคำสั่ง `n = n//2` กี่ครั้ง\n",
        "<pre>\n",
        "n = 2911\n",
        "while n != 1:\n",
        "    if n%2 == 0:\n",
        "        n = n//2\n",
        "    else:\n",
        "        n = 3*n + 1\n",
        "</pre>"
      ]
    },
    {
      "cell_type": "code",
      "metadata": {
        "cellView": "form",
        "id": "3iiZNmIpUthd"
      },
      "source": [
        "#@title คำตอบ 1/11\n",
        "answer =  91#@param {type:\"number\"}"
      ],
      "execution_count": null,
      "outputs": []
    },
    {
      "cell_type": "markdown",
      "metadata": {
        "id": "QDeEamuGUthd"
      },
      "source": [
        "### คำถาม 2/11\n",
        "![image.png](data:image/png;base64,iVBORw0KGgoAAAANSUhEUgAAAMcAAAEgCAYAAAAAM2dIAAAgAElEQVR4Ae3dB9gERXkHcCwoCShBQCmKAqIUFRApCgaUCBFBAaOhCYh0EAxIkaKAoKAiRYgUQYq0SFNRCYhiRBDRIMRKU7FFElusaU6e3zzOl/2OK3t7u3d73808z363393u7Ow78595562LhFxGpsAf//jH8POf/zz4zGXhUGCRhfMqk3uTX/ziF2GfffYJPnNZOBTI4KihL3/yk5+Epz/96eHHP/5xDbXlKtpCgQyOGnriX//1X8Oqq64afOaycCiQwVFDX2Zw1EDEFlaRwVFDp2Rw1EDEFlaRwVFDp2Rw1EDEFlaRwVFDpzzyyCN5z1EDHdtWRQZHxR658847w+te97pw6623xhrWXXfd+HnFFVeEnXfeOTz44IMVa863tYUCGRwVe+L3v/99WHbZZcMTn/jE8LznPS8suuiiYa211gqLLLJI2HzzzSvWmm9rEwUyOEbojRNOOCGCAiDS8aQnPSlcc801I9Sab20LBTI4RuiJ733ve+EZz3jGHDAAZL311huhxnxrmyiQwTFCb/zP//xPuPTSS+fA8dSnPjXcdNNNI9SYb20TBTI4RuyN//qv/wpLL710BMhmm202Ym359jZRIIOjht448cQTw5JLLhkuuuiiGmrLVbSFAhkcNfXEJz7xiZpqytW0hQILBhz33ntvuOSSS8Jll10WLr/88rEeV111Vfj4xz8errzyyrE+13um973rrrvaMqYWTDsWBDi+8IUvhA033HBuY5zEqrP0uc4664Q77rhjwQzMNrzI1IPj17/+dXj+858fgfHmN785HHjggeGAAw6YmeOggw4Kf/u3fxvff+utt27DmFowbZh6cPC+W2aZZcKf/dmfLZhOGfZFfvCDH0RwvOQlLxn21nx9HwosCHAsv/zyMw2Ob33rWxEcL33pS/t0df5pWApkcAxLsRZen8HRTKdkcDRD17HWmsHRDLkzOJqh61hrzeBohtwZHM3Qday1ZnA0Q+4MjmboWrpWxov//d//Xfr6bhdmcHSjyujfZXCMTsPKNQAFDfeFF14YxL6qWjI4qlKu/30ZHP3p09ivgjJssMEGUQRLk/8Xf/EXlV1rMzia6aYMjj/R9eGHH47mF1/60pfCAw88EP7t3/6tL8X/93//N0Y4/P73vx8o4Rzq8P/Pfvazvvf6kaHiEkssET75yU8G5i+cpmj4q5QMjipUG3xPBkcI4dvf/nbgi/G4xz0uLLbYYmHNNdcMxx57bF/q/fu//3sczK9+9avD3/zN38Rj++23D9tuu20466yz+t7rx8MPPzysuOKKMfg0ExgmIGuvvfbA+7pdkMHRjSqjfzfz4Lj//vvDCiusEHjx4f0/9KEPRXOUTTfdNHBk6lWsDkceeWTYddddw5ve9KZ4vPGNbwx77LFH9A7sdZ/vrToil7zqVa+Kl/n/ne98Z2xDv/t6/ZbB0Ysyo30/8+Bgar744ouH2267bY6SX/va16IJ+twXXU7YdL3//e8Pb3vb28I73vGO8Pa3vz0e/v+Hf/iHLnfM/2qvvfaKK5Rv//M//zPsv//+YY011ph/Ucn/MjhKEmrIy2YeHP/4j/8YN8XnnXde+N3vfhfJJ1o6sPzyl7/sSU7BFbbccssYludFL3pRSIcwPYcddlggou1Xzj777Pjcr3zlKwEYsXJ77713v1t6/pbB0ZM0I/0w8+CQdGannXYKQupstNFG4TWveU3cHDsHgKYK0S1wkVLZjEth8I1vfKPS4zI4KpFt4E0zDw4U+tWvfhXOOeecsNtuu4XtttsuvOUtb4kSpIHUG/GCb37zm+Hggw+OK8b1119fubYMjsqk63tjBkcHeQaxQx2Xt+LfDI5muiGDoxm6jrXWDI5myJ3B0Qxdx1prBkcz5M7gaIauY601g6MZcmdwNEPXsdaawdEMuTM4mqHrWGvN4GiG3AsCHE972tNmOsACQ0mWvZtsskkzo2RGa516cNBis416/OMfH30iWMV+97vfnZnjRz/6Ufj0pz8dwcEeLJf6KDD14GAc+Na3vjVmWHrCE54QVxAxrMZ9/Pmf/3nUsk/iuayJH/OYx0TjxfqGRq5p6sGhCzkOHXLIITEVwHLLLRfEsRrnwfRDCjSszUorrRRXsnE9P73vnnvuWcqPJA/58hRYEOAo/7rNXfnP//zP0TaruSfkmsdNgQyOmiguo5OYvX/84x9rqjFXM2kKZHDU1ANM3zM4aiJmS6rJ4KipIzI4aiJki6rJ4KipM4CDo1MuC4cCGRwj9OVXv/rVcMwxx4Sf/vSn0ZsvRTkXUeR973tf/H6E6vOtE6ZABscIHXDPPfdE/cq6664bRCGRVVaAhSc+8YmBQk7ghFymlwIZHCP03W9+85uw3377Rf1GMcUaRaAoJrlMNwUyOEbsP+YbRWA4t2r8/ve/H7HmfPukKZDBUUMP/N3f/d0cQJ7ylKeEj33sYzXUmquYNAUyOGroAaFA2VZZNTbeeOMaasxVtIECGRw19QLbJuF9Lr744ppqzNVMmgIZHBV7wGacafxHPvKRQIRr1WB0+OEPfzj88Ic/DP/xH/9RseZ8W1sokMExRE+IbyXotD3FG97whhhTl7k4i9xnPvOZwX4DSPwvFu5VV10VeOkJHZrL9FEgg6NEn3GoYnUrDu6znvWsCACgEK3QqnHuuefG8KHvfe97A51H2n+k1YQ5/d133x2sNrlMDwUyOLr0FctauTY+//nPRz+RpZZaKgLCYBe685WvfGW45JJLeqYr419y+umnx7QGyc/DvZSEBx54YPjc5z4XWa9xB5CjlPzyl788L+yo7wgURF/MZT4FMjgK9HjooYfCzTffHI477riwzjrrzAHiuc99btSAn3HGGeG+++4r3DH49M477wwnnnhijIsrHweQOASeZnryqU99KgJxcE2jX2Hl4hwFsI888kisUPBsEeKlQxg1N+HoLWxXDTMPDizTHXfcET7wgQ/EAYxdMngFbfjLv/zLcPTRR8e4uSkCe9Xuk6BGPNyDDjooOkVJe5CAwvTkzDPPDF/84hcbZb28w6qrrhqfawJQ/vCHP0T3Wgl4srnL/N6dSXCIrI61Ofnkk8MrXvGKuUFqQ73FFluEE044Idx+++3zKVXjf/Jx3HDDDeGII46I2nTBIRJQtt5663DKKaeEz372s7VLvKwccoAcddRRYckllwzSHygnnXRSeP3rX5/B0dHHMwMOs6J8fzbNUpOlvcBjH/vYuKmWgObGG28cu2SJ2JdUS5CI9ddffw4kyyyzTNhxxx3DaaedFrBmdRTiZeDAOoruLgUC9gpNMjgeTeEFDw57BBmYdH5iKczSvPbw/MSy9hptKMS+l156aRy4xbY6JzqWa1CatqoFa/fsZz87hvIhlhYYAjv3wQ9+MIOjC1EXHDisECQvWCabzFVWWWVuNn7BC14Q+WuOSeJbtbkAwTXXXBNXlE6g0KEAPDANUxI4ZLJVKCxt0F/72tdG8OU9x3xqLhhwSI18wQUXhF122SWst956c4CwsZbC+KMf/Wh0SJr/+u3/z4b5rrvuChdddFFMzik9s5WP4AAbJlXa5ZdfHuyjBpUEDnkQFUk/t9lmmxgQjx9KLvMpMPXgwBbtvPPOgbg1bWp94tfNvN/5zndabT4uB7nNdxkxKlbIqkjpaL+Q3teG3l5i3333jYKG+V38//+RzEklDUypeL56CALGrXdJbWjrZyvAceutt8bklIOWdbPob3/727iBlbtPeuQketXpu+++e8AycVttuqMN5muvvTaKgcsM7M4BwKRE7vE0wCXMNJOXLSReEnvao2AfeR+qi4BBeFS0sPEGqGL7+J90iqUJBeRVz2U+BVoBjuc85zlR6WZG1OnFItwnEaQZjt/EhhtuGCVNZstFF100il7l8yOWxFoNWzwPu2HAGLCOMsBy32abbRZNSIhkDbphyj/90z+FJz/5yXHvIP85LTwR8rBFWz2b5tv9lItoIzQqkKAXUS2X3kHmKznm1nzqtwIc5PoGuk61ab7llltiK60ANtb2EEUTDhtUotd/+Zd/6ZsOef6rPvo/g4FibquttoqJMm3eAbVMHnG1GXCkSGZsFrlMSsqW448/PpqTGNxErNgaA3mUYiKx+hD97rPPPhG42oaudDjAzKR+EEhGacNCurcnOHQaic69994bB6GB2MRB4iIP98orrzzHYiRWo/OT+NXGus5CO26G9SwrAL4diyZyedlixdphhx1iHVg90qAiK9NZD/YRSwWUiv+BheSozmJ1I/5NOp0iPWnqibm//vWvN9Kvo44V446IvZOTqJM+g+rqCQ5EwweLxWQ2b+pYe+21wwYbbBBnt2LnOV999dXDm970psg6mZlZu9pjsHxlD2SvwmiuDBvUixCUYLTkNvUKEap3FVqnbLHRNQhZ6WKVDDyrXq9ixZLWmbRJMQBY7pogRin2Y8k+bP/99486DXSkDbcqEtmSblmhCDCa6tO66kUPitlJlZ7gsLF98YtfHDd9BhBL0yYOG0EJ64v6COJKgMGXm1UFK7jtttvCAQccEFZbbbXIgiUgbb755lFez/GoSlADzyf5YS2rqAff/u53v3tgn2BjxK6yIZYCAGgZEtq/DBIuYBe9Q6Ip91qrSZWCTbIKaDODSW1Rt026yc2qRMqFPoQawGy1S89u4yegs2Rg7Dmp0hccDO/GsUnDyuhMJhNmt0Hm0zbfhx56aBzEwuAkoPCtoO3lO1HWwejKK6+M7q1WJqzA1VdfHetjlt5v9jf4SYQ8G2BNJsMUgxmbSAT7kpe8JM7uJoOyRdvoP+y91JFoYPUCNPu4tis6B70rZWdrwWGwmR2bLhtttFHk2YcdYNgp/D0ln3A4fLgNEqwXwp5//vnR0pU0qltxv2uYlpi1iT6BxUpAMiadWK+CLkceeWRkv/rtL3rd73vGj1YtG2X+H4OK2Z5OhC0UA8kECHsVrCGgsOxdKIWl8MyDg6JuEBsyqMPNpAKp0ZDbx6SBQ0OOZbIi2Ed1FiujZxefb7AX/++8x//uG2Wvk+oEsn7soHbwQiTuJRlLpu6EBvYs6d3KrpTpudPwmcHRQC8xpSBWtfksmpKQJIlQSJyJ9WprARgWxHxMdtpppzlA2EtgmQ477LBw3XXX9QVVW99tmHZlcAxDrQrXWpWsKGyHSL/SioJPZ7Z9xRVX9GWfKjyy8i32PBSaJHTJV117bfTtsbB8pHOzUjI4xtTTZmOSJYOP2NYqYuCZjUmn7DHYaY1bQUZSh2WyypEsJfACB5bJCviNb3xjTFRq12MyOCbQH/h4s7SBt+uuu84pyUi+zNIGKqPFYWydhnkNwRvOO++8+OwiIIizrRD2R6RZs14yOCY8AkiASHg6fchlgyVF4hDl91FF2nQfTMUpCO0bUvgeEjYbbb4VRLP9NucTJtXYH5/BMXaS934gZSfJ0KmnnjqPxWGXlAz4vve97/WuoMsvdDI20CRoRZ0MEa69EAlajo7YhXAhhAyO7nSZ+Lf2HrTlZ599dtyTMAW3PyFKtbGnU7DZp8lNYl+iXToVKw3dC/MH1rH2EbTVjAsvu+yyGLPKHiiX/hTI4OhPn4n/yu4JSGivrQC04YDChsoegcKQB6JoJSmQG99sqwRLY7oIcauYlPO/GJU9mzhBxtiADI4xEnvUR5ntKRs/85nPRK16kiwlsCTHKyYc7MDoKuhcqmrQR23vtN+fwdGiHjSIecV12lTZTFs9GO11Fr4T9BLChLKRakskk852TuP/GRwt6jUWugY6a+RiYe1K5MrvpFdhjcsiNpf6KJDBUR8ta6mJ8SG2iImJwkLYPoO/Rb+C1WJlm/cU/ag03G8ZHMPRayxX21jLt4GVYnZiJRkkbmVRnMFRb/dkcNRLz1pqs+cgdk37CGYlg0oGxyAKDf97BsfwNBvLHYIskEax4i1TMjjKUGm4azI4hqPX2K5+8MEHo5smHUaZksFRhkrDXZPBMRy9xna1jThXWVa8ZUoGRxkqDXdNBsdw9Brb1Wys2EMJhFCmZHCUodJw12RwDEevsV1NOiUnYL+Q/8S2ya6KCFhImlTS9+n//Dk8BTI4hqfZ2O/opbtgYk5pyDeEI5VAEQpfDZlnWfnmUp0CGRzVaTfxO5mb88sQIE0YI8HT5PdjYyUaSF49RuuiDI7R6DfRu9lavetd75pzbU2GiFxwy+hGJtr4KXh4BscUdFK/JgqJk8L/J3Bst912edXoR7SSv2VwlCRUmy/j+pqAIRo8//NcRqdABsfoNGxFDSmSuaQ6udRDgQyOIeko6DG/bH4UvOtIjHwWj+J3xfNe1xS/d97rns7fXEdK5VP4UcES6EWE0kl1Fusqnqffy3wW7+s8L/6f2uc7Bxoxs5/WrE0ZHEOAQ7IYMW25nzr4Z+P3fRaP4nfF817XFL933uuezt9c5xCaM7FVEsX4P9VZrKt4nn4v81m8r/O8+H9qn+8caESaJpHNNAaDy+AoCQ5h81/+8pfHQcjxiNediCBtOZi1axNdR1vatMkmm0TLYsAVtG7aRMsZHCXBwR9b1A8pz7BWuZSjgCj09C9SKk8be5XBUa6PYxYnDkhSDUxbJ5d8xUYuExXFhCJA3bRNKhkcJYeEFGfix8oZ0hkAoWQVM3mZLLzo9rKXvWzq6JbBUXLIZnCUJFTHZRkcHQQZ4t++ac/GldmpTHszOMpQ6dHXZHA8miZlv8ngKEupKb0ug6N6x2VwVKfdVNyZwVG9mzI4qtNuKu7M4KjeTRkc1Wk3FXdmcFTvpgyO6rSb2J3DZLHN4KjeTRkc1Wk3kTsZEt5yyy0DIzCmxmVwJEoM/5nBMTzNJnKHHB/JuJErrmjwZUoGRxkqdb9mwYKDiQkf7wceeCCalZtxpRIYVBjn0cBLb8aSVXJLn+LmSqDZz3hPPj/m6p4p6AJ7MDkH6yhspE477bRoX8bTMIOjDqr2r2PBgkOmWDZF0gIss8wyMQWZAG0yNfUrks28/e1vj4Z6zBfSIcDbmWeeGbjF9irf/va3wwtf+MKYroAdGIM/SWwAq0zpB7yUAOf1r3992H777TM4yhB0xGsWLDiwE1xWBTuQmPKtb31rjApC096vMI1/z3veE3bZZZcYdkfoHYfc5TK+yvnXq1hZzOrYn4MPPjimcpbOgLn4oMIoUJrlvfbaK/pf7LnnnuGII44I995777xbOVVtu+22GRzzqNLMPwsWHD/5yU9i6gB5/JRvfetbYYkllhjo3/2rX/0qgkncKUkxrSI+1SO49KBUBO9973tjpMS0Cuy4444RWOn/Xt34ox/9KOy2224xtA+AifIOIDwNi2WHHXaIXodlLWzznqNIveHOFyw4BILGUqVZW3hPXnEGeL9if2FACwX6ohe9aO7gSwIgQNevHH300WGttdYKstEqWCCs0CB2zrVEtECUjqLINrFV/DKweFi49F2/9mRw9KNO/98WJDgMLr7c2Bu8P2CccMIJ8X8DtSmTdz7cKdf4+eefH1MuC/DGZVU22lGK/RJPwySxWnPNNeOK1isaY3pWBkeixPCfCxIcsr5ef/314S1veUs4/vjjw9133x2DrMkNfu655zbm9CMyu72GFUZgafsF+wj/k16NUj7+8Y/Huo866qjgsCJedNFFA9OsZXBUp/qCBEd1ciy8OzM4qvdpBkd12k3FnRkc1bspg6M67abizgyO6t2UwVGddlNxZwZH9W7K4KhOu6m4M4OjejdlcFSn3VTcmcFRvZumDhyi+DWlp6hOxvbemcFRvW+mDhwyKGVwlO/w2267LayyyioxblVZk5PytTd7ZY5bVZK+kleuvPLKMQ7tIPumklXOxGVf/OIXY7xccYYHmb60jSAZHCV7hJZbAGlh/rEK/DX4XHz/+9/PRxcaoA0aMYRkcmKgMaqcppLBUbK32EsxmUi2RflzkdK0WHzxxcOVV15ZktLtuSyDY4i+wBacddZZ0cpVng7m2204tIW5+eabbx4tf/fYY49WtIuR5e677x7N9HkpTlvJ4KjQYyxR23Z4DZa3z3nOc+IbtaF9VttBVrsVyD+2WzI4xkbq5h908803R6FB80+ajSdkcCygfr7ppptiuP8F9EoTfZUMjomSv96HZ3DUS88MjnrpOdHaMjjqJX8GR730nGhtGRz1kj+Do156TrS2DI56yZ/BUS89J1pbBke95M/gqJeeE60tg6Ne8mdw1EvPidaWwVEv+TM46qXnRGvL4KiX/Bkc9dJz7LUJPC1onHL77beHZz/72fFcFHRxrMTQyqUaBTI4qtGtNXexp3ryk58cw4wKvMa2StqBLbfcMhoi/va3v21NW6etIRkc09ZjXdq77LLLdjUfF4Q6l+oUyOCoTrvW3Ck4dad/ibi2ZRPMtOZFWtaQDI6WdUiV5mCdnv70p88DyDHHHFOlqnxPgQIZHAViTPMpTzspDqwgG2+88dT5a7eR9hkcbeyVCm3ir73++utHcJx99tkVasi3dFIgg6OTIlP4v+AP0qrJBWLlkCZN4sxcRqNABsdo9JvY3XIHXnjhhTFz0worrBBB8YQnPCE89rGPjecrrrhi9HW/7LLLgmtzGZ4CGRzD02yidwh5I+XxK17xiphj0EohaJrMUTfeeGO47rrrYtq0xRZbLIJEJls6jw984APhkUcemWjbp+3hGRxT0mNy8Elg+axnPSsOeqDYaKONYoZZ+QeLgQysFLTmJFZpk+765z73uWH//fePecqn5LUn2sxWg0OoGREsZrEw+6DpNuNLnimvnwFuJZA+TXbaP/zhDwNJI/2yFGhWD/c7sF/0IFKwyWteTIw5sMIZuqC14LjlllvigJBddZaKrK8PPPBAzLu33nrrhSWXXDLmL2cWInqg3H7sqYYtUikzTNxnn32C3ORAom4Za9///veH7373u9kOq4OorQUHmyEdeOedd3Y0eeH+a+BjndLg9f7rrrtuDIomCHMdq+jvfve7CIQjjzxy3nOe9rSnhQMPPDCGNl24FB7uzVoPjq985SvDvdEUXY0tMmP//d//fVh++eXn2J7lllsuGLzi8DZdrNB//dd/HY0XgdFhlZIpFktWJtd4020s1m9v9etf/zqunp2ThVXXqoquxT1Y8f5hzjM4hqFWTddKYfDVr341xt4FhMc85jGB8eBLX/rSKImySoxzUArVec8998RUykzeUy5zIHnnO98ZN/f2Jm0o2krJSVrXyVWcd9554ZWvfGX45Cc/WUtTMzhqIWO5SthA3XrrrWGnnXaaE8OSJr34xS+OJud+H+fm2Axb3NOZiR966KFw3HHHRb+QtJIwiZdTHaDbYAL/5S9/Oa50JG+/+c1vIvG9x/Of//wg1cHDDz9crkMGXJXBMYBAo/5sqTcrv+c97wkrrbTSHOtkhiZqtVGeVPna174WlYYnnXRSuOCCC4L/i4XeRKDsIstnD3TxxReH73znO2MFcrFdzs8444zw1Kc+NXz0ox+NP+29995RVH3HHXd0Xlr5/wyOyqTrf6OZ7GMf+1hkVYTgNwtjnV7zmteE888/v5LEqf8Th//VnmKNNdaIbTr22GPnZuHOmggKDj/88CDl2+Mf//j4Ls94xjOiRE1SH/WMu4h4v9VWW4Vtt9027tmsGkcddVStzcjgqJWcIc6oV1xxRXj1q189t0qsttpqMRT/VVddNda9xKBXoyzEvxN6lNnjYFfe9773hb/6q7+ak3Rhud74xjeG66+/fuwaeMBkHUBv89rXvjbqfga98zC/txYc0mWZbadBWiUNGqmP2TWxTjbZW2yxRTjxxBNr44GH6dimrzUwDz744LD66qvPTQJWlne/+90Ba9MpSWqqPQcccEAE6tVXX137I1oLjnvvvbf14CB1wqvjy5daaqnYXvqCN7zhDcEqUUVZV3sPN1yhfmLrVdTAmyAA59prr218A09CZSX77Gc/W/ubthYcNrFtXTm07R3veEfMkJokOlgnq4QZtQ6JjtWomLWWbVVRsmQkkCwZFN2ytMq/x2zkS1/6Urj//vvjxp9wIBXvQPqUSlEvwNzde3QzT9GOdK3r0jnBwqWXXhrN5ZM9l89tttkmnHPOOY2xXExggOMzn/lMepXaPjM4SpISf37JJZdEi9dkIo512mWXXaIYlvFft5IGj8+yrIaBTYLEeemaa66JiTn322+/qKy76667Yj2eK70ZEetmm20WzjzzzDnzD/fgwVnqUia+7nWviwNX+2xkt9tuu9huNlpSRwvho1BIGhCete+++8ZB95GPfGTutdh5eRbdB3q87GUvi+GA5i740wnQnXrqqWGDDTaYY7nWXHPNQKL0uc99LhRB2nnvMP+jJ9MXdPrUpz41zK2lrs3gGECmH//4x3HgMYJMrBPRpuSZn/jEJ6JxYK8qWMYeeuihQRSQvfbaK7JbBsegzS+Fm4FvVTr66KPDfffdF1ZdddVAYUjGD4hWLrOl3wxW1rrM2elJDjrooChVYrAIRAZ1CrYALHL10WUAIPst7dOmr3/96wEPT7nmnD6GUi1Jo+gQtAnbyPMQ+2Sv1asAHbGvOtIK6z08n9BiVJ2OCcfKefLJJzfi3JXB0aNnGf+Z6UhDUsfSTZx++ukBa1Fm9jNwOB25n7m4Gc4gZjc2qBhYjAK1wexoL2Mmxiax2C0CzOAVYMGqogCJc+AFLuJObJRC5GlWt5po0xFHHBEHq/2ROpNSzbUkUO5NKwvRqU03i2AFPSg1BxV+JAQsbLcSLRdddNGY0/2UU06JlsGD6uj1O4AAWVqhe11X5fsMjj9RzYAzMLAnL3zhC0NyFiKqNFNW0Q6rz4DCEzP4s4+w6pixyxRye559VimDkPSrm1QGOFZeeeVHmVN4hhWD30dij6xInv+CF7wg5lSXHRcLZiVIJQ20G264IchUaxVRSA6tFgaNZwJXGXCken3aRxFWAFkCChoDoT0Su6m2lJkHB1BYJfDnG264YdFO+N4AABc/SURBVBwwOg0Lg3UxA1f1oFM3fceuu+46199En1iaMgU4tIXS0OYYjy9GVWfh9wEcWK5isbrZsPIBSZpkA3DTTTeNK416baK33377eeBQh03+jjvuGJ+ZVgpaaWwadhGArKrAkcBUfHa/c9fTmYjQiMVKSlI0x756R+80KtvVrw1+GwTEmQaHGZF9jpkrzWJ4YuJBFrFF1mUQobv9jh0BBqAzM5MaPeUpT4kr0aCOUR/+34AxOG3SOSj1Age2qtMQ77bbbosrl71SWnEA/UlPelLUijPiA45XvepVj9o78U9HE2LqBA6+ICaRVPiD2EONUtABnSgSsVqe+bjHPS6uSlguK25TRWCK5z3veZFN7vaMmQKH2RebQTdh0CVA4Ofx9p22Rd0INsx3OpdvhpnbIDSwABGvnvYA/eo75JBDomjUNcBlhreP6CxYHABMAaXT72bfnXfeOWy99dZzYmB7C+xQskGyMRatRB3Fgo20P7GBTysDZ6vka2IAE9OW2XsV6x10zuSGIWZia/WR1YTwwQRRZyHYSGOAYMLkkt7Vc2YCHMlEvBi+Rifb8NqwAkzdnYy4Zj2D2sBTv/+dG6BlWAb6kqQz0Wn2LFi1boVotVud9j3uKxbSsCRW1i6zd3FQuNb/BmNx5ja5eB/0tAIVN+/F+kc9115Ci9133z2GG7Ki2HvZp1AuYncdpGzpfNhPEj4i6wSO9GkisddSsJVYyUmVRXo92MyqwaOaj+hgM8DSSy8dl2sshZnJTG6g9hpsvdo1zd93AqDXu3S7rtt3ve6v63vAJRkkUbPapbBDaSA3+WmvSHRNYDGp0jg4khkKQmIFsBAInsv0UMAqx3ze/iABgrn6WmutFdZZZ50YgIJOZ5iD6X3RLizVi90mdFCwpAt65WDWQCNsiSzqLGw0BTyb1ciAWDAbbXuYxLoZEN1MUSYBIys6nc673vWuKHY2eFkk2FuxCujcX1VpI3Y6gQLrhjUrjoeZ2HMkluDmm2+OZhFmmEQUijnizro341U6a5z32KPQ3yyxxBJRB8Jng45HdqhJFvsNqwRBQDLTsTknfuYw1stMp0qbiemNA1I4lgadZSbA0fnSNqQ03RyPkvTF52677Ra1wkWDv857m/jfDNatc5p4VqrTzMxWjA0VQQVJlJmzqU12em6vTysB/l6whzRxMeZkCkMf0kQhXOhmXJmeNZPgSC9vIHz605+OUgtKtNQp5P6ceuglmiz2Pkwq8L8GAqUfW66yhS6GWUY/JSU2qdOa1+RAYmZFJb40GxfZKS6wvi+jiynb1m7XeT49iVWiyP+zKMBOjSqM6fbMYb6baXAUCUW7zC8Bm5VAwozErNqEObRnU+gZFHQs/Mkp8spqzykvbRx9Ej+yxO0U5VqR1EsLjW1SsFP2W8xarJxm6mQeYn/GvASbQXBhr0ajXnchHrZqse+ysUZv3nwMHUkRtbsNJYOjoxeYdNuk2vTRAOs44l8KLzx5cYbtuHXof834KTaVAQMoVq1BBdvH3srqRllH3k+xmII1JB0GA0QKNO9A+KCYpWmjyfl5LhJU0CfYlAMQNstGmNYaqNhz1cVmmoDQlX4pTUD2f5SlVonU7kHvP67fMzh6UNpgYVV7/PHHRxm7ziTRYMJhYCVL1R63l/4aa4evFuhA0ALa+0HFIGIxC0hWAU5PDBpJn6wegOB3xcxvPyVIm2JlZBoCXFYOFrpWCDof/HdRC01bbVVKK0usYMg/2mqyYbLvHRMoeA5aPdKKNmS1Y7k8g2MAmfHFeHaDCzBS5xrIiDeqdMeKgZVIG1F7kDLFdYcddlgUIhjoTOMTYIGa/B9rxD5MADT2YorVgJ+3lca7OPedzWln4StB1l9lAKMbKSBnqhQE2/PYizFW7LdP6mzHpP7P4BiC8gayWRo7wh5LZwtVgx0i6THAhjFDYfhnEKWC17fv8P2ggjXB6pndtYPBZDIQdC92zcpCBEpZZrVQrCQiK9L58BNhyt7NKhcrBTSuTaAb1Cb0IR4lIk4sqbaxSPCcYYQNg541jt8zOCpQGethNiV6xCowa2B2zVDPbG4fUMYsxR5GnFwSG6wQkBnIZQrvOtdjVwxuYO1kf1gHGNwGaPLnsGdi/MiHg07h8ssvj6wTI8Vi8T2LAgOkn0UBNk492DhgtaJiP9GDCQbwMk8vTgLF57T5PINjxN6xgecrwdfCIHSINYuP7/Sv6HyUlSLd49OqUdYXGpuEXSFNo9w0U3fTGhu06ua7odhbWO1ItxR7HEDr3HRjzQxym/d+KxkXXI5Trk3vQvoGmEAzzSWDo8beM/De9ra3zcu+RANNwUZyVDTTSI8182I3hmHH0r2T+KQjoVshRk5gIIblbZisWSfRriaemcFRM1WxU/YeH/zgB2OkDlIkNkHYHhtkA6tOcfAwza/K2gAuDT7fD5aqVh6rln0OvYiVq5vZ+zBta+O1GRwN9QoRpgFj4NA1pFhOZln+0r6nkGtzIemyqgG6dARWCvsr+wrKR5r0aVnxqtC5teBIpuaTNiGoQtRu91hNBDag9LKSGGjMo+lMvOOkbJq6tZWYlVTL4EisU8pKm3zRu9230L5rLTjY9uiYhQKONHBIuii/mEqksD3Jz8TmWWC1SRUbehvsJOFCf+6j9Ci05rNWWgsO4SgXIjiKA0wGIvsQ4ts0QzPXEAitn/i0WMeo5yRRaM3Qj7eddthPAIjwpuO2Fh71feq8v7XgSAkzF9rK0a3zsDFM6CntUpgafL1wnayGiyYd3e6v8p39Aq0/HUkCJq05DXYyPalS70K6J4OjRb1pA88OieM/nUeaxQVWE4y50/S8StPpXtiLFY3/xL8VGWUWJqJhaJbBMQy1xnQtkSubLZ5vxUHMDIOZiv3YsEXcKta3yW8lab/tf5Jl8LB1LvTrMzha3sN0Itgc7E4SB/OBYP5hYFPK9SpsovhzMP5LGmzmLkAHYGVMXHrVPQvfZ3BMSS8nnQlvQco3LBeTEUo5fh1FByG2WvwmeBim/QTvug996ENdTUymhARjb2YGx9hJPtoDmZsQ9374wx+eN/itCDzr2Eklv3jA4LxE4dhpWDhaK2bj7gyOKe5ntlrM1FkCF03E7VMYFDKKzKU6BTI4qtOuNXfSrjMNJ4oVLhMorDC5jEaBDI7R6Neau+mFBIQYxgyF45b9StFJiriYL0cdYuPWEKdiQzI4KhKubbexheJs1at08xMRD8q+hJ+4Db/Cj0P+vqYirvRqXxu/z+BoY69UaFMCRy+z9G5iWwAg4iXVssFXmNSTgPmc9dJ6cFRReM1ipw4CRzea2KcIzkw8DBBWD2FReTVKfDPrpbXgsLzLgpQlLuWGaBVwcJW1T2HbJfqJZDl84+lEMjhanLxGZ5vNstSlOXBce+21MUCEJ0hiKfQQl157kC984QvlHryAr2rtygEczKa78coLuD8qv1qVlQM4bL7TBMTHhDuvlM6ZnW35ypHBUR4rVcBhtXjmM5855+qKpZInnQRL/KlZL3nlWCAjoAo4brrpphhbqrg6c3qychSTuCwQEg39GhkcQ5OsnTdUAQdQdFr1ipcrxFBitdr5tuNpVQbHeOjcyFPoNFJkcsaFgqulkr5P/1f99Ix+CV6q1jsN92VwTEMv9WijfQEfdHsFIUgFVlNEQxRcbhqCNfd4tVZ8ncHRim6o1gixcTlACYzAoYllrvi0vPxEVq9r9ajWuum/K4NjivsQu2MDnRya0idPQdrvXEajQAbHaPSb+N021MX8FwAiiHVeNUbvmgyO0Wk48RpkhkqrxlJLLTUXQX3iDZvyBshPcvbZZ0/sLRbp9WSiyawE7EWdR3+/7LLLRoBIZZZLNQpIviPxDkWoqPjcjkWAlIlKThO+L+MsrQOHCICiDZL+iPE06CAx6rym+F3xvHhdr+9d0+s336ff0rl2OteREnuefPLJUYGXruv1zG6/F68tnhev7Tz3f/G71P5+36e6hR/lD98mFlAeE6uwyQa7SsiRXJDFbx5naR04pALjboowIqIPOrpdV/yueF6sq9f3run1m+/Tb+nc52KLLTbHVkkP4P90Xa9ndvu9eG3xvHht57n/i9+l9vf7PtVN0rbJJpu0Kq+HjLwiTyY2NX3KoNUviU8ToGkVOMx2iKHTBCkQRG3DDTecikNbWdXSdUxDm7WX5yJ6c7jqltiniQFXpk6R5BMofFpFJhFIuzXgwG+edtppkShHH310GRrma0akwM9//vPoR2IloeFvS7FCkFQlgMi428vDssk2twYc8tfxiJM7Q4CBXJqngNVCTkPgaJrm9jUS8Qh9KnhEr8PvbM7s3RI4CIcErhh0rzpdI0plHUl9WgcOmYtkdp3ETNH8cGzXEwy4I444IoIjZbttooUG6qGHHhq9HuVnH3TwjnQN9lrSHiw2P/tB9/mdfRv2lhh4zz33jAmLpIvjkz+s4KGV4NBRGRxNDNP5dQKHgHRWDhNSU0WeEasAHZBcKGUOvvUJEGWuT9e4T7BuGYXTyuPTd7IHi6JftmRwlKXUArwOOA4//PBGwQF0uAHxCLBu/FQEkWjiuPvuu2OKaV6UQiFxJpPWTrrqpIeiLyF2JxUbVDI4BlFoAf/eNDjOPPPMuIfEHnHsmmQBStp2rJeVxEozKL9iBscke2zCz24SHLTaKaA2E/62lHvuuSe6GQCIaPn9DEQzONrSaxNoR1PgoHlP+Q1JINtWiqJiKax7OZNNLThs2L2kQGh0JFxL5e6rYyMv/7c61Z8O/yNiv/r9ZsARkWqX9M7uG1fxXM+kv3DuPfqVOsGR6CLe1tJLLx1ZF3qrthZjRQIiK8jee+/dtZlTCw5iOZs9zkVy9q2//vox3pMEl6MUMvYbbrghRku3WSXqdEh3zLSl30bOwHTttttuGxggkrYceOCBpTPCGmDeq/NIA6/fe0nAucMOO4TVV189BmggyhT6p1+pExyeI4EPCwEDzia47X7wxLskaPI/8ubsLFMLDi+SAjHrDBIIiSeZRNx///2d71n6fysF60/xpOQAd5Czq3fHHXfsm4LZbC09mvassMIKkbeVlRZABg0UgDDARUH0Xg7neORB4KBcS6YgNMu8EPvNiIkYdYKDS7CJynO33HLL8NOf/jQ9prWfv/zlL0NyN6CH6SxTDQ4vw8gvmTIbJAzuLr300s73HOr/Bx98MG7UiAPTYeOGZUjR0HtVKOUZcSE7MeXYY4+NkhHWr/0KRRk2RPspvogevRs9xCD2iF6IuLQ4+5177rkxZ2G/Z9YFDkCwUgHGLrvsMrSyrV8bm/5NX2u3EKydfTv14KDsSbytAej/iy++uDJNmbEceeSRYfnll4/WwSyEHSuttFL0bxmUDvnGG2+MUpp0HTsxq9AgcGiwVUt6NHsGeyjnBvCgIp85cDCftwIp7uUTUYyJ1VlPHeAAakEmDDCa7QceeKDzMa3+H53tkbCjnZHtpxoc9gY6ZYsttoiD4cILL4z/S2lctWBhEAw7I4BCOvz/8MMP9x1sNt82d9okY6yZKLEa2tpUIR2i5bbv4tPOJ0JgarN4P/amDnCcddZZ8X1XW221qQxhCtzcmvmMmGSKZWrB4aX222+/aEsjZL/AyzK4mqVJIfD/4y733XdfNLMnxtQWkeq33377sOKKK8ZwPU22R3aobbbZJq549AvM5q+77rq+jxwFHFaoBAz6gkmYlPd9uSF+NJGZ0OSYL5apBUfxJfL5/1MAG9XJO///r/PPRgHHKaecEkMQkfZgJae50OQDB0ljsWRwFKkxY+dVwUHoYI+DFWlS+80tVsYr7A6NO7a2icIkHjiwocWSwVGkxoydVwEHdjVFgieybaqcc845QfwvXor2UwYvUTp2uu6CJVc/fVmxZHAUqTFj51XAQWBhJjeY7KW6JQIdlYxWDHUTr9rLyNS76aabxr0kiV7dxd7Q+8iPUiwZHEVqzNh5FXAkEiXlmVWk7qgg9DZ0PEVLXkpGFghNFKsUcHQqAjM4GqA2SQ7+mH9B2c1xA80YWOUo4FC5FG0GFTHuHXfcMfB5ZS/A5iy33HKRzaFMJQUkCmfOwyaq7sLnw3v4LJaZB4fBW2dySk48bKvWXnvtuEzza25rGRUc9DpJAchkhdKxjsIi4IQTTojKOWY4lLBLLLFE1GfVLaJn1rPbbrtF5bEVpFhmHhwMFelGaMbrKPhXmmIadf7MCxkc6IXVSbZcPgGujgJ4Vl7SKvoU5jvMg+ou7KvYv9HVdEZgmXpwfPOb34yKNm6YbPNZpqaE92UIeeWVV0ZpSOJnzSTXX3999Dd+85vfHNKx7777BiFiBg32ZAd10kknRZMElqptLaOuHOm9WBTYzGJNSJTqnt3Tc5r4FF1Tu1lZdLJsUw0O/hWrrLJKXH4Zvm211VbxRVmm9iskLrfffns0zBNJz+bv1FNPjT7HbKLI7mmYWfmmQ0QL0SzK2g4BEl58FsCB1sxrWDAbaKwD6lqJ+/XjqL8BcQoBxNqis0w1OMzwOiPZLZn9+V0cd9xxne8573+gYnvk3s6DFawlndLJXiQd/mdn1c+Qr/gQNk5WsiZYgeJzRjmva+VIbcAGpUAGg/og3TPJz4ceeiiKjHEdFJudZWrBQSJ0wQUXxMHN8K5YhpEQcQhii5R4ZUqmPfbYI9Yr7i0llAOI7CPKbt6xVWussUYMMlZsW5vO6waHdxOkOvmOJ1eCNr1zagur5WQUiiPoVqYWHF6GLb6ZCsvDaIyNjBXBS5ctV199dQCCIr/JkpXUifw+Hf4fZALumcSOVh8sBlAJqc+/ZBjAlm37qNc1AQ5tMuHQbtNsTzK/Ri/62FcecsghccLjO8Nos1uZanB4Ia6yG2+8cbTzWXzxxaMHHivLssXeQz6/uswSePDJCQi0ZPXSEjBLaCN71RQ40J6zldWWYWI3lqVs/9R9nUnKiqZtfH/OOOOMno+YenD0fLP8w0AKNAkOD+dzbxASeBBxT6pYKUgZSSaJ17WJ+JbfS7+SwdGPOgv8t6bBQSqYfCXokpi2G6S8Ips6sL588UU9BEheocccc8wcKLC6nMJ4TQ4qGRyDKLSAfweOpmPlEpwQl5utuaISt9sXsuht4lA/NllsXP74nutgXv/yl788nH766X0jyBS7u5XgsI8w6+TSLAWAg4OPjXOTUdaJvylRaaGTT35Tn0Ah1CfvUJ6RJFFswPhsDFtaCY6mc0UMS6SFej0lmGASwGFCarIw06AH6cxZmHIX1vWJnRKFhRUv8I9SWgMOL5JC1euwXJqnAJozm5AwiJQtl/kUaA04NIvpBv5QVG58KTsdYtB+h2Bunb8XvyueF6/r9b1rev3GRMXhmnSePot196qjWG/xvPPezv+L1xbP07NTm9J9g753HRs0eQHRm06CVUAu8ynQKnBoGmVeSq2bNlP589FmLnXRhIkLEWcuj6ZA68BBJs2ITYAt7pEcX9p+4JcpvWw48dVMTNreZrTloFTWkPLRQ2fhf9M6cEwryT//+c9HP45pbX9u96MpkMHxaJpU+oaoUD66LIKuRL5W3pTBUVO3AIdI5xkcNRG0BdVkcNTUCRkcNRGyRdVkcNTUGRkcNRGyRdVkcNTUGRkcNRGyRdVkcNTUGRkcNRGyRdVkcNTUGRkcNRGyRdVkcNTUGRkcNRGyRdVkcNTUGRkcNRGyRdVkcNTUGRkcNRGyRdVkcNTUGRkcNRGyRdVkcNTUGRkcNRGyRdVkcNTUGRkcNRGyRdVkcNTUGRkcNRGyRdX0BIcwKlJN5VKOAsLAZKvccrSalqt6gkPKKZHGBWcWV5TDej6600AUPSEwWeUKRZPLwqBAT3CI4LD00kvH0JZiyeajPw24rW633XYLY1Tkt4gU6AmOTJ9MgVmnQAbHrI+A/P49KZDB0ZM0+YdZp0AGx6yPgPz+PSmQwdGTNPmHWadABsesj4D8/j0p8H9OHbHL5plmmgAAAABJRU5ErkJggg==)\n",
        "\n",
        "ชุดคำสั่งข้างล่างนี้แทนการทำงานของผังงานข้างบน\n",
        "<pre>\n",
        "c = 0\n",
        "____answer1________:\n",
        "    n = n - 1   \n",
        "    if n%3 == 0:\n",
        "        ___answer2____\n",
        "    n = n - c\n",
        "    c += 1\n",
        "print(c)\n",
        "</pre>\n",
        "จงเติมคำสั่งแทนคำว่า answer1 และ answer2 ข้างบนนี้ เพื่อให้ทำงานตามผังงาน"
      ]
    },
    {
      "cell_type": "code",
      "metadata": {
        "cellView": "form",
        "id": "GCmSg7I5Uthe"
      },
      "source": [
        "#@title คำตอบ 2/11\n",
        "#@markdown ไม่ต้องสนใจเครื่องหมาย `\"` ที่แสดงในช่องคำตอบข้างล่างนี้\n",
        "answer1 = 'while n > 0' #@param {type:\"string\"}\n",
        "answer2 = 'break' #@param {type:\"string\"}"
      ],
      "execution_count": null,
      "outputs": []
    },
    {
      "cell_type": "markdown",
      "metadata": {
        "id": "_ETU6_UwUthf"
      },
      "source": [
        "### คำถาม 3/11\n",
        "\n",
        "โปรแกรมข้างล่างนี้จะแสดงอะไร\n",
        "<pre>\n",
        "s = ''\n",
        "for i in range(12345678):\n",
        "    s = str(i) + s\n",
        "print(s[-24:-14])\n",
        "</pre>"
      ]
    },
    {
      "cell_type": "code",
      "metadata": {
        "cellView": "form",
        "id": "TuPAmP9mUthg"
      },
      "source": [
        "#@title คำตอบ 3/11\n",
        "#@markdown ไม่ต้องสนใจเครื่องหมาย `\"` ที่แสดงในช่องคำตอบข้างล่างนี้\n",
        "answer = '1615141312' #@param {type:\"string\"}"
      ],
      "execution_count": null,
      "outputs": []
    },
    {
      "cell_type": "markdown",
      "metadata": {
        "id": "8OzIK-AzUthg"
      },
      "source": [
        "### คำถาม 4/11\n",
        "โปรแกรมข้างล่างนี้รับจำนวนเต็ม 0 ถึง 6 แทนเลขวันประจำสัปดาห์ ถ้ารับ 0 จะแสดง Sunday, รับ 1 จะแสดง Monday, ... รับ 6 แสดง Saturday\n",
        "\n",
        "จงเขียนคำสั่งในช่องว่างที่ขีดเส้นใต้ เพื่อให้โปรแกรทำงานคามที่ต้องการ\n",
        "<pre>\n",
        "day = 'Sunday   Monday   Tuesday  Wednesday' + \\\n",
        "      'Thursday Friday   Saturday'\n",
        "d = int(input())\n",
        "print(day[________________].strip()) # เขียนคำตอบเฉพาะที่ต้องอยู่ในบริเวณขีดเส้นใต้เท่านั้น\n",
        "</pre>\n",
        "หมายเหตุ: ถ้า `s` เป็นสตริง คำสั่ง `s.strip()` จะได้ผลเป็นสตริงเหมือนของ `s` แต่ไม่มีช่องว่างทั้งหลายทางซ้ายและขวาของสตริง เช่น\n",
        "<pre>\n",
        "s = '   a b c   '\n",
        "t = s.strip()  # ได้ t เก็บค่า 'a b c'\n",
        "</pre>"
      ]
    },
    {
      "cell_type": "code",
      "metadata": {
        "cellView": "form",
        "id": "BcT5i5TxUthg"
      },
      "source": [
        "#@title คำตอบ 4/11\n",
        "#@markdown ไม่ต้องสนใจเครื่องหมาย `\"` ที่แสดงในช่องคำตอบข้างล่างนี้\n",
        "answer = \"[i for i in range(len(day)) if day[i].isupper()][d]:[i for i in range(len(day+'A')) if (day+'A')[i].isupper()][d+1]\" #@param {type:\"string\"}"
      ],
      "execution_count": null,
      "outputs": []
    },
    {
      "cell_type": "markdown",
      "metadata": {
        "id": "iHgbfAf_Uthg"
      },
      "source": [
        "### คำถาม 5/11\n",
        "ข้างล่างนี้คือโปรแกรมเข้ารหัส pin code ที่เป็นตัวเลข 4 หลัก แสดงผลลัพธ์ทางจอภาพ\n",
        "<pre>\n",
        "D = ['6','0','9','2','7','3','5','8','1','4']\n",
        "pin_code = input()\n",
        "encoded_pin_code = ''\n",
        "for c in pin_code:\n",
        "    encoded_pin_code += D[(12 + D.index(c)) % 10]\n",
        "print(encoded_pin_code)\n",
        "</pre>\n",
        "ถ้าโปรแกรมนี้แสดง `6591` อยากทราบว่า รหัส pin code ที่ผู้ใช้ป้อนให้ทางอินพุตเป็นอะไร"
      ]
    },
    {
      "cell_type": "code",
      "metadata": {
        "cellView": "form",
        "id": "vOMrDIeDUthg"
      },
      "source": [
        "#@title คำตอบ 5/11\n",
        "#@markdown ไม่ต้องสนใจเครื่องหมาย `\"` ที่แสดงในช่องคำตอบข้างล่างนี้\n",
        "answer = ' 1765' #@param {type:\"string\"}"
      ],
      "execution_count": null,
      "outputs": []
    },
    {
      "cell_type": "markdown",
      "metadata": {
        "id": "o_2mKFZIUthg"
      },
      "source": [
        "### คำถาม 6/11\n",
        "<pre>\n",
        "x = ['oh', 'one', 'two', 'three', \n",
        "     'four', 'five', 'six', 'seven', \n",
        "     'eight', 'nine', 'thousand', 'million']\n",
        "d = []\n",
        "for e in x:\n",
        "    d.append(______________________)\n",
        "d.sort()\n",
        "for i in range(len(x)):\n",
        "    x[i] = d[i][1]\n",
        "print(x)\n",
        "</pre>\n",
        "ต้องเติมคำสั่งอะไรในช่องว่างขีดเส้นใต้ ของโปรแกรมข้างบนนี้ เพื่อให้หลังสั่งทำงานแล้ว จะแสดง\n",
        "\n",
        "`['thousand', 'million', 'eight', 'seven', 'three', 'five', 'four', 'nine', 'one', 'six', 'two', 'oh']`"
      ]
    },
    {
      "cell_type": "code",
      "metadata": {
        "cellView": "form",
        "id": "kcOpjgdOUthg"
      },
      "source": [
        "#@title คำตอบ 6/11\n",
        "#@markdown ไม่ต้องสนใจเครื่องหมาย `\"` ที่แสดงในช่องคำตอบข้างล่างนี้\n",
        "answer = '[-len(e), e]' #@param {type:\"string\"}"
      ],
      "execution_count": null,
      "outputs": []
    },
    {
      "cell_type": "markdown",
      "metadata": {
        "id": "ATSMRLebUthh"
      },
      "source": [
        "### คำถาม 7/11\n",
        "อยากทราบว่า <font size=+1>$87^{187}$</font> เป็นจำนวนที่มีค่ากี่หลัก \n",
        "\n",
        "เช่น 1200 มี 4 หลัก\n",
        "\n"
      ]
    },
    {
      "cell_type": "code",
      "metadata": {
        "cellView": "form",
        "id": "tKcKagKGUthh"
      },
      "source": [
        "#@title คำตอบ 7/11\n",
        "answer =  363#@param {type:\"number\"}"
      ],
      "execution_count": null,
      "outputs": []
    },
    {
      "cell_type": "markdown",
      "metadata": {
        "id": "jdSOpdTCUthh"
      },
      "source": [
        "### คำถาม 8/11\n",
        "อยากทราบว่า <font size=+1>${\\left \\lfloor  \\sum_{k=1}^{25}{ \\left ( \\frac{3^k}{k^7}  \\right )} \\right \\rfloor}$</font> มีค่าเท่าไร\n",
        "\n",
        "หมายเหตุ $\\lfloor$ $\\rfloor $ คือฟังก์ชัน floor ทางคณิตศาสตร์ ในกรณีที่ $x$ เป็นจำนวนบวก $ \\left \\lfloor x \\right \\rfloor $ ก็คือค่าของ $x$ ที่ตัดเลขหลังจุดทศนิยมทิ้ง เช่น $ \\left \\lfloor 10.91 \\right \\rfloor $ มีค่า $10$"
      ]
    },
    {
      "cell_type": "code",
      "metadata": {
        "cellView": "form",
        "id": "Uy4PY7-eUthh"
      },
      "source": [
        "#@title คำตอบ 8/11\n",
        "answer =  254#@param {type:\"number\"}"
      ],
      "execution_count": null,
      "outputs": []
    },
    {
      "cell_type": "markdown",
      "metadata": {
        "id": "v_lPFsqAUthh"
      },
      "source": [
        "### คำถาม 9/11\n",
        "ให้ `N` เป็นจำนวนเต็มบวก จงหาค่า `N` น้อยสุดที่การคำนวณ $ \\left ( \\frac{19}{N} \\right ) N $ (หรือที่เขียนเป็นนิพจน์ Python ว่า `19/N * N`) มีค่าไม่เท่ากับ 19.0\n"
      ]
    },
    {
      "cell_type": "code",
      "metadata": {
        "cellView": "form",
        "id": "QQh_QIiCUthh"
      },
      "source": [
        "#@title คำตอบ 9/11\n",
        "answer =  1#@param {type:\"number\"}"
      ],
      "execution_count": null,
      "outputs": []
    },
    {
      "cell_type": "markdown",
      "metadata": {
        "id": "n8_E19bgUthh"
      },
      "source": [
        "### คำถาม 10/11\n",
        "พิจารณาโปรแกรมข้างล่างนี้ ถ้าโปรแกรมนี้แสดงค่า `08/04/12` อยากทราบว่าผู้ใช้ป้อนอะไรที่อินพุต\n",
        "<pre>\n",
        "x = input()\n",
        "x,b = x.split(':')\n",
        "a,s = x.split('+')\n",
        "b,c = b.split('-')\n",
        "print(a + s + b + s + c)\n",
        "</pre>"
      ]
    },
    {
      "cell_type": "code",
      "metadata": {
        "cellView": "form",
        "id": "RD9dOuqVUthh"
      },
      "source": [
        "#@title คำตอบ 10/11\n",
        "#@markdown ไม่ต้องสนใจเครื่องหมาย `\"` ที่แสดงในช่องคำตอบข้างล่างนี้\n",
        "answer = '08+/:04-12' #@param {type:\"string\"}"
      ],
      "execution_count": null,
      "outputs": []
    },
    {
      "cell_type": "markdown",
      "metadata": {
        "id": "tkYPSB38Uthh"
      },
      "source": [
        "### คำถาม 11/11\n",
        "\n",
        "![if-loop_01.png](data:image/png;base64,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)\n",
        "\n",
        "จาก flowchart ถ้าเริ่มต้น `a`, `b` และ `c` มีค่า `21`, `10`,และ `19` ตามลำดับ\n",
        "พอทำงานจนถึงวงกลมเลข 1 ด้านล่าง\n",
        "`a`, `b` และ `c` จะมีค่าเท่าไร\n"
      ]
    },
    {
      "cell_type": "code",
      "metadata": {
        "cellView": "form",
        "id": "fKcZ5PWGUthi"
      },
      "source": [
        "#@title คำตอบ 11/11\n",
        "a =  40#@param {type:\"number\"}\n",
        "b =  10#@param {type:\"number\"}\n",
        "c =  69#@param {type:\"number\"}"
      ],
      "execution_count": null,
      "outputs": []
    },
    {
      "cell_type": "markdown",
      "metadata": {
        "id": "So09d_a1Uthi"
      },
      "source": [
        "# ตอนที่ 2: เขียนโปรแกรม\n",
        "6432133721"
      ]
    },
    {
      "cell_type": "markdown",
      "metadata": {
        "id": "b8-NacUgUthi"
      },
      "source": [
        "## คำถาม 1/4\n"
      ]
    },
    {
      "cell_type": "markdown",
      "metadata": {
        "id": "laDs5u8F1UCN"
      },
      "source": [
        "### **DOMINO_3**\n",
        "ตัวโดมิโนจะแผ่นรูปสี่เหลี่ยมผืนผ้า ในตัวโดมิโนแต่ละตัวที่มีจุดอยู่อยู่ 2 ฝั่งตั้งแต่ 0 จุดถึง 6 จุด <br>\n",
        "\n",
        "เราใช้สตริง `\"|X:Y|\"` แทนตัวโดมิโน 1 ตัว โดย `0` &le; `X` &le; `6` และ `0` &le; `Y` &le; `6` ลำดับของ X กับ Y ไม่มีความสำคัญ นั่นคือ `\"|X:Y|\"` และ `\"|Y:X|\"` ถือว่าเป็นตัวโดมิโนเดียวกัน เช่น `\"|1:3|\"`, `\"|3:1|\"` คือตัวโดมิโนเดียวกัน <br>\n",
        "\n",
        "สตริง `\"|1:2||2:3||5:6||6:2|\"` ใช้แทนตัวโดมิโน 4 ตัวที่มีเลข `1:2`, `2:3`, `5:6`, และ `6:2` ตามลำดับ <br>\n",
        "\n",
        "ให้เขียนโปรแกรมเพื่อดึงโดมิโนตัวที่ k จากชุด มาวางต่อทางซ้ายสุด กำหนดให้โดมิโนจากตัวซ้ายไปขวา คือตัวที่ 1, 2, ...\n",
        "\n",
        "**ข้อมูลนำเข้า**\n",
        "- บรรทัดที่ 1 เป็นชุดของโดมิโน\n",
        "- บรรทัดที่ 2 เป็นจำนวนเต็ม k โดยที่ 1 &le; k &le; จำนวนตัวโดมิโนในบรรทัดที่ 1\n",
        "\n",
        "**ข้อมูลส่งออก**\n",
        "- สตริงที่แสดงเป็นชุดของตัวโดมิโนหลังจากย้ายตัวที่ k มาไว้ทางซ้ายสุดแล้ว\n",
        "\n",
        "## ตัวอย่าง\n",
        "<pre>\n",
        "<table align=left border=2>\n",
        "<tr><td>Input</td><td>Output</td></tr>\n",
        "<tr>\n",
        "    <td>|1:2||2:3||5:6||6:2|<br>\n",
        "    1</td>\n",
        "    <td>|1:2||2:3||5:6||6:2|</td>\n",
        "</tr><tr>\n",
        "    <td>|1:2||2:3||5:6||6:2|<br>\n",
        "    2</td>\n",
        "    <td>|2:3||1:2||5:6||6:2|</td>\n",
        "</tr><tr>\n",
        "    <td>|1:2||2:3||5:6||6:2|<br>\n",
        "    3</td>\n",
        "    <td>|5:6||1:2||2:3||6:2|<br>\n",
        "    </td>\n",
        "</tr>\n",
        "<tr>\n",
        "    <td>|1:2||2:3||5:6||6:2|<br>\n",
        "    4</td>\n",
        "    <td>|6:2||1:2||2:3||5:6|<br>\n",
        "    </td>\n",
        "</tr>\n",
        "\n",
        "</table>\n",
        "</pre>\n",
        "\n",
        "<font color=red>ห้ามใชัคำสั่ง while หรือ for (ถ้าใช้ ได้ศูนย์)</font>"
      ]
    },
    {
      "cell_type": "code",
      "metadata": {
        "id": "baBd4s0O1UCO",
        "colab": {
          "base_uri": "https://localhost:8080/"
        },
        "outputId": "ea39abe0-5d0b-4033-f74a-2fbc9e35bf06"
      },
      "source": [
        "# DOMINO_3 (DO NOT modify this line)\n",
        "\n",
        "# Put your code only in this code cell.\n",
        "\n",
        "a = input().split('|')\n",
        "k = int(input())\n",
        "\n",
        "print('|'+a[k*2-1]+'|'+'|'.join(a[:k*2-1])+'|'.join(a[k*2:]))\n",
        "\n",
        "\n"
      ],
      "execution_count": null,
      "outputs": [
        {
          "output_type": "stream",
          "name": "stdout",
          "text": [
            "|1:2||2:3||5:6||6:2|\n",
            "3\n",
            "|5:6||1:2||2:3||6:2|\n"
          ]
        }
      ]
    },
    {
      "cell_type": "markdown",
      "metadata": {
        "id": "7B4nOiJ7Uthi"
      },
      "source": [
        "## คำถาม 2/4\n"
      ]
    },
    {
      "cell_type": "markdown",
      "metadata": {
        "id": "ZxqYDMBBwi2v"
      },
      "source": [
        "### **Valid Password**\n",
        "กำหนดให้ password ที่ถูกต้องจะต้องมีความยาว 5 ตัวอักษร (ห้ามสั้นกว่านี้ ห้ามยาวกว่านี้) และต้องประกอบด้วย\n",
        "\n",
        "*   ภาษาอังกฤษตัวพิมพ์เล็ก (a-z) อย่างน้อยหนึ่งตัว\n",
        "*   ภาษาอังกฤษตัวพิมพ์ใหญ่ (A-Z) อย่างน้อยหนึ่งตัว\n",
        "*   ตัวเลข (0-9) อย่างน้อยหนึ่งตัว\n",
        "*   อาจจะมีหรือไม่มีตัวอักษรอื่นก็ได้\n",
        "\n",
        "**คำสั่ง**\n",
        "\n",
        "จงเขียนโปรแกรมที่รับข้อมูลเข้ามาหนึ่งบรรทัดแล้วตรวจสอบว่าข้อมูลที่รับเข้ามานั้นเป็น password ที่ถุกต้องหรือไม่\n",
        "\n",
        "ถ้าถูกต้องให้แสดงผล Valid Password ถ้าไม่ถูกต้องให้แสดง Invalid Password\n",
        "\n",
        "## **ตัวอย่าง**\n",
        "\n",
        "<pre>\n",
        "<table align=left border=2 width=80%>\n",
        "<thead>\n",
        "  <tr>\n",
        "    <th align=left>Input</th>\n",
        "    <th align=left>Output</th>\n",
        "    <th align=left>คำอธิบาย</th>\n",
        "  </tr>\n",
        "</thead>\n",
        "<tbody>\n",
        "  <tr>\n",
        "    <td>Dota2</td>\n",
        "    <td>Vaild Password<p></td>\n",
        "    <td></td>\n",
        "  </tr>\n",
        "  <tr>\n",
        "    <td>Ex10#</td>\n",
        "    <td>Valid Password<p></td>\n",
        "    <td></td>\n",
        "  </tr>\n",
        "  <tr>\n",
        "    <td>Grade</td>\n",
        "    <td>Invalid Password<p></td>\n",
        "    <td>ไม่มีตัวเลข</td>\n",
        "  </tr>\n",
        "  <tr>\n",
        "    <td>Ex10</td>\n",
        "    <td>Invalid Password<p></td>\n",
        "    <td>ไม่ครบ 5 ตัว</td>\n",
        "  </tr>\n",
        "  <tr>\n",
        "    <td>.Dota2</td>\n",
        "    <td>Invalid Password<p></td>\n",
        "    <td>เกิน 5 ตัว</td>\n",
        "  </tr>\n",
        "  <tr>\n",
        "    <td>03_if</td>\n",
        "    <td>Invaild Password<p></td>\n",
        "    <td>ไม่มีตัวพิมพ์ใหญ่</td>\n",
        "  </tr>\n",
        "  <tr>\n",
        "    <td>03_IF</td>\n",
        "    <td>Invaild Password<p></td>\n",
        "    <td>ไม่มีตัวพิมพ์เล็ก</td>\n",
        "  </tr>\n",
        "</tbody>\n",
        "</table>\n",
        "</pre>\n",
        "\n",
        "## **สำคัญมาก**\n",
        "- เขียนโปรแกรมที่ต้องการส่งใน code cell ข้างล่างนี้เท่านั้น \n",
        "- ห้ามแก้ไขข้อความใน **บรรทัดแรก** โดยเต็ดขาด"
      ]
    },
    {
      "cell_type": "code",
      "metadata": {
        "id": "WHeoSOaiwTSu",
        "colab": {
          "base_uri": "https://localhost:8080/"
        },
        "outputId": "f84730e5-9099-415f-814a-e0f065f51f65"
      },
      "source": [
        "# Valid_Password (DO NOT modify this line)\n",
        "\n",
        "# Put your code only in this code cell.\n",
        "\n",
        "pw = input()\n",
        "\n",
        "sm = bg = n = False\n",
        "for x in pw:\n",
        "    if x.isnumeric():\n",
        "        n = True\n",
        "    if x.islower():\n",
        "        sm = True\n",
        "    if x.isupper():\n",
        "        bg = True\n",
        "\n",
        "if len(pw) == 5 and sm and bg and n:\n",
        "    print('Valid Password')\n",
        "else:\n",
        "    print('Invalid Password')"
      ],
      "execution_count": null,
      "outputs": [
        {
          "output_type": "stream",
          "name": "stdout",
          "text": [
            "03_If\n",
            "Valid Password\n"
          ]
        }
      ]
    },
    {
      "cell_type": "markdown",
      "metadata": {
        "id": "m3DONBZaUthj"
      },
      "source": [
        "## คำถาม 3/4\n"
      ]
    },
    {
      "cell_type": "markdown",
      "metadata": {
        "id": "DnwN4glrGbuO"
      },
      "source": [
        "### **Running Max**\n",
        "จงเขียนโปรแกรมที่คำนวณค่าสูงสุดในแต่ละช่วงของชุดจำนวน โดยสามารถกำหนดกรอบ(window)ที่จะหาค่าสูงสุดได้\n",
        "\n",
        "เช่น\n",
        "\n",
        "**window** 3 \\\\\n",
        "**ชุดตัวเลข** 8 5 7 -6 \\\\\n",
        "**output** 8 7 7 -6 \\\\\n",
        "\n",
        "การหาค่าสูงสุดจะหาจากจำนวนเท่าขนาดwindow แล้วจะค่อยๆขยับwindowที่จะคำนวณจนถึงตัวเลขสุดท้ายของชุดตัวเลข ถ้ามีตัวเลขไม่ครบwindowให้ใช้เท่าที่มี\n",
        "\n",
        "8 $\\leftarrow$ max(8,5,7) \\\\\n",
        "7 $\\leftarrow$ max(5,7,-6) \\\\\n",
        "7 $\\leftarrow$ max(5,7) \\\\\n",
        "-6 $\\leftarrow$ max(-6) \\\\\n",
        "\n",
        "**ข้อมูลนำเข้า**\n",
        "- รับเลขหนึ่งชุด (เลขตัวละตัวคั่นด้วยเว้นวรรค) โดยตัวเลขแรกจะเป็นขนาดwindow เลขที่เหลือจะเป็นชุดตัวเลขที่ต้องใช้คำนวณ\n",
        "\n",
        "**ข้อมูลส่งออก**\n",
        "- ค่าrunning max (แยกเลขด้วยเครื่องหมายเว้นวรรค) ซึ่งมีจำนวนตัวเลขเท่ากับชุดตัวเลขที่ได้รับ\n",
        "\n",
        "## ตัวอย่าง\n",
        "<pre>\n",
        "<table align=left border=2 width=75%>\n",
        "<tr><td>Input</td><td>Output</td></tr>\n",
        "<tr>\n",
        "<td>3 8 5 7 -6</td>\n",
        "<td>8.0 7.0 7.0 -6.0</td>\n",
        "</tr>\n",
        "<tr>\n",
        "<td>1 3.4 2.1 3.5 -5.2</td>\n",
        "<td>3.4 2.1 3.5 -5.2</td>\n",
        "</tr>\n",
        "<tr>\n",
        "<td>10 1 2 3 4</td>\n",
        "<td>4.0 4.0 4.0 4.0</td>\n",
        "</tr>\n",
        "<tr>\n",
        "<td>5 1 2 -2 8 2 11 12 8 7 4 9</td>\n",
        "<td>8.0 11.0 12.0 12.0 12.0 12.0 12.0 9.0 9.0 9.0 9.0\n",
        "</td>\n",
        "</tr>\n",
        "</table>\n",
        "</pre>\n",
        "\n",
        "## hint คำสั่งเหล่านี้อาจมีประโยชน์\n",
        "\n",
        "1. max(list) จะให้ค่าสูงสุดใน list\n",
        "2. sum(list) จะคำนวณผลรวมของค่าใน list\n",
        "\n",
        "## สำคัญมาก\n",
        "- เขียนโปรแกรมที่ต้องการส่งใน code cell ข้างล่างนี้เท่านั้น \n",
        "- ห้ามแก้ไขข้อความใน **บรรทัดแรก** โดยเต็ดขาด"
      ]
    },
    {
      "cell_type": "code",
      "metadata": {
        "id": "BbBw0QcVHJo4",
        "colab": {
          "base_uri": "https://localhost:8080/"
        },
        "outputId": "72d6933e-42ae-4223-9c6c-4e41cea68417"
      },
      "source": [
        "# RUNNING_MAX (DO NOT modify this line)\n",
        "\n",
        "# Put your code only in this code cell.\n",
        "\n",
        "num = [float(x) for x in input().split()]\n",
        "k = int(num[0])\n",
        "num = num[1:]\n",
        "\n",
        "for i in range(len(num)):\n",
        "    print(max(num[i:i+k]), end=' ')"
      ],
      "execution_count": null,
      "outputs": [
        {
          "output_type": "stream",
          "name": "stdout",
          "text": [
            "5 1 2 -2 8 2 11 12 8 7 4 9\n",
            "8.0 11.0 12.0 12.0 12.0 12.0 12.0 9.0 9.0 9.0 9.0 "
          ]
        }
      ]
    },
    {
      "cell_type": "markdown",
      "metadata": {
        "id": "ZlggCP55Uthj"
      },
      "source": [
        "## คำถาม 4/4\n"
      ]
    },
    {
      "cell_type": "markdown",
      "metadata": {
        "id": "TI1e25gvl6ef"
      },
      "source": [
        "### **Closest Dots**\n",
        "กำหนดให้มีลิสต์ของจุดที่มีเส้นเชื่อมต่อกันเป็นรูปปิด `[[x0,y0],[x1,y1],...[xn,yn]]` โดยจะต้องมีเส้นเชื่อมจากจุด `[xn,yn]` ไปยัง `[x0,y0]` และมีจุดใหม่ 1 จุด ที่ตำแหน่ง `[xm,ym]` ให้แทรกจุด `[xm,ym]` ลงไปลิสต์เดิม ในตำแหน่งที่ทำให้เกิดเส้นใหม่ที่สั้นที่สุด \n",
        "\n",
        "**ตัวอย่าง**\n",
        "\n",
        "จากรูปด้านล่าง เป็นลิสต์ของจุดตั้งต้น ประกอบด้วย จุด `[[3, 5], [1, 2], [1, 10], [2, 10]]` และจุดใหม่อยู่ที่ตำแหน่ง `[2, 6]`\n",
        "\n",
        "![image.png](data:image/png;base64,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)\n",
        "\n",
        "จากภาพด้านล่างหากตัดสินใจเพิ่มจุด `[2,6]` เข้าไประหว่าง `[1,2]` และ `[3,5]` จะมีระยะเพิ่มขึ้น $(\\sqrt{(1-2)^2+(2-6)^2}+\\sqrt{(2-3)^2+(6-5)^2})-\\sqrt{(1-3)^2+(2-5)^2}$\n",
        "\n",
        "![image.png](data:image/png;base64,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)\n",
        "\n",
        "หรือจากภาพด้านล่าง หากเพิ่มจุด `[2,6]` เข้าไประหว่างจุด `[1,2]` กับ `[1,10]` ตามรูปด้านล่าง จะมีระยะเพิ่มขึ้น $(\\sqrt{(1-2)^2+(2-6)^2}+\\sqrt{(2-1)^2+(6-10)^2})-\\sqrt{(1-1)^2+(2-10)^2}$\n",
        "\n",
        "![image.png](data:image/png;base64,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)\n",
        "\n",
        "**คำสั่ง**\n",
        "\n",
        "กำหนดให้มีลิสต์ของจุดเก็บไว้ในตัวแปร `dots` ตามรูปแบบข้างต้น รับอินพุตเป็นจุดใหม่ จากนั้นให้พิมพ์ลิสต์ที่ใส่จุดใหม่เข้าไป โดยจุดใหม่ที่ใส่นี้ จะเป็นจุดที่ทำให้เส้นรอบรูปเพิ่มขึ้นน้อยที่สุด หากคำตอบเป็นการเพิ่มจุดเข้าไประหว่างจุดสุดท้ายกับจุดเริ่มต้น ให้เพิ่มจุดใหม่เข้าไปที่ท้ายลิสต์\n",
        "\n",
        "**ข้อมูลนำเข้า**\n",
        "\n",
        "มีหนึ่งบรรทัดประกอบด้วยพิกัด x และ y เป็น**จำนวนเต็ม** รับประกันว่า โจทย์ที่ให้มีคำตอบเพียงคำตอบเดียว ไม่มีจุดสองจุดใดที่ทำให้เส้นรอบรูปเพิ่มขึ้นเท่ากัน\n",
        "\n",
        "\n",
        "**ข้อมูลส่งออก**\n",
        "\n",
        "ลิสต์ของจุดที่เพิ่มจุดใหม่เข้าไปตามเงื่อนไขที่กำหนด\n",
        "\n",
        "## **ตัวอย่าง**\n",
        "\n",
        "<pre>\n",
        "<table align=left border=2 width=100%>\n",
        "<thead>\n",
        "  <tr>\n",
        "    <th align=left>Input</th>\n",
        "    <th align=left width=80%>Output</th>\n",
        "  </tr>\n",
        "</thead>\n",
        "<tbody>\n",
        "  <tr>\n",
        "    <td>2,6</td>\n",
        "    <td>[[3, 5], [1, 2], [2, 6], [1, 10], [2, 10]]</td>\n",
        "  </tr>\n",
        "  <tr>\n",
        "    <td>2,3</td>\n",
        "    <td>[[3, 5], [2, 3], [1, 2], [1, 10], [2, 10]]</td>\n",
        "  </tr>\n",
        "  <tr>\n",
        "    <td>2,11</td>\n",
        "    <td>[[3, 5], [1, 2], [1, 10], [2, 11], [2, 10]]</td>\n",
        "  </tr>\n",
        "  <tr>\n",
        "    <td>3,6</td>\n",
        "    <td>[[3, 5], [1, 2], [1, 10], [2, 10], [3, 6]]</td>\n",
        "  </tr>\n",
        "</tbody>\n",
        "</table>\n",
        "</pre>\n",
        "\n",
        "## **สำคัญมาก**\n",
        "- เขียนโปรแกรมที่ต้องการส่งใน code cell ข้างล่างนี้เท่านั้น \n",
        "- ห้ามแก้ไขข้อความใน **บรรทัดแรก** โดยเต็ดขาด\n",
        "\n"
      ]
    },
    {
      "cell_type": "code",
      "metadata": {
        "id": "NO8Ucl4fv7rN",
        "colab": {
          "base_uri": "https://localhost:8080/"
        },
        "outputId": "3ac2c9e6-23ba-4133-b0a0-4b4d230361f4"
      },
      "source": [
        "# Closest_Dots (DO NOT modify this line)\n",
        "\n",
        "dots=[[3, 5], [1, 2], [1, 10], [2, 10]] # DO NOT modify this line\n",
        "\n",
        "# Put your code only below this line.\n",
        "import math\n",
        "\n",
        "def dis(a, b):\n",
        "    return math.sqrt((a[0]-b[0])**2 + (a[1]-b[1])**2)\n",
        "\n",
        "\n",
        "new_dot = [int(x) for x in input().split(',')]\n",
        "\n",
        "dots.append([3, 5])\n",
        "\n",
        "idx = 0\n",
        "mn = 1e9\n",
        "for i in range(len(dots)-1):\n",
        "    dist = dis(new_dot, dots[i]) + dis(new_dot, dots[i+1]) - dis(dots[i], dots[i+1])\n",
        "    # print(dist)\n",
        "    if mn > dist:\n",
        "        mn = dist\n",
        "        idx = i\n",
        "\n",
        "dots.pop()\n",
        "dots.insert(idx+1, new_dot)\n",
        "print(dots)\n"
      ],
      "execution_count": null,
      "outputs": [
        {
          "output_type": "stream",
          "name": "stdout",
          "text": [
            "2,11\n",
            "[[3, 5], [1, 2], [1, 10], [2, 11], [2, 10]]\n"
          ]
        }
      ]
    }
  ]
}