{
  "nbformat": 4,
  "nbformat_minor": 2,
  "metadata": {
    "kernelspec": {
      "name": "python3",
      "display_name": "Python 3.9.6 64-bit"
    },
    "language_info": {
      "codemirror_mode": {
        "name": "ipython",
        "version": 3
      },
      "file_extension": ".py",
      "mimetype": "text/x-python",
      "name": "python",
      "nbconvert_exporter": "python",
      "pygments_lexer": "ipython3",
      "version": "3.9.6"
    },
    "colab": {
      "name": "Python_DataVisualization_Students.ipynb",
      "provenance": [],
      "collapsed_sections": []
    },
    "interpreter": {
      "hash": "9bb68e69798e21ae5e1416b170052fe34aa592c2641cb05fb65923eb8b3c5f1f"
    }
  },
  "cells": [
    {
      "cell_type": "code",
      "execution_count": 1,
      "source": [
        "!wget https://raw.githubusercontent.com/Mixelon-tera/Workshop3_DataViz/master/exams_100.csv"
      ],
      "outputs": [
        {
          "output_type": "stream",
          "name": "stderr",
          "text": [
            "--2021-10-01 17:42:38--  https://raw.githubusercontent.com/Mixelon-tera/Workshop3_DataViz/master/exams_100.csv\n",
            "Resolving raw.githubusercontent.com (raw.githubusercontent.com)... 185.199.109.133, 185.199.111.133, 185.199.108.133, ...\n",
            "Connecting to raw.githubusercontent.com (raw.githubusercontent.com)|185.199.109.133|:443... connected.\n",
            "HTTP request sent, awaiting response... 200 OK\n",
            "Length: 7253 (7.1K) [text/plain]\n",
            "Saving to: 'exams_100.csv'\n",
            "\n",
            "     0K .......                                               100% 2.80M=0.002s\n",
            "\n",
            "2021-10-01 17:42:38 (2.80 MB/s) - 'exams_100.csv' saved [7253/7253]\n",
            "\n"
          ]
        }
      ],
      "metadata": {
        "id": "2bbT2mA1uU85",
        "colab": {
          "base_uri": "https://localhost:8080/"
        },
        "outputId": "033d60df-6790-4b7f-b7cb-9b7e9a3898be"
      }
    },
    {
      "cell_type": "code",
      "execution_count": 2,
      "source": [
        "import platform\n",
        "#ตรวจสอบเวอร์ชันไพธอน\n",
        "print(\"Python version: {}\".format(platform.sys.version))"
      ],
      "outputs": [
        {
          "output_type": "stream",
          "name": "stdout",
          "text": [
            "Python version: 3.9.6 (tags/v3.9.6:db3ff76, Jun 28 2021, 15:26:21) [MSC v.1929 64 bit (AMD64)]\n"
          ]
        }
      ],
      "metadata": {
        "id": "TUusmzVf17J3",
        "colab": {
          "base_uri": "https://localhost:8080/"
        },
        "outputId": "e54b98ff-d9f3-4a52-d79b-2cb693e736d7"
      }
    },
    {
      "cell_type": "code",
      "execution_count": 3,
      "source": [
        "import os\n",
        "''' เราจะเช็ค path ของไฟล์ excel ชนิด (.csv) ก่อนว่ามีไฟล์ชนิดนี้อยู่ใน folder เดียวกันกับไฟล์ jupyter ไหม\n",
        "ด้วยการเรียกใช้ module ของไพธอน คือ os.path.exists() \n",
        "'''\n",
        "file_name = 'exams_100.csv'\n",
        "if os.path.exists(file_name):\n",
        "    print('Found that file')\n",
        "else:\n",
        "    print('Please check csv file.')\n"
      ],
      "outputs": [
        {
          "output_type": "stream",
          "name": "stdout",
          "text": [
            "Found that file\n"
          ]
        }
      ],
      "metadata": {
        "id": "Kg0YcZL017J-",
        "colab": {
          "base_uri": "https://localhost:8080/"
        },
        "outputId": "c08bd076-39b2-4e70-99bc-aa7c11369d03"
      }
    },
    {
      "cell_type": "code",
      "execution_count": 4,
      "source": [
        "import pandas as pd\n",
        "import matplotlib.pyplot as plt"
      ],
      "outputs": [],
      "metadata": {
        "id": "5pohyEgL17KA"
      }
    },
    {
      "cell_type": "code",
      "execution_count": 5,
      "source": [
        "#อ่านไฟล์ csv แล้วเอาค่ามาเก็บไว้ในตัวแปรหนึ่งที่ชื่อว่า 'csv_data'\n",
        "csv_data = pd.read_csv(file_name)\n",
        "print(csv_data.head())"
      ],
      "outputs": [
        {
          "output_type": "stream",
          "name": "stdout",
          "text": [
            "   gender race/ethnicity parental level of education     lunch  \\\n",
            "0  female        group C            some high school  standard   \n",
            "1  female        group D                 high school  standard   \n",
            "2  female        group E                 high school  standard   \n",
            "3    male        group C                 high school  standard   \n",
            "4    male        group C          associate's degree  standard   \n",
            "\n",
            "  test preparation course  math score  reading score  writing score  \n",
            "0                    none          67             65             69  \n",
            "1               completed          66             75             78  \n",
            "2                    none          76             74             75  \n",
            "3               completed          70             76             67  \n",
            "4                    none          56             49             49  \n"
          ]
        }
      ],
      "metadata": {
        "scrolled": false,
        "id": "UNpCY7FY17KD",
        "colab": {
          "base_uri": "https://localhost:8080/"
        },
        "outputId": "e397d99c-b274-4091-c3b0-64326e8c787a"
      }
    },
    {
      "cell_type": "markdown",
      "source": [
        "# TO DO 1 :  แสดงผลข้อมูลเป็นจำนวน 50 แถว"
      ],
      "metadata": {
        "id": "ByvLSRHx17KH"
      }
    },
    {
      "cell_type": "markdown",
      "source": [
        "<img src=\"https://github.com/thcktw/python-com-resource/raw/master/lab4datavis/result_of_todo1.png\">"
      ],
      "metadata": {
        "id": "m6Akantk17KH"
      }
    },
    {
      "cell_type": "code",
      "execution_count": 6,
      "source": [
        "#Write code below please.\n",
        "print(csv_data.head(50))"
      ],
      "outputs": [
        {
          "output_type": "stream",
          "name": "stdout",
          "text": [
            "    gender race/ethnicity parental level of education         lunch  \\\n",
            "0   female        group C            some high school      standard   \n",
            "1   female        group D                 high school      standard   \n",
            "2   female        group E                 high school      standard   \n",
            "3     male        group C                 high school      standard   \n",
            "4     male        group C          associate's degree      standard   \n",
            "5   female        group D          associate's degree      standard   \n",
            "6     male        group D                 high school      standard   \n",
            "7   female        group E            some high school  free/reduced   \n",
            "8   female        group D          associate's degree  free/reduced   \n",
            "9   female        group D                some college      standard   \n",
            "10  female        group D            some high school  free/reduced   \n",
            "11  female        group B                 high school  free/reduced   \n",
            "12    male        group C                some college      standard   \n",
            "13  female        group B                some college      standard   \n",
            "14    male        group C                 high school      standard   \n",
            "15  female        group B                some college      standard   \n",
            "16  female        group E                some college  free/reduced   \n",
            "17    male        group E                some college      standard   \n",
            "18  female        group C          associate's degree      standard   \n",
            "19  female        group E                 high school      standard   \n",
            "20    male        group B            some high school  free/reduced   \n",
            "21    male        group E             master's degree  free/reduced   \n",
            "22    male        group C            some high school      standard   \n",
            "23    male        group C            some high school      standard   \n",
            "24    male        group E                 high school      standard   \n",
            "25    male        group D             master's degree      standard   \n",
            "26    male        group D          associate's degree      standard   \n",
            "27  female        group D            some high school  free/reduced   \n",
            "28  female        group E                some college  free/reduced   \n",
            "29    male        group D            some high school  free/reduced   \n",
            "30  female        group E           bachelor's degree  free/reduced   \n",
            "31    male        group B           bachelor's degree      standard   \n",
            "32  female        group C          associate's degree      standard   \n",
            "33    male        group D                 high school      standard   \n",
            "34  female        group C            some high school  free/reduced   \n",
            "35    male        group D                 high school      standard   \n",
            "36    male        group B          associate's degree      standard   \n",
            "37  female        group C          associate's degree      standard   \n",
            "38    male        group C          associate's degree  free/reduced   \n",
            "39    male        group B                some college      standard   \n",
            "40    male        group C           bachelor's degree      standard   \n",
            "41    male        group A            some high school      standard   \n",
            "42    male        group D                 high school      standard   \n",
            "43  female        group C             master's degree  free/reduced   \n",
            "44    male        group A          associate's degree      standard   \n",
            "45    male        group C            some high school  free/reduced   \n",
            "46  female        group D                 high school      standard   \n",
            "47    male        group A             master's degree      standard   \n",
            "48    male        group C          associate's degree  free/reduced   \n",
            "49  female        group C          associate's degree      standard   \n",
            "\n",
            "   test preparation course  math score  reading score  writing score  \n",
            "0                     none          67             65             69  \n",
            "1                completed          66             75             78  \n",
            "2                     none          76             74             75  \n",
            "3                completed          70             76             67  \n",
            "4                     none          56             49             49  \n",
            "5                completed          80             91             89  \n",
            "6                     none          53             55             55  \n",
            "7                completed          79             88             84  \n",
            "8                completed          69             70             73  \n",
            "9                     none          55             66             74  \n",
            "10                    none          51             46             54  \n",
            "11                    none          62             75             66  \n",
            "12               completed          66             53             51  \n",
            "13                    none          62             75             72  \n",
            "14                    none          71             71             61  \n",
            "15                    none          74             82             75  \n",
            "16                    none          65             57             62  \n",
            "17               completed          79             77             76  \n",
            "18                    none          79             82             80  \n",
            "19                    none          96             89             88  \n",
            "20                    none          53             52             48  \n",
            "21               completed          66             77             73  \n",
            "22               completed          64             59             54  \n",
            "23                    none          77             75             66  \n",
            "24                    none          95             68             65  \n",
            "25               completed          75             72             73  \n",
            "26                    none          79             59             67  \n",
            "27                    none          54             60             57  \n",
            "28                    none          59             72             67  \n",
            "29                    none          54             52             45  \n",
            "30                    none          79             91             88  \n",
            "31               completed          79             69             77  \n",
            "32                    none          65             80             75  \n",
            "33               completed          65             62             50  \n",
            "34               completed          64             74             78  \n",
            "35                    none          63             47             48  \n",
            "36                    none          78             74             71  \n",
            "37                    none          63             81             71  \n",
            "38               completed          55             49             57  \n",
            "39                    none          55             51             51  \n",
            "40                    none          53             46             43  \n",
            "41                    none          65             67             61  \n",
            "42               completed          78             83             81  \n",
            "43                    none          70             71             77  \n",
            "44                    none          84             86             83  \n",
            "45                    none          44             53             47  \n",
            "46               completed          64             78             81  \n",
            "47               completed          69             69             70  \n",
            "48                    none          64             57             56  \n",
            "49                    none          52             67             63  \n"
          ]
        }
      ],
      "metadata": {
        "id": "GLZFls4W17KI",
        "colab": {
          "base_uri": "https://localhost:8080/"
        },
        "outputId": "317fd4c0-668c-422a-ba95-a9338215bd0c"
      }
    },
    {
      "cell_type": "markdown",
      "source": [
        "# TO DO 2 : นับจำนวนนักเรียนเพศชาย-หญิงจากไฟล์ csv แล้วแสดงผลทางหน้าจอ"
      ],
      "metadata": {
        "id": "PbetAquw17KL"
      }
    },
    {
      "cell_type": "markdown",
      "source": [
        "<img src=\"https://github.com/thcktw/python-com-resource/raw/master/lab4datavis/result_of_todo2.png\">"
      ],
      "metadata": {
        "id": "FzxnYBT717KM"
      }
    },
    {
      "cell_type": "code",
      "execution_count": 7,
      "source": [
        "#Write code below please.\n",
        "gender = csv_data['gender']\n",
        "print('Amount of student:',len(gender))\n",
        "male_number = len([x for x in gender if x == 'male'])\n",
        "female_number = len([x for x in gender if x == 'female'])\n",
        "print('Amount of male student:',male_number)\n",
        "print('Amount of female student:',female_number)\n"
      ],
      "outputs": [
        {
          "output_type": "stream",
          "name": "stdout",
          "text": [
            "Amount of student: 100\n",
            "Amount of male student: 51\n",
            "Amount of female student: 49\n"
          ]
        }
      ],
      "metadata": {
        "id": "8fthMTLv17KM",
        "colab": {
          "base_uri": "https://localhost:8080/"
        },
        "outputId": "9e638329-c47d-44f1-a742-664122034726"
      }
    },
    {
      "cell_type": "markdown",
      "source": [
        "# TO DO 3 : สร้างกราฟแท่งเปรียบเทียบจำนวนนักเรียนเพศชาย-หญิง\n",
        "\n",
        "<p> ภาพตัวอย่าง</p>\n",
        "<img src=\"https://github.com/thcktw/python-com-resource/raw/master/lab4datavis/result_of_todo3.png\">"
      ],
      "metadata": {
        "id": "13y9Ir0D17KP"
      }
    },
    {
      "cell_type": "code",
      "execution_count": 8,
      "source": [
        "#Write code below please.\r\n",
        "\r\n",
        "plt.bar(['Male','Female'], [male_number,female_number],color = ['lightgreen','lightblue'])\r\n",
        "plt.xlabel('Sex')\r\n",
        "plt.ylabel('Amount')\r\n",
        "plt.show()"
      ],
      "outputs": [
        {
          "output_type": "display_data",
          "data": {
            "image/png": "[encoded data removed]",
            "text/plain": [
              "<Figure size 432x288 with 1 Axes>"
            ]
          },
          "metadata": {
            "needs_background": "light"
          }
        }
      ],
      "metadata": {
        "id": "XgG5pcBw17KP",
        "colab": {
          "base_uri": "https://localhost:8080/",
          "height": 279
        },
        "outputId": "dfdf70b4-85d5-4bcf-ba4a-09a135a6de09"
      }
    },
    {
      "cell_type": "markdown",
      "source": [
        "# TO DO 4 : เรียงลำดับคะแนนวิชาคณิตศาสตร์และวิชาการอ่านของนักเรียนจากน้อยไปหามาก และแสดงผลคะแนนทั้ง 2 วิชาในรูปแบบกราฟเส้น โดยจำนวนนักเรียนที่ต้องการแสดงบนกราฟเส้นคือ 10 คนแรกที่มีคะแนนน้อยที่สุด\n",
        "<p> ภาพตัวอย่าง</p>\n",
        "<img src=\"https://github.com/thcktw/python-com-resource/raw/master/lab4datavis/result_of_todo4.png\">\n",
        "\n",
        "## ตกแต่งสีสันของกราฟได้ตามใจชอบ :)"
      ],
      "metadata": {
        "id": "LRrcux0X17KR"
      }
    },
    {
      "cell_type": "code",
      "execution_count": 9,
      "source": [
        "# Create index of 100 students and save it in a list \r\n",
        "index_student = [idx+1 for idx in range(len(gender))]\r\n",
        "#print(index_student) #นักเรียน 100 คน\r\n",
        "\r\n",
        "#ดึงค่าคะแนนของนักเรียนทั้ง 3 วิชามาจากDataFrameของPandas\r\n",
        "math_score = csv_data['math score']\r\n",
        "reading_score = csv_data['reading score']\r\n",
        "writing_score = csv_data['writing score']"
      ],
      "outputs": [],
      "metadata": {
        "id": "4IaZf_gD17KS"
      }
    },
    {
      "cell_type": "code",
      "execution_count": 10,
      "source": [
        "#เรียงค่าคะแนนวิชาคณิตศาตร์ และวิชาการอ่านจากน้อยไปหามาก\r\n",
        "#วิชาคณิตศาสตร์ \r\n",
        "#Write code below please.\r\n",
        "math_score_sorted = sorted(math_score)\r\n",
        "#วิชาการอ่าน\r\n",
        "#Write code below please.\r\n",
        "reading_score_sorted = sorted(reading_score)\r\n",
        "\r\n",
        "writing_score_sorted = sorted(writing_score)"
      ],
      "outputs": [],
      "metadata": {
        "id": "JS_kMN6s17KV"
      }
    },
    {
      "cell_type": "code",
      "execution_count": 11,
      "source": [
        "plt.figure(figsize=(10,6))\r\n",
        "# Write code below please. #\r\n",
        "plt.plot(index_student[:10],math_score_sorted[:10],color='fuchsia',label='Math')\r\n",
        "plt.plot(index_student[:10],reading_score_sorted[:10],color='lightblue',label='Reading')\r\n",
        "plt.legend(loc='upper left')\r\n",
        "############################\r\n",
        "plt.title('Line chart comparison on Math and Reading score of 10 students')\r\n",
        "plt.ylabel('Score')\r\n",
        "plt.xlabel('Individual student')\r\n",
        "\r\n",
        "plt.xticks(index_student[:10])\r\n",
        "plt.show()"
      ],
      "outputs": [
        {
          "output_type": "display_data",
          "data": {
            "image/png": "[encoded data removed]",
            "text/plain": [
              "<Figure size 720x432 with 1 Axes>"
            ]
          },
          "metadata": {
            "needs_background": "light"
          }
        }
      ],
      "metadata": {
        "id": "Jp10IWwB17KZ",
        "colab": {
          "base_uri": "https://localhost:8080/",
          "height": 421
        },
        "outputId": "e6816625-e390-4e3f-bc95-8c9ab2739506"
      }
    },
    {
      "cell_type": "markdown",
      "source": [
        "# TO DO 5: หาค่ามัธยฐานและค่าเฉลี่ยของแต่ละวิชา และนำไปแสดงผลบนกราฟแท่งแบบ Multiple plot \n",
        "\n",
        "<p> ภาพตัวอย่าง</p>\n",
        "<img src=\"https://github.com/thcktw/python-com-resource/raw/master/lab4datavis/result_of_todo5_new.png\">"
      ],
      "metadata": {
        "id": "clyAbU7617Kf"
      }
    },
    {
      "cell_type": "code",
      "execution_count": 12,
      "source": [
        "#Write code below please.\r\n",
        "mean_math = sum(math_score)/len(math_score)\r\n",
        "mean_writing = sum(writing_score)/len(writing_score)\r\n",
        "mean_reading = sum(reading_score)/len(reading_score)\r\n",
        "\r\n",
        "median_math = (math_score_sorted[len(math_score_sorted)//2] + math_score_sorted[len(math_score_sorted)//2 - 1])/2\r\n",
        "median_reading = (reading_score_sorted[len(reading_score_sorted)//2] + reading_score_sorted[len(reading_score_sorted)//2 - 1])/2\r\n",
        "median_writing = (writing_score_sorted[len(writing_score_sorted)//2] + writing_score_sorted[len(writing_score_sorted)//2 - 1])/2"
      ],
      "outputs": [],
      "metadata": {
        "id": "jC0ioc8d17Kg"
      }
    },
    {
      "cell_type": "code",
      "execution_count": 13,
      "source": [
        "#Plot multiple bar graph\r\n",
        "#Write code below please.\r\n",
        "N = 3\r\n",
        "width = 0.4\r\n",
        "index_mean = [i for i in range(N)]\r\n",
        "index_median = [i+width for i in range(N)]\r\n",
        "index_subj = [i+width/2 for i in range(N)]\r\n",
        "\r\n",
        "plt.bar(index_mean,[mean_math,mean_reading,mean_writing],width,label = 'Mean')\r\n",
        "plt.bar(index_median,[median_math,median_reading,median_writing],width,label = 'Median')\r\n",
        "\r\n",
        "plt.ylabel('Scores')\r\n",
        "plt.title('Scores by group and gender')\r\n",
        "\r\n",
        "plt.xticks(index_subj,('Math','Reading','Writing'))\r\n",
        "plt.legend(loc='lower right',prop={'size':10})\r\n",
        "\r\n",
        "plt.show()"
      ],
      "outputs": [
        {
          "output_type": "display_data",
          "data": {
            "image/png": "[encoded data removed]",
            "text/plain": [
              "<Figure size 432x288 with 1 Axes>"
            ]
          },
          "metadata": {
            "needs_background": "light"
          }
        }
      ],
      "metadata": {
        "id": "Cbi55F1L17Kn",
        "colab": {
          "base_uri": "https://localhost:8080/",
          "height": 281
        },
        "outputId": "d95f6a07-f465-4ed6-ec74-1fd84172a2af"
      }
    }
  ]
}