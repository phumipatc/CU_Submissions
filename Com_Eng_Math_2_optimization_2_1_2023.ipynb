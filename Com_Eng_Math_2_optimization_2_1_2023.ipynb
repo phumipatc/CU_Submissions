{
  "cells": [
    {
      "cell_type": "markdown",
      "metadata": {
        "id": "igtjcSVqlezm"
      },
      "source": [
        "# <<< Only problem 2 and 6 will be graded. >>>"
      ]
    },
    {
      "cell_type": "markdown",
      "metadata": {
        "id": "fNyty8dyT2Nx"
      },
      "source": [
        "## Problem 1: Simplex method\n",
        "\n",
        "Solve the following program using the Simplex method by hand :\n",
        "$$Objective : max(3x + 4y) $$\n",
        "\\begin{equation*}\n",
        "s.t.\n",
        "\\begin{split}\n",
        "  x + 2y & \\leq 7 \\\\\n",
        "  3x  - y & \\leq 5 \\\\\n",
        "  x -  y & \\leq  2 \\\\\n",
        "  x, y & \\geq 0 \\\\\n",
        "\\end{split}\n",
        "\\end{equation*}\n"
      ]
    },
    {
      "cell_type": "code",
      "execution_count": null,
      "metadata": {
        "id": "ye8gR-Pxqmkr"
      },
      "outputs": [],
      "source": [
        "pass"
      ]
    },
    {
      "cell_type": "markdown",
      "metadata": {
        "id": "mGK1fS97o-SU"
      },
      "source": [
        "## Problem 2 : Two-phased simplex method\n",
        "\n",
        "Solve the following program using a two-phased simplex method by hand :\n",
        "\n",
        "$$Objective : max(3x + 4y) $$\n",
        "\\begin{equation*}\n",
        "s.t.\n",
        "\\begin{split}\n",
        "  x + 2y & \\leq 7 \\\\\n",
        "  3x  - y & \\geq 0 \\\\\n",
        "  x -  y & \\leq  2 \\\\\n",
        "  x, y & \\geq 0 \\\\\n",
        "\\end{split}\n",
        "\\end{equation*}"
      ]
    },
    {
      "cell_type": "code",
      "execution_count": null,
      "metadata": {
        "id": "MgfuA3rOT5LS"
      },
      "outputs": [],
      "source": [
        "pass"
      ]
    },
    {
      "cell_type": "markdown",
      "metadata": {
        "id": "mZ4g9cZa8FGu"
      },
      "source": [
        "## Problem 3 : Unrestricted variable\n",
        "\n",
        "Solve the following program:\n",
        "$$Objective : min(3x + 4y) $$\n",
        "\\begin{equation*}\n",
        "s.t.\n",
        "\\begin{split}\n",
        "  x + 2y & \\leq 7 \\\\\n",
        "  7x  - y & \\geq 2 \\\\\n",
        "  x -  2y & \\leq  2 \\\\\n",
        "\\end{split}\n",
        "\\end{equation*}\n",
        "\n",
        "Find the solution of $x, y$ in a standard form, and explain the behavior of the optimized unrestricted variables."
      ]
    },
    {
      "cell_type": "code",
      "execution_count": null,
      "metadata": {
        "id": "R2Lxn3y9UNyD"
      },
      "outputs": [],
      "source": [
        "pass"
      ]
    },
    {
      "cell_type": "markdown",
      "metadata": {
        "id": "pvtVJdiET5kj"
      },
      "source": [
        "## Problem 4: Proof\n",
        "\n",
        "(Winston p.139 problem 6) For an LP in standard form with constraint $A\\mathbf{x} = \\mathbf{b}$ and $ \\mathbf{x} \\geq 0$ show that $\\mathbf{d}$ is a direction of unboundedness if and only if  $A\\mathbf{d} = 0 $ and $\\mathbf{d} \\geq \\mathbf{0}.$"
      ]
    },
    {
      "cell_type": "code",
      "execution_count": null,
      "metadata": {
        "id": "qpq_14TU8fiF"
      },
      "outputs": [],
      "source": [
        "pass"
      ]
    },
    {
      "cell_type": "markdown",
      "metadata": {
        "id": "rLcCGWriUSzv"
      },
      "source": [
        "## Problem 5:  Multi-objective linear optimization\n",
        "\n",
        "\n",
        "Solve the following program :\n",
        "$$Objective : max(\\{3x + 4y,  4z, y + z\\}) $$\n",
        "\\begin{equation*}\n",
        "s.t.\n",
        "\\begin{split}\n",
        "  x + 2y - 4z & \\leq 7 \\\\\n",
        "  3x  - y + 2z& \\geq 2 \\\\\n",
        "  x -  y  + 3z & \\leq  2 \\\\\n",
        "  x, y, z & \\geq 0 \\\\\n",
        "\\end{split}\n",
        "\\end{equation*}\n"
      ]
    },
    {
      "cell_type": "code",
      "execution_count": null,
      "metadata": {
        "id": "SybqPSULUShJ"
      },
      "outputs": [],
      "source": [
        "pass"
      ]
    },
    {
      "cell_type": "markdown",
      "metadata": {
        "id": "5BIDdc7IUWk9"
      },
      "source": [
        "##  Problem 6:  Hamtaro factory (part 2)\n",
        "\n",
        "After finding the recipe for the Hamtaro snack, he then starts hiring a worker to work for his sweatshop. Initially, he has 50 hamster workers in the factory. However, due to substandard working conditions, 10% of the worker <s >die</s> resign every month. Despite that, Hamtaro does not care about this problem and just hire new workers to fulfill the factory's demand. Before working in the factory, the newly hired hamster has to undergo training for one month to become a skilled worker, of which 40% of the hamsters dropped out before the training finishes as they realize how terrible the Hamtaro factory is. The salary for each hamster worker is 8,000 THB per month, and it cost 500 THB to train each hamster. As Hamtaro predicted the number of required workers each month, how many hamsters should he hire each month to satisfy the factory's demand? Formulate the problem as a linear program and solve for an optimal solution.\n",
        "\n",
        "|  Month | 1  |  2 |  3 |  4 | 5 | 6 |\n",
        "|:-:|:-:|:-:|:-:|:-:|:-:|:-:|\n",
        "| Amount of required factory worker | 40 | 60 | 80 | 40 | 100| 90 |\n",
        "\n",
        "**Note : The optimal solution does not have to be an integer.** </br>\n",
        "\n",
        "\n"
      ]
    },
    {
      "cell_type": "code",
      "execution_count": null,
      "metadata": {
        "id": "RvM5htmiUW5h"
      },
      "outputs": [],
      "source": [
        "# Objective: min(8000*(w1+w2+w3+w4+w5+w6) + 8500*(nw1+nw2+nw3+nw4+nw5))\n",
        "# Constraints: 1. w1 >= 40\n",
        "#              2. w2 >= 60\n",
        "#              3. w3 >= 80\n",
        "#              4. w4 >= 40\n",
        "#              5. w5 >= 100\n",
        "#              6. w6 >= 90\n",
        "#              7. w1 = 50\n",
        "#              8. w2 = 0.9*w1 + 0.6*nw1\n",
        "#              9. w3 = 0.9*w2 + 0.6*nw2\n",
        "#              10. w4 = 0.9*w3 + 0.6*nw3\n",
        "#              11. w5 = 0.9*w4 + 0.6*nw4\n",
        "#              12. w6 = 0.9*w5 + 0.6*nw5\n",
        "#              13. wi,nwi >= 0\n",
        "\n",
        "# convert to standard form\n",
        "# Constraints: 0. w2 - s2 = 60\n",
        "#              1. w3 - s3 = 80\n",
        "#              2. w4 - s4 = 40\n",
        "#              3. w5 - s5 = 100\n",
        "#              4. w6 - s6 = 90\n",
        "#              5. w1 = 50\n",
        "#              6. -0.9w1 + w2 - 0.6nw1 = 0\n",
        "#              7. -0.9w2 + w3 - 0.6nw2 = 0\n",
        "#              8. -0.9w3 + w4 - 0.6nw3 = 0\n",
        "#              9. -0.9w4 + w5 - 0.6nw4 = 0\n",
        "#              10. -0.9w5 + w6 - 0.6nw5 = 0\n",
        "#              11. wi, nwi, si >= 0"
      ]
    },
    {
      "cell_type": "code",
      "execution_count": 1,
      "metadata": {},
      "outputs": [],
      "source": [
        "from scipy.optimize import linprog\n",
        "import numpy as np"
      ]
    },
    {
      "cell_type": "code",
      "execution_count": 3,
      "metadata": {},
      "outputs": [
        {
          "data": {
            "text/plain": [
              "array([8000, 8000, 8000, 8000, 8000, 8000, 8500, 8500, 8500, 8500, 8500,\n",
              "          0,    0,    0,    0,    0])"
            ]
          },
          "execution_count": 3,
          "metadata": {},
          "output_type": "execute_result"
        }
      ],
      "source": [
        "c_T = np.array([8000]*6 + [8500]*5 + [0]*5)\n",
        "c_T"
      ]
    },
    {
      "cell_type": "code",
      "execution_count": 4,
      "metadata": {},
      "outputs": [
        {
          "data": {
            "text/plain": [
              "array([ 60,  80,  40, 100,  90,  50,   0,   0,   0,   0,   0])"
            ]
          },
          "execution_count": 4,
          "metadata": {},
          "output_type": "execute_result"
        }
      ],
      "source": [
        "b = np.array([60,80,40,100,90,50,0,0,0,0,0])\n",
        "b"
      ]
    },
    {
      "cell_type": "code",
      "execution_count": 13,
      "metadata": {},
      "outputs": [
        {
          "data": {
            "text/plain": [
              "array([[ 0. ,  1. ,  0. ,  0. ,  0. ,  0. ,  0. ,  0. ,  0. ,  0. ,  0. ,\n",
              "        -1. ,  0. ,  0. ,  0. ,  0. ],\n",
              "       [ 0. ,  0. ,  1. ,  0. ,  0. ,  0. ,  0. ,  0. ,  0. ,  0. ,  0. ,\n",
              "         0. , -1. ,  0. ,  0. ,  0. ],\n",
              "       [ 0. ,  0. ,  0. ,  1. ,  0. ,  0. ,  0. ,  0. ,  0. ,  0. ,  0. ,\n",
              "         0. ,  0. , -1. ,  0. ,  0. ],\n",
              "       [ 0. ,  0. ,  0. ,  0. ,  1. ,  0. ,  0. ,  0. ,  0. ,  0. ,  0. ,\n",
              "         0. ,  0. ,  0. , -1. ,  0. ],\n",
              "       [ 0. ,  0. ,  0. ,  0. ,  0. ,  1. ,  0. ,  0. ,  0. ,  0. ,  0. ,\n",
              "         0. ,  0. ,  0. ,  0. , -1. ],\n",
              "       [ 1. ,  0. ,  0. ,  0. ,  0. ,  0. ,  0. ,  0. ,  0. ,  0. ,  0. ,\n",
              "         0. ,  0. ,  0. ,  0. ,  0. ],\n",
              "       [-0.9,  1. ,  0. ,  0. ,  0. ,  0. , -0.6,  0. ,  0. ,  0. ,  0. ,\n",
              "         0. ,  0. ,  0. ,  0. ,  0. ],\n",
              "       [ 0. , -0.9,  1. ,  0. ,  0. ,  0. ,  0. , -0.6,  0. ,  0. ,  0. ,\n",
              "         0. ,  0. ,  0. ,  0. ,  0. ],\n",
              "       [ 0. ,  0. , -0.9,  1. ,  0. ,  0. ,  0. ,  0. , -0.6,  0. ,  0. ,\n",
              "         0. ,  0. ,  0. ,  0. ,  0. ],\n",
              "       [ 0. ,  0. ,  0. , -0.9,  1. ,  0. ,  0. ,  0. ,  0. , -0.6,  0. ,\n",
              "         0. ,  0. ,  0. ,  0. ,  0. ],\n",
              "       [ 0. ,  0. ,  0. ,  0. , -0.9,  1. ,  0. ,  0. ,  0. ,  0. , -0.6,\n",
              "         0. ,  0. ,  0. ,  0. ,  0. ]])"
            ]
          },
          "execution_count": 13,
          "metadata": {},
          "output_type": "execute_result"
        }
      ],
      "source": [
        "A = np.zeros((11,16))\n",
        "# \t\t\t\t w,w,w,w,w,w,n,n,n,n,n,s,s,s,s,s\n",
        "# \t\t\t\t 1,2,3,4,5,6,1,2,3,4,5,2,3,4,5,6\n",
        "A[0] = np.array([0,1,0,0,0,0,0,0,0,0,0,-1,0,0,0,0])\n",
        "A[1] = np.array([0,0,1,0,0,0,0,0,0,0,0,0,-1,0,0,0])\n",
        "A[2] = np.array([0,0,0,1,0,0,0,0,0,0,0,0,0,-1,0,0])\n",
        "A[3] = np.array([0,0,0,0,1,0,0,0,0,0,0,0,0,0,-1,0])\n",
        "A[4] = np.array([0,0,0,0,0,1,0,0,0,0,0,0,0,0,0,-1])\n",
        "A[5] = np.array([1,0,0,0,0,0,0,0,0,0,0,0,0,0,0,0])\n",
        "A[6] = np.array([-0.9,1,0,0,0,0,-0.6,0,0,0,0,0,0,0,0,0])\n",
        "A[7] = np.array([0,-0.9,1,0,0,0,0,-0.6,0,0,0,0,0,0,0,0])\n",
        "A[8] = np.array([0,0,-0.9,1,0,0,0,0,-0.6,0,0,0,0,0,0,0])\n",
        "A[9] = np.array([0,0,0,-0.9,1,0,0,0,0,-0.6,0,0,0,0,0,0])\n",
        "A[10] = np.array([0,0,0,0,-0.9,1,0,0,0,0,-0.6,0,0,0,0,0])\n",
        "A"
      ]
    },
    {
      "cell_type": "code",
      "execution_count": 6,
      "metadata": {},
      "outputs": [
        {
          "data": {
            "text/plain": [
              "[(0, None),\n",
              " (0, None),\n",
              " (0, None),\n",
              " (0, None),\n",
              " (0, None),\n",
              " (0, None),\n",
              " (0, None),\n",
              " (0, None),\n",
              " (0, None),\n",
              " (0, None),\n",
              " (0, None),\n",
              " (0, None),\n",
              " (0, None),\n",
              " (0, None),\n",
              " (0, None),\n",
              " (0, None)]"
            ]
          },
          "execution_count": 6,
          "metadata": {},
          "output_type": "execute_result"
        }
      ],
      "source": [
        "bounds = [(0,None)]*16\n",
        "bounds"
      ]
    },
    {
      "cell_type": "code",
      "execution_count": 15,
      "metadata": {},
      "outputs": [
        {
          "name": "stdout",
          "output_type": "stream",
          "text": [
            "Overall Cost:  4695500.0\n",
            "Month 1: 50.0 old workers and 25.0 new workers\n",
            "Month 2: 60.0 old workers and 43.3 new workers\n",
            "Month 3: 80.0 old workers and 0.0 new workers\n",
            "Month 4: 72.0 old workers and 58.7 new workers\n",
            "Month 5: 100.0 old workers and -0.0 new workers\n",
            "Month 6: 90.0 old workers\n"
          ]
        },
        {
          "name": "stderr",
          "output_type": "stream",
          "text": [
            "C:\\Users\\bossy\\AppData\\Local\\Temp\\ipykernel_13416\\3428104533.py:1: DeprecationWarning: `method='simplex'` is deprecated and will be removed in SciPy 1.11.0. Please use one of the HiGHS solvers (e.g. `method='highs'`) in new code.\n",
            "  result = linprog(c = c_T, b_eq=b, A_eq=A, bounds=bounds, method='simplex')\n"
          ]
        }
      ],
      "source": [
        "result = linprog(c = c_T, b_eq=b, A_eq=A, bounds=bounds, method='simplex')\n",
        "print(\"Overall Cost: \", result.fun)\n",
        "print(\"Month 1: {} old workers and {} new workers\".format(result.x[0].round(1), result.x[6].round(1)))\n",
        "print(\"Month 2: {} old workers and {} new workers\".format(result.x[1].round(1), result.x[7].round(1)))\n",
        "print(\"Month 3: {} old workers and {} new workers\".format(result.x[2].round(1), result.x[8].round(1)))\n",
        "print(\"Month 4: {} old workers and {} new workers\".format(result.x[3].round(1), result.x[9].round(1)))\n",
        "print(\"Month 5: {} old workers and {} new workers\".format(result.x[4].round(1), result.x[10].round(1)))\n",
        "print(\"Month 6: {} old workers\".format(result.x[5].round(1)))"
      ]
    },
    {
      "cell_type": "markdown",
      "metadata": {
        "id": "T6R22Z_OU90H"
      },
      "source": [
        "## Problem 7: $l_1$ regression\n",
        "\n",
        "There are some special non-linear problems that could be transformed into a linear program. Absolute value is on one of them.\n",
        "\n",
        "\n",
        "Assuming that $  \\forall j, c_j >0 $, the program\n",
        "$$Objective : min(c_1|x_1| + c_2|x_2| + ... + c_n|x_n|) $$\n",
        "\n",
        "\\begin{equation*}\n",
        "s.t.\n",
        "\\begin{split}\n",
        "  a_{i,1}x_1 +  a_{i,2}x_2 + ...  a_{i,m}x_n & \\geq b \\space\\space\\space\\space for \\space\\space i = 1, 2, ..., m\\\\\n",
        "\\end{split}\n",
        "\\end{equation*}\n",
        "\n",
        "could be transformed into a linear program. To transform the program above, we write :\n",
        "\n",
        "$$ x_j = x^+_j - x^-_j $$\n",
        "\n",
        "and replace $|x_j|$ into $ x^+_j + x^-_j $ then add $ x^+_j,  x^-_j \\geq 0.$ Therefore, the linear program for the problem is :\n",
        "\n",
        "$$Objective : min(c_1(x_1^+ + x_1^-) + c_2(x_2^+ + x_2^-) + ... + c_n(x_n^+ + x_n^-)) $$\n",
        "\n",
        "\\begin{equation*}\n",
        "s.t.\n",
        "\\begin{split}\n",
        "  a_{i,1}(x_1^+ - x_1^-) +  a_{i,2}(x_2^+ - x_2^-) + ...  a_{i,m}(x_n^+ - x_n^-) & \\geq b\\\\\n",
        "  \\forall j, \\space x_j^+, x_j^- & \\geq 0\n",
        "\\end{split}\n",
        "\\end{equation*}\n",
        "\n",
        "Being able to solve a linear program for absolute values allow us to solve new problems, of which one of them is a $l_1$ regression.\n",
        "\n"
      ]
    },
    {
      "cell_type": "markdown",
      "metadata": {
        "id": "cVE4eQhD-pmp"
      },
      "source": [
        "#### Consider the following datapoints :"
      ]
    },
    {
      "cell_type": "code",
      "execution_count": null,
      "metadata": {
        "id": "93s85ELfU-2e"
      },
      "outputs": [],
      "source": [
        "import numpy as np\n",
        "x = np.array([0.1, -1  , -0.4,  2.3, 1.1, 3.2, 1, 4.1, -1.2, 0.9, 5, 0, 7])\n",
        "y = np.array([2   , 1.2, 0.7  , 4   , 3   , 5   , 2, 3   , 0   , 25  , 6, 1,6])"
      ]
    },
    {
      "cell_type": "markdown",
      "metadata": {
        "id": "iTzs2XwaCcRj"
      },
      "source": [
        "As you have already learned in COM ENG MATH I class, we could find a line that best fit these datapoints by using the least square method, which could be written in a mathematical program shown below :\n",
        "\n",
        "####Decision variable $\\beta_1, \\beta_0$\n",
        "\n",
        "\n",
        "$$Objective : min( \\sum_{i=1}^{N}(y_i - (\\beta_1x_i + \\beta_0))^2) $$\n",
        "\\begin{equation*}\n",
        "s.t.\n",
        "\\begin{split}\n",
        "  \\beta_1, \\beta_0 \\in R\n",
        "\\end{split}\n",
        "\\end{equation*}\n",
        "\n"
      ]
    },
    {
      "cell_type": "code",
      "execution_count": null,
      "metadata": {
        "colab": {
          "base_uri": "https://localhost:8080/",
          "height": 279
        },
        "id": "-7ylL-7a_awP",
        "outputId": "eaa55890-5f9b-4951-b034-024b7ae1536f"
      },
      "outputs": [
        {
          "data": {
            "image/png": "[encoded data removed]",
            "text/plain": [
              "<Figure size 432x288 with 1 Axes>"
            ]
          },
          "metadata": {
            "needs_background": "light",
            "tags": []
          },
          "output_type": "display_data"
        }
      ],
      "source": [
        "from sklearn.linear_model import LinearRegression\n",
        "import matplotlib.pyplot as plt\n",
        "reg = LinearRegression().fit(x.reshape(-1, 1), y.reshape(-1, 1))\n",
        "beta_1, beta_0 = (reg.coef_)[0,0], reg.intercept_[0]\n",
        "\n",
        "x_pred = np.linspace(-2, 7, 100)\n",
        "y_pred = beta_1 * x_pred + beta_0\n",
        "plt.plot(x_pred, y_pred, '--', label = 'Best fit line using the least square method')\n",
        "plt.scatter(x, y)\n",
        "plt.legend()\n",
        "plt.xlabel('x')\n",
        "plt.ylabel('y')\n",
        "plt.show()"
      ]
    },
    {
      "cell_type": "markdown",
      "metadata": {
        "id": "941-bKTNFIDt"
      },
      "source": [
        "From the result above, by using the least square method, the line is not properly fit when the outliers are in the data. Therefore, in this situation, $l_1$ regression is often used as an alternative.\n",
        "\n",
        "A mathematical program for $l_1$ regression is:\n",
        "\n",
        "####Decision variable $\\beta_1, \\beta_0$\n",
        "\n",
        "$$Objective : min( \\sum_{i=1}^{N}|y_i - (\\beta_1x_i + \\beta_0)|) $$\n",
        "\\begin{equation*}\n",
        "s.t.\n",
        "\\begin{split}\n",
        "  \\beta_1, \\beta_0 \\in R\n",
        "\\end{split}\n",
        "\\end{equation*}\n",
        "\n",
        "\n",
        "\n",
        "Find $\\beta_1, \\beta_0$ using $l_1$ regression by reformulating the problem as a linear program,  and compare the result with the least square method by plotting the line generated $l_1$ regression. Which one is better, and why?\n",
        "\n",
        "**WARNING : Be careful.** </br>\n"
      ]
    },
    {
      "cell_type": "code",
      "execution_count": null,
      "metadata": {
        "id": "e7xx84p42jss"
      },
      "outputs": [],
      "source": [
        "pass"
      ]
    },
    {
      "cell_type": "markdown",
      "metadata": {
        "id": "WR_-zWHdtu5L"
      },
      "source": [
        "# Problem 8: Duality Theorem\n",
        "\n",
        "Corresponding to a given **primal form** linear programming problem\n",
        "\n",
        "$$Objective : max( c^Tx) $$\n",
        "\\begin{equation*}\n",
        "s.t.\n",
        "\\begin{split}\n",
        "  Ax \\leq b \\\\\n",
        "  x \\geq 0\n",
        "\\end{split}\n",
        "\\end{equation*}\n",
        "\n",
        "there is another problem called **dual form** as follow:\n",
        "\n",
        "$$Objective : min( b^Ty) $$\n",
        "\\begin{equation*}\n",
        "s.t.\n",
        "\\begin{split}\n",
        "  A^Ty & \\geq c \\\\\n",
        "  y & \\geq 0 \\\\\n",
        "\\end{split}\n",
        "\\end{equation*}\n",
        "\n",
        "The **strong duality theorem** says that the objective of the two LPs will be equal.\n",
        "\n",
        "In this problem we will use this property to convert between forms and show the potential usefulness of duality."
      ]
    },
    {
      "cell_type": "markdown",
      "metadata": {
        "id": "77sKvQI4tu5T"
      },
      "source": [
        "## 8.1\n",
        "\n",
        "Solve the following primal form LP :\n",
        "\n",
        "$$Objective : min(3x_1 - 2x_2 + 4x_3) $$\n",
        "\\begin{equation*}\n",
        "s.t.\n",
        "\\begin{split}\n",
        "  -2x_1 + 5x_2 - 4x_3& \\leq -7 \\\\\n",
        "  -6x_1 - x_2 + 3x_3& \\leq -4 \\\\\n",
        "  7x_1 + 2x_2 + x_3& \\leq 10 \\\\\n",
        "  1x_1 - 2x_2 - 5x_3& \\leq -3 \\\\\n",
        "  -2x_1 + 7x_2 - 2x_3& \\leq -2 \\\\\n",
        "  x_1, x_2, x_3& \\geq 0 \\\\\n",
        "\\end{split}\n",
        "\\end{equation*}\n",
        "\n"
      ]
    },
    {
      "cell_type": "markdown",
      "metadata": {
        "id": "ubF0LCLhatub"
      },
      "source": [
        "# 8.2\n",
        "\n",
        "Compare the primal and dual form, which one take more iterations to solve? What might have caused this? Discuss the potential advantages of this technique in real world problems."
      ]
    },
    {
      "cell_type": "markdown",
      "metadata": {
        "id": "XdTeFd4AbmtY"
      },
      "source": [
        "Ans:"
      ]
    },
    {
      "cell_type": "markdown",
      "metadata": {
        "id": "euZ-TOePNN-T"
      },
      "source": [
        "# 8.3 Proving **weak duality theorem**\n",
        "\n",
        "The weak duality theorem states that the dual will be an upper-bound of the primal. In other words,\n",
        "\n",
        "If $x \\in R^n$ is a feasible solution (not necessary optimal) for the primal and $y \\in R^m$ is a feasible solution for the dual, then\n",
        "\n",
        "$$ c^Tx \\leq b^Ty$$\n",
        "\n",
        "Prove the weak duality theorem\n",
        "\n",
        "(Hint: if x and y are feasible solutions, the constrains must be true)"
      ]
    },
    {
      "cell_type": "code",
      "execution_count": null,
      "metadata": {
        "id": "vyo8hDUKumFo"
      },
      "outputs": [],
      "source": [
        "pass"
      ]
    },
    {
      "cell_type": "markdown",
      "metadata": {
        "id": "cyoIIK-ud48m"
      },
      "source": [
        "## Additional info about Duality (optional)\n",
        "\n",
        "The strong duality can be shown from the weak duality if we use the simplex method or can be proved using Farkas's Lemma. See TA's solution for the proof of the strong duality theorem.\n",
        "\n",
        "For LPs, the strong duality always hold. For general optimization problems, only weak duality applies.\n",
        "\n",
        "The duality theorem provides another way to look into a particular problem and can be a powerful tool for problem interpretation.\n",
        "\n",
        "Let's consider a very trivial problem to illustrate this.\n",
        "\n",
        "**Primal problem (max)**\n",
        "\n",
        "A tree can be used to produce 3 chairs or 2 tables. A chair sells for 30. A table sells for 40. Find the optimal revenue for a carpenter using this tree.\n",
        "\n",
        "Let $c$ and $t$ be the amount of chairs and tables to produce, respectively. \\\\\n",
        "\n",
        "$$Objective : max(30c + 40t) $$\n",
        "\\begin{equation*}\n",
        "s.t.\n",
        "\\begin{split}\n",
        "\\frac{1}{3}c + \\frac{1}{2}t \\leq 1 \\\\\n",
        "c,t \\geq 0\n",
        "\\end{split}\n",
        "\\end{equation*}\n",
        "\n",
        "**Dual problem (min)**\n",
        "\n",
        "A business man wants to buy the tree from the carpenter. Find the optimal price for the businessman. In this case, the constraint dictates that the price should be high enough for the carpenter to sell if he were to fully make the tree into a chair or a table.\n",
        "\n",
        "Let $p$ be the price of a tree that the businessman should pay for. \\\\\n",
        "\n",
        "$$Objective : min(1p) $$\n",
        "\\begin{equation*}\n",
        "s.t.\n",
        "\\begin{split}\n",
        "\\frac{1}{3}p\\geq 30 \\\\\n",
        "\\frac{1}{2}p\\geq 40 \\\\\n",
        "p \\geq 0\n",
        "\\end{split}\n",
        "\\end{equation*}\n",
        "\n",
        "The conversion between Primal and Dual provided here is very specific. However, there is a more generic way to convert between the two forms which make it applicable to more types of problems. For more details on duality see Chapter 6 in the book."
      ]
    },
    {
      "cell_type": "code",
      "execution_count": null,
      "metadata": {
        "id": "kc4Tk9e-up9z"
      },
      "outputs": [],
      "source": [
        "pass"
      ]
    }
  ],
  "metadata": {
    "colab": {
      "provenance": []
    },
    "kernelspec": {
      "display_name": "Python 3",
      "name": "python3"
    },
    "language_info": {
      "codemirror_mode": {
        "name": "ipython",
        "version": 3
      },
      "file_extension": ".py",
      "mimetype": "text/x-python",
      "name": "python",
      "nbconvert_exporter": "python",
      "pygments_lexer": "ipython3",
      "version": "3.10.7"
    }
  },
  "nbformat": 4,
  "nbformat_minor": 0
}
